{
 "cells": [
  {
   "cell_type": "code",
   "execution_count": 332,
   "metadata": {},
   "outputs": [],
   "source": [
    "import pandas as pd\n",
    "import numpy as np \n",
    "import matplotlib.pyplot as plt\n",
    "%matplotlib inline"
   ]
  },
  {
   "cell_type": "code",
   "execution_count": 333,
   "metadata": {},
   "outputs": [],
   "source": [
    "data_1_sheet_kmg = pd.read_excel(r\"C:\\Users\\samen\\datasheet1.xlsx\",sheet_name=\"GS-KS-MS data sheet 1\")"
   ]
  },
  {
   "cell_type": "code",
   "execution_count": 334,
   "metadata": {},
   "outputs": [],
   "source": [
    "try:\n",
    "    data_1_sheet_kmg.drop('Outlet tagging',axis=1,inplace=True)\n",
    "except:\n",
    "    pass"
   ]
  },
  {
   "cell_type": "code",
   "execution_count": 335,
   "metadata": {},
   "outputs": [],
   "source": [
    "data_1_sheet_kmg=pd.DataFrame(data_1_sheet_kmg)"
   ]
  },
  {
   "cell_type": "code",
   "execution_count": 336,
   "metadata": {},
   "outputs": [
    {
     "data": {
      "text/plain": [
       "(22193, 9)"
      ]
     },
     "execution_count": 336,
     "metadata": {},
     "output_type": "execute_result"
    }
   ],
   "source": [
    "data_1_sheet_kmg.shape"
   ]
  },
  {
   "cell_type": "markdown",
   "metadata": {},
   "source": [
    "# KPI BEGIN"
   ]
  },
  {
   "cell_type": "code",
   "execution_count": 337,
   "metadata": {},
   "outputs": [
    {
     "data": {
      "text/html": [
       "<div>\n",
       "<style scoped>\n",
       "    .dataframe tbody tr th:only-of-type {\n",
       "        vertical-align: middle;\n",
       "    }\n",
       "\n",
       "    .dataframe tbody tr th {\n",
       "        vertical-align: top;\n",
       "    }\n",
       "\n",
       "    .dataframe thead th {\n",
       "        text-align: right;\n",
       "    }\n",
       "</style>\n",
       "<table border=\"1\" class=\"dataframe\">\n",
       "  <thead>\n",
       "    <tr style=\"text-align: right;\">\n",
       "      <th></th>\n",
       "      <th>customer</th>\n",
       "      <th>re</th>\n",
       "      <th>stockist_code</th>\n",
       "      <th>city</th>\n",
       "      <th>mth</th>\n",
       "      <th>sales_value</th>\n",
       "      <th>uniq_npg</th>\n",
       "      <th>qty</th>\n",
       "      <th>invoices</th>\n",
       "    </tr>\n",
       "  </thead>\n",
       "  <tbody>\n",
       "    <tr>\n",
       "      <th>0</th>\n",
       "      <td>C001176984</td>\n",
       "      <td>MS</td>\n",
       "      <td>16173675</td>\n",
       "      <td>TRIVANDRUM</td>\n",
       "      <td>8</td>\n",
       "      <td>0.00</td>\n",
       "      <td>0</td>\n",
       "      <td>1.0</td>\n",
       "      <td>1</td>\n",
       "    </tr>\n",
       "    <tr>\n",
       "      <th>1</th>\n",
       "      <td>C000531094</td>\n",
       "      <td>KS</td>\n",
       "      <td>16326412</td>\n",
       "      <td>TRIVANDRUM</td>\n",
       "      <td>9</td>\n",
       "      <td>0.00</td>\n",
       "      <td>29</td>\n",
       "      <td>0.0</td>\n",
       "      <td>29</td>\n",
       "    </tr>\n",
       "    <tr>\n",
       "      <th>2</th>\n",
       "      <td>C000531094</td>\n",
       "      <td>KS</td>\n",
       "      <td>16326412</td>\n",
       "      <td>TRIVANDRUM</td>\n",
       "      <td>10</td>\n",
       "      <td>4803.66</td>\n",
       "      <td>26</td>\n",
       "      <td>125.0</td>\n",
       "      <td>50</td>\n",
       "    </tr>\n",
       "    <tr>\n",
       "      <th>3</th>\n",
       "      <td>C000531122</td>\n",
       "      <td>MS</td>\n",
       "      <td>16326412</td>\n",
       "      <td>TRIVANDRUM</td>\n",
       "      <td>2</td>\n",
       "      <td>2265.53</td>\n",
       "      <td>21</td>\n",
       "      <td>68.0</td>\n",
       "      <td>23</td>\n",
       "    </tr>\n",
       "    <tr>\n",
       "      <th>4</th>\n",
       "      <td>C000531760</td>\n",
       "      <td>GS</td>\n",
       "      <td>16326412</td>\n",
       "      <td>TRIVANDRUM</td>\n",
       "      <td>1</td>\n",
       "      <td>6294.47</td>\n",
       "      <td>21</td>\n",
       "      <td>177.0</td>\n",
       "      <td>21</td>\n",
       "    </tr>\n",
       "    <tr>\n",
       "      <th>...</th>\n",
       "      <td>...</td>\n",
       "      <td>...</td>\n",
       "      <td>...</td>\n",
       "      <td>...</td>\n",
       "      <td>...</td>\n",
       "      <td>...</td>\n",
       "      <td>...</td>\n",
       "      <td>...</td>\n",
       "      <td>...</td>\n",
       "    </tr>\n",
       "    <tr>\n",
       "      <th>22188</th>\n",
       "      <td>C000531717</td>\n",
       "      <td>GS</td>\n",
       "      <td>16326412</td>\n",
       "      <td>TRIVANDRUM</td>\n",
       "      <td>12</td>\n",
       "      <td>9127.63</td>\n",
       "      <td>19</td>\n",
       "      <td>200.0</td>\n",
       "      <td>26</td>\n",
       "    </tr>\n",
       "    <tr>\n",
       "      <th>22189</th>\n",
       "      <td>C000531498</td>\n",
       "      <td>MS</td>\n",
       "      <td>16326412</td>\n",
       "      <td>TRIVANDRUM</td>\n",
       "      <td>12</td>\n",
       "      <td>2812.46</td>\n",
       "      <td>19</td>\n",
       "      <td>102.0</td>\n",
       "      <td>19</td>\n",
       "    </tr>\n",
       "    <tr>\n",
       "      <th>22190</th>\n",
       "      <td>C001774693</td>\n",
       "      <td>MS</td>\n",
       "      <td>16326412</td>\n",
       "      <td>TRIVANDRUM</td>\n",
       "      <td>12</td>\n",
       "      <td>2956.95</td>\n",
       "      <td>19</td>\n",
       "      <td>97.0</td>\n",
       "      <td>19</td>\n",
       "    </tr>\n",
       "    <tr>\n",
       "      <th>22191</th>\n",
       "      <td>C002285711</td>\n",
       "      <td>KS</td>\n",
       "      <td>16328458</td>\n",
       "      <td>TRISSUR</td>\n",
       "      <td>1</td>\n",
       "      <td>4269.02</td>\n",
       "      <td>19</td>\n",
       "      <td>105.0</td>\n",
       "      <td>19</td>\n",
       "    </tr>\n",
       "    <tr>\n",
       "      <th>22192</th>\n",
       "      <td>C000721341</td>\n",
       "      <td>KS</td>\n",
       "      <td>16328641</td>\n",
       "      <td>TRIVANDRUM</td>\n",
       "      <td>12</td>\n",
       "      <td>6392.54</td>\n",
       "      <td>19</td>\n",
       "      <td>187.0</td>\n",
       "      <td>21</td>\n",
       "    </tr>\n",
       "  </tbody>\n",
       "</table>\n",
       "<p>22193 rows × 9 columns</p>\n",
       "</div>"
      ],
      "text/plain": [
       "         customer  re  stockist_code        city  mth  sales_value  uniq_npg  \\\n",
       "0      C001176984  MS       16173675  TRIVANDRUM    8         0.00         0   \n",
       "1      C000531094  KS       16326412  TRIVANDRUM    9         0.00        29   \n",
       "2      C000531094  KS       16326412  TRIVANDRUM   10      4803.66        26   \n",
       "3      C000531122  MS       16326412  TRIVANDRUM    2      2265.53        21   \n",
       "4      C000531760  GS       16326412  TRIVANDRUM    1      6294.47        21   \n",
       "...           ...  ..            ...         ...  ...          ...       ...   \n",
       "22188  C000531717  GS       16326412  TRIVANDRUM   12      9127.63        19   \n",
       "22189  C000531498  MS       16326412  TRIVANDRUM   12      2812.46        19   \n",
       "22190  C001774693  MS       16326412  TRIVANDRUM   12      2956.95        19   \n",
       "22191  C002285711  KS       16328458     TRISSUR    1      4269.02        19   \n",
       "22192  C000721341  KS       16328641  TRIVANDRUM   12      6392.54        19   \n",
       "\n",
       "         qty  invoices  \n",
       "0        1.0         1  \n",
       "1        0.0        29  \n",
       "2      125.0        50  \n",
       "3       68.0        23  \n",
       "4      177.0        21  \n",
       "...      ...       ...  \n",
       "22188  200.0        26  \n",
       "22189  102.0        19  \n",
       "22190   97.0        19  \n",
       "22191  105.0        19  \n",
       "22192  187.0        21  \n",
       "\n",
       "[22193 rows x 9 columns]"
      ]
     },
     "execution_count": 337,
     "metadata": {},
     "output_type": "execute_result"
    }
   ],
   "source": [
    "data_1_sheet_kmg.fillna(0,inplace=True)\n",
    "data_1_sheet_kmg"
   ]
  },
  {
   "cell_type": "code",
   "execution_count": 379,
   "metadata": {},
   "outputs": [],
   "source": [
    "city_category = list(data_1_sheet_kmg['city'].unique())\n",
    "city_category\n",
    "len_city_category = len(city_category)"
   ]
  },
  {
   "cell_type": "code",
   "execution_count": 380,
   "metadata": {},
   "outputs": [],
   "source": [
    "len_customer = len(data_1_sheet_kmg['customer'].unique())"
   ]
  },
  {
   "cell_type": "code",
   "execution_count": 381,
   "metadata": {},
   "outputs": [
    {
     "data": {
      "text/plain": [
       "['TRIVANDRUM', 'TRISSUR']"
      ]
     },
     "execution_count": 381,
     "metadata": {},
     "output_type": "execute_result"
    }
   ],
   "source": [
    "city_category"
   ]
  },
  {
   "cell_type": "code",
   "execution_count": 382,
   "metadata": {},
   "outputs": [],
   "source": [
    "re = list(data_1_sheet_kmg['re'].unique())"
   ]
  },
  {
   "cell_type": "code",
   "execution_count": 383,
   "metadata": {},
   "outputs": [
    {
     "data": {
      "text/plain": [
       "['MS', 'KS', 'GS']"
      ]
     },
     "execution_count": 383,
     "metadata": {},
     "output_type": "execute_result"
    }
   ],
   "source": [
    "re\n"
   ]
  },
  {
   "cell_type": "code",
   "execution_count": 384,
   "metadata": {},
   "outputs": [],
   "source": [
    "i=0\n",
    "count=0\n",
    "name=\"dataframe_new\""
   ]
  },
  {
   "cell_type": "code",
   "execution_count": 385,
   "metadata": {},
   "outputs": [],
   "source": [
    "d={}"
   ]
  },
  {
   "cell_type": "code",
   "execution_count": 386,
   "metadata": {},
   "outputs": [],
   "source": [
    "#city_category = ['TRIVANDRUM']\n",
    "#re = ['MS']"
   ]
  },
  {
   "cell_type": "code",
   "execution_count": 387,
   "metadata": {},
   "outputs": [],
   "source": [
    "#kpi=pd.DataFrame()"
   ]
  },
  {
   "cell_type": "code",
   "execution_count": 388,
   "metadata": {},
   "outputs": [],
   "source": [
    "#df.loc[(df['a'] == 1) & (df['c'] == 2), 'b'].sum()"
   ]
  },
  {
   "cell_type": "code",
   "execution_count": null,
   "metadata": {},
   "outputs": [],
   "source": []
  },
  {
   "cell_type": "code",
   "execution_count": 389,
   "metadata": {},
   "outputs": [
    {
     "name": "stdout",
     "output_type": "stream",
     "text": [
      "re=MS running\n",
      "here\n",
      "0\n",
      "re=KS running\n",
      "here\n",
      "1\n",
      "re=GS running\n",
      "here\n",
      "2\n",
      "re=MS running\n",
      "here\n",
      "0\n",
      "re=KS running\n",
      "here\n",
      "1\n",
      "re=GS running\n",
      "here\n",
      "2\n"
     ]
    }
   ],
   "source": [
    "for c in city_category:\n",
    "    sheet_1_tvm = data_1_sheet_kmg[data_1_sheet_kmg['city']==c]\n",
    "    for i in range(len(re)):\n",
    "        print(\"re=\" + re[i]+ str(' running'))\n",
    "        \n",
    "        tvm_ks = sheet_1_tvm[sheet_1_tvm['re']==re[i]]\n",
    "        tvm_ks_customer = list(tvm_ks['customer'].unique())\n",
    "        month_cat = list(tvm_ks['mth'].unique())\n",
    "        sum_df = []\n",
    "        sum_ppg=[]\n",
    "        call_sum = []\n",
    "        cat = []\n",
    "        #print(tvm_ks['mth'])\n",
    "        #mth=[]\n",
    "        m=[]\n",
    "        m_df = pd.DataFrame(columns=month_cat)\n",
    "        \n",
    "        for k in tvm_ks_customer:\n",
    "            sum_df.append(int(round(tvm_ks.loc[tvm_ks['customer']==k,'sales_value'].sum())))\n",
    "            sum_ppg.append(tvm_ks.loc[tvm_ks['customer']==k,'uniq_npg'].sum())\n",
    "            call_sum.append(tvm_ks.loc[tvm_ks['customer']==k,'invoices'].sum())\n",
    "            for mt in month_cat:\n",
    "                mth=tvm_ks.loc[(tvm_ks['mth']==mt) &(tvm_ks['customer']==k),'sales_value'].sum()\n",
    "                #m[\"{}\".format(mt)]=mth\n",
    "                m.append(mth)\n",
    "            m=pd.Series(m,index=m_df.columns)\n",
    "            m_df = m_df.append(m,ignore_index=True)\n",
    "            m=[]\n",
    "            month_cat = list(tvm_ks['mth'].unique())\n",
    "            #m_sum_t = \n",
    "            \n",
    "                \n",
    "                #print(mth)\n",
    "                #quit()\n",
    "                \n",
    "        tvm_ks_final = pd.DataFrame()\n",
    "        #print(c)\n",
    "        tvm_ks_final['customer'] = tvm_ks_customer\n",
    "        city = [str(c) for i in range(tvm_ks_final.shape[0])]\n",
    "        tvm_ks_final['City'] = city\n",
    "        \n",
    "        tvm_ks_final['sum_of_sales_value'] = sum_df\n",
    "        print(\"here\")\n",
    "        print(i)\n",
    "        tvm_ks_final['re'] = str(re[i])\n",
    "        sum_ppg = [round(x/7,2) for x in sum_ppg ]\n",
    "        tvm_ks_final['Total unique PPGs/7'] = sum_ppg\n",
    "        call_sum = [round(x/7,2) for x in call_sum]\n",
    "        tvm_ks_final['Total no. of calls/7'] = call_sum\n",
    "        tvm_ks_final['Percentile_rank']=round(tvm_ks_final['sum_of_sales_value'].rank(pct=True),2)\n",
    "        #tvm_ks_final['months']=mth\n",
    "        new_list = tvm_ks_final['Percentile_rank'].to_list()\n",
    "        for x in new_list:\n",
    "            if x<=0.3:\n",
    "                cat.append('low')\n",
    "            elif x>0.3 and x<0.7:\n",
    "                cat.append('medium')\n",
    "            else:\n",
    "                cat.append('high')\n",
    "\n",
    "        tvm_ks_final['category'] = cat\n",
    "        tvm_ks_final = pd.concat([tvm_ks_final,m_df],axis=1)\n",
    "        d[\"{}_{}\".format(c,re[i])]=pd.DataFrame(tvm_ks_final)\n",
    "        count+=1\n",
    "        d[\"{}_{}\".format(c,re[i])].fillna(0,inplace=True)\n",
    "        \n",
    "        #pd.concat([df3, df4], axis='col')\n",
    "        \n",
    "        \n",
    "        \n",
    "    \n",
    "    #pd.DataFrame(tvm_ks_final)\n",
    "    \n",
    "   \n",
    "    \n",
    "    \n",
    "    \n",
    "\n",
    "    \n",
    "    "
   ]
  },
  {
   "cell_type": "code",
   "execution_count": 131,
   "metadata": {},
   "outputs": [],
   "source": [
    "#month_cat = list(tvm_ks['mth'].unique())"
   ]
  },
  {
   "cell_type": "code",
   "execution_count": 390,
   "metadata": {},
   "outputs": [
    {
     "data": {
      "text/plain": [
       "[8, 12, 9, 1, 2, 11, 10]"
      ]
     },
     "execution_count": 390,
     "metadata": {},
     "output_type": "execute_result"
    }
   ],
   "source": [
    "month_cat"
   ]
  },
  {
   "cell_type": "code",
   "execution_count": 391,
   "metadata": {},
   "outputs": [],
   "source": [
    "#tvm_ks_final"
   ]
  },
  {
   "cell_type": "code",
   "execution_count": 392,
   "metadata": {},
   "outputs": [
    {
     "name": "stdout",
     "output_type": "stream",
     "text": [
      "The Keys Are :- \n",
      "use d[keyname to pick up  a dataframe]\n",
      "      \n",
      "TRIVANDRUM_MS\n",
      "TRIVANDRUM_KS\n",
      "TRIVANDRUM_GS\n",
      "TRISSUR_MS\n",
      "TRISSUR_KS\n",
      "TRISSUR_GS\n"
     ]
    }
   ],
   "source": [
    "keys_final= []\n",
    "print(\"The Keys Are :- \")\n",
    "print(\"use d[keyname to pick up  a dataframe]\")\n",
    "print(\"      \")\n",
    "for key in d.keys():\n",
    "    keys_final.append(key)\n",
    "    print(key)"
   ]
  },
  {
   "cell_type": "code",
   "execution_count": 393,
   "metadata": {},
   "outputs": [
    {
     "data": {
      "text/plain": [
       "['TRIVANDRUM_MS',\n",
       " 'TRIVANDRUM_KS',\n",
       " 'TRIVANDRUM_GS',\n",
       " 'TRISSUR_MS',\n",
       " 'TRISSUR_KS',\n",
       " 'TRISSUR_GS']"
      ]
     },
     "execution_count": 393,
     "metadata": {},
     "output_type": "execute_result"
    }
   ],
   "source": [
    "keys_final"
   ]
  },
  {
   "cell_type": "markdown",
   "metadata": {},
   "source": [
    "# KPI + MONTH DONE"
   ]
  },
  {
   "cell_type": "markdown",
   "metadata": {},
   "source": [
    "# MONTH DICT + JOINING OF OUTLET TAGGING"
   ]
  },
  {
   "cell_type": "code",
   "execution_count": 395,
   "metadata": {},
   "outputs": [],
   "source": [
    "month_dict = {8:'aug',\n",
    "              9:'sep',\n",
    "              10:'oct',\n",
    "              11:'nov',\n",
    "              12:'dec',\n",
    "              1:'jan',\n",
    "              2:'feb',\n",
    "              3:'mar',\n",
    "              4:'april',\n",
    "              5:'may',\n",
    "              6:'jun',\n",
    "              7:'july'\n",
    "}"
   ]
  },
  {
   "cell_type": "code",
   "execution_count": 396,
   "metadata": {},
   "outputs": [
    {
     "data": {
      "text/plain": [
       "'aug'"
      ]
     },
     "execution_count": 396,
     "metadata": {},
     "output_type": "execute_result"
    }
   ],
   "source": [
    "month_dict[8]"
   ]
  },
  {
   "cell_type": "code",
   "execution_count": 397,
   "metadata": {},
   "outputs": [],
   "source": [
    "k_d = d['TRIVANDRUM_KS'][['customer','category']]"
   ]
  },
  {
   "cell_type": "code",
   "execution_count": 398,
   "metadata": {},
   "outputs": [],
   "source": [
    "cat_sheet =pd.DataFrame() #category of unique values ! "
   ]
  },
  {
   "cell_type": "code",
   "execution_count": 399,
   "metadata": {},
   "outputs": [],
   "source": [
    "for di in keys_final:\n",
    "    new = d[di][['customer','category']]\n",
    "    cat_sheet = cat_sheet.append(new)\n",
    "    "
   ]
  },
  {
   "cell_type": "code",
   "execution_count": 400,
   "metadata": {},
   "outputs": [
    {
     "data": {
      "text/plain": [
       "True"
      ]
     },
     "execution_count": 400,
     "metadata": {},
     "output_type": "execute_result"
    }
   ],
   "source": [
    "cat_sheet.shape[0]==len(data_1_sheet_kmg['customer'].unique()) #testing shapes of unqiue value ! \n"
   ]
  },
  {
   "cell_type": "code",
   "execution_count": 401,
   "metadata": {},
   "outputs": [],
   "source": [
    "#area_dict = dict(zip(lakes.area, lakes.count))\n",
    "#gapminder_df['pop']= gapminder_df['continent'].map(pop_dict)"
   ]
  },
  {
   "cell_type": "code",
   "execution_count": 402,
   "metadata": {},
   "outputs": [],
   "source": [
    "cat_dict  = dict(zip(cat_sheet['customer'],cat_sheet['category'])) #creating Dict for values to apply to main dataset ! "
   ]
  },
  {
   "cell_type": "code",
   "execution_count": 403,
   "metadata": {},
   "outputs": [],
   "source": [
    "data_1_sheet_kmg['category'] = data_1_sheet_kmg['customer'].map(cat_dict)\n"
   ]
  },
  {
   "cell_type": "code",
   "execution_count": 404,
   "metadata": {},
   "outputs": [
    {
     "data": {
      "text/html": [
       "<div>\n",
       "<style scoped>\n",
       "    .dataframe tbody tr th:only-of-type {\n",
       "        vertical-align: middle;\n",
       "    }\n",
       "\n",
       "    .dataframe tbody tr th {\n",
       "        vertical-align: top;\n",
       "    }\n",
       "\n",
       "    .dataframe thead th {\n",
       "        text-align: right;\n",
       "    }\n",
       "</style>\n",
       "<table border=\"1\" class=\"dataframe\">\n",
       "  <thead>\n",
       "    <tr style=\"text-align: right;\">\n",
       "      <th></th>\n",
       "      <th>customer</th>\n",
       "      <th>re</th>\n",
       "      <th>stockist_code</th>\n",
       "      <th>city</th>\n",
       "      <th>mth</th>\n",
       "      <th>sales_value</th>\n",
       "      <th>uniq_npg</th>\n",
       "      <th>qty</th>\n",
       "      <th>invoices</th>\n",
       "      <th>category</th>\n",
       "    </tr>\n",
       "  </thead>\n",
       "  <tbody>\n",
       "    <tr>\n",
       "      <th>0</th>\n",
       "      <td>C001176984</td>\n",
       "      <td>MS</td>\n",
       "      <td>16173675</td>\n",
       "      <td>TRIVANDRUM</td>\n",
       "      <td>8</td>\n",
       "      <td>0.00</td>\n",
       "      <td>0</td>\n",
       "      <td>1.0</td>\n",
       "      <td>1</td>\n",
       "      <td>low</td>\n",
       "    </tr>\n",
       "    <tr>\n",
       "      <th>1</th>\n",
       "      <td>C000531094</td>\n",
       "      <td>KS</td>\n",
       "      <td>16326412</td>\n",
       "      <td>TRIVANDRUM</td>\n",
       "      <td>9</td>\n",
       "      <td>0.00</td>\n",
       "      <td>29</td>\n",
       "      <td>0.0</td>\n",
       "      <td>29</td>\n",
       "      <td>high</td>\n",
       "    </tr>\n",
       "    <tr>\n",
       "      <th>2</th>\n",
       "      <td>C000531094</td>\n",
       "      <td>KS</td>\n",
       "      <td>16326412</td>\n",
       "      <td>TRIVANDRUM</td>\n",
       "      <td>10</td>\n",
       "      <td>4803.66</td>\n",
       "      <td>26</td>\n",
       "      <td>125.0</td>\n",
       "      <td>50</td>\n",
       "      <td>high</td>\n",
       "    </tr>\n",
       "    <tr>\n",
       "      <th>3</th>\n",
       "      <td>C000531122</td>\n",
       "      <td>MS</td>\n",
       "      <td>16326412</td>\n",
       "      <td>TRIVANDRUM</td>\n",
       "      <td>2</td>\n",
       "      <td>2265.53</td>\n",
       "      <td>21</td>\n",
       "      <td>68.0</td>\n",
       "      <td>23</td>\n",
       "      <td>high</td>\n",
       "    </tr>\n",
       "    <tr>\n",
       "      <th>4</th>\n",
       "      <td>C000531760</td>\n",
       "      <td>GS</td>\n",
       "      <td>16326412</td>\n",
       "      <td>TRIVANDRUM</td>\n",
       "      <td>1</td>\n",
       "      <td>6294.47</td>\n",
       "      <td>21</td>\n",
       "      <td>177.0</td>\n",
       "      <td>21</td>\n",
       "      <td>high</td>\n",
       "    </tr>\n",
       "    <tr>\n",
       "      <th>...</th>\n",
       "      <td>...</td>\n",
       "      <td>...</td>\n",
       "      <td>...</td>\n",
       "      <td>...</td>\n",
       "      <td>...</td>\n",
       "      <td>...</td>\n",
       "      <td>...</td>\n",
       "      <td>...</td>\n",
       "      <td>...</td>\n",
       "      <td>...</td>\n",
       "    </tr>\n",
       "    <tr>\n",
       "      <th>22188</th>\n",
       "      <td>C000531717</td>\n",
       "      <td>GS</td>\n",
       "      <td>16326412</td>\n",
       "      <td>TRIVANDRUM</td>\n",
       "      <td>12</td>\n",
       "      <td>9127.63</td>\n",
       "      <td>19</td>\n",
       "      <td>200.0</td>\n",
       "      <td>26</td>\n",
       "      <td>high</td>\n",
       "    </tr>\n",
       "    <tr>\n",
       "      <th>22189</th>\n",
       "      <td>C000531498</td>\n",
       "      <td>MS</td>\n",
       "      <td>16326412</td>\n",
       "      <td>TRIVANDRUM</td>\n",
       "      <td>12</td>\n",
       "      <td>2812.46</td>\n",
       "      <td>19</td>\n",
       "      <td>102.0</td>\n",
       "      <td>19</td>\n",
       "      <td>high</td>\n",
       "    </tr>\n",
       "    <tr>\n",
       "      <th>22190</th>\n",
       "      <td>C001774693</td>\n",
       "      <td>MS</td>\n",
       "      <td>16326412</td>\n",
       "      <td>TRIVANDRUM</td>\n",
       "      <td>12</td>\n",
       "      <td>2956.95</td>\n",
       "      <td>19</td>\n",
       "      <td>97.0</td>\n",
       "      <td>19</td>\n",
       "      <td>high</td>\n",
       "    </tr>\n",
       "    <tr>\n",
       "      <th>22191</th>\n",
       "      <td>C002285711</td>\n",
       "      <td>KS</td>\n",
       "      <td>16328458</td>\n",
       "      <td>TRISSUR</td>\n",
       "      <td>1</td>\n",
       "      <td>4269.02</td>\n",
       "      <td>19</td>\n",
       "      <td>105.0</td>\n",
       "      <td>19</td>\n",
       "      <td>high</td>\n",
       "    </tr>\n",
       "    <tr>\n",
       "      <th>22192</th>\n",
       "      <td>C000721341</td>\n",
       "      <td>KS</td>\n",
       "      <td>16328641</td>\n",
       "      <td>TRIVANDRUM</td>\n",
       "      <td>12</td>\n",
       "      <td>6392.54</td>\n",
       "      <td>19</td>\n",
       "      <td>187.0</td>\n",
       "      <td>21</td>\n",
       "      <td>high</td>\n",
       "    </tr>\n",
       "  </tbody>\n",
       "</table>\n",
       "<p>22193 rows × 10 columns</p>\n",
       "</div>"
      ],
      "text/plain": [
       "         customer  re  stockist_code        city  mth  sales_value  uniq_npg  \\\n",
       "0      C001176984  MS       16173675  TRIVANDRUM    8         0.00         0   \n",
       "1      C000531094  KS       16326412  TRIVANDRUM    9         0.00        29   \n",
       "2      C000531094  KS       16326412  TRIVANDRUM   10      4803.66        26   \n",
       "3      C000531122  MS       16326412  TRIVANDRUM    2      2265.53        21   \n",
       "4      C000531760  GS       16326412  TRIVANDRUM    1      6294.47        21   \n",
       "...           ...  ..            ...         ...  ...          ...       ...   \n",
       "22188  C000531717  GS       16326412  TRIVANDRUM   12      9127.63        19   \n",
       "22189  C000531498  MS       16326412  TRIVANDRUM   12      2812.46        19   \n",
       "22190  C001774693  MS       16326412  TRIVANDRUM   12      2956.95        19   \n",
       "22191  C002285711  KS       16328458     TRISSUR    1      4269.02        19   \n",
       "22192  C000721341  KS       16328641  TRIVANDRUM   12      6392.54        19   \n",
       "\n",
       "         qty  invoices category  \n",
       "0        1.0         1      low  \n",
       "1        0.0        29     high  \n",
       "2      125.0        50     high  \n",
       "3       68.0        23     high  \n",
       "4      177.0        21     high  \n",
       "...      ...       ...      ...  \n",
       "22188  200.0        26     high  \n",
       "22189  102.0        19     high  \n",
       "22190   97.0        19     high  \n",
       "22191  105.0        19     high  \n",
       "22192  187.0        21     high  \n",
       "\n",
       "[22193 rows x 10 columns]"
      ]
     },
     "execution_count": 404,
     "metadata": {},
     "output_type": "execute_result"
    }
   ],
   "source": [
    "data_1_sheet_kmg"
   ]
  },
  {
   "cell_type": "markdown",
   "metadata": {},
   "source": [
    "# DIct and Adding Category Complete ! \n"
   ]
  },
  {
   "cell_type": "markdown",
   "metadata": {},
   "source": [
    "# Creating Final Set for DataSheet1"
   ]
  },
  {
   "cell_type": "code",
   "execution_count": 405,
   "metadata": {},
   "outputs": [],
   "source": [
    "based_on = ['no of outlets','avg sale value per retailer','median sale value per outlet','avg npgs per retailer','median npgs per outlet','avg no of calls per outlet','median no of calls per outlet']"
   ]
  },
  {
   "cell_type": "code",
   "execution_count": 406,
   "metadata": {},
   "outputs": [
    {
     "data": {
      "text/plain": [
       "['MS', 'KS', 'GS']"
      ]
     },
     "execution_count": 406,
     "metadata": {},
     "output_type": "execute_result"
    }
   ],
   "source": [
    "re"
   ]
  },
  {
   "cell_type": "code",
   "execution_count": 407,
   "metadata": {},
   "outputs": [],
   "source": [
    "rows =[]\n",
    "new_1 = []\n",
    "final_df_1  = pd.DataFrame()"
   ]
  },
  {
   "cell_type": "markdown",
   "metadata": {},
   "source": [
    "No of Outlets "
   ]
  },
  {
   "cell_type": "code",
   "execution_count": 408,
   "metadata": {},
   "outputs": [],
   "source": [
    "for x in re:\n",
    "    column1='no of outlets'\n",
    "    columns = [month_dict[m] for m in month_cat]\n",
    "    new_1.append(str(x)+\"_\"+'low')\n",
    "    new_1.append(str(x)+\"_\"+'mid')\n",
    "    new_1.append(str(x)+\"_\"+'high')\n",
    "    new_1.append(str(x)+\"_\"+'overall')\n",
    "    rows.append(new_1)\n",
    "    new_1=[]\n",
    "rows = [item for sublist in rows for item in sublist] #flattening the list of list\n",
    "#df.insert(0,'name_of_column',value)   \n",
    "final_df_1 = pd.DataFrame(columns = columns)\n",
    "final_df_1.insert(0,column1,rows)\n",
    "    "
   ]
  },
  {
   "cell_type": "code",
   "execution_count": 461,
   "metadata": {},
   "outputs": [
    {
     "data": {
      "text/plain": [
       "['MS_low',\n",
       " 'MS_mid',\n",
       " 'MS_high',\n",
       " 'MS_overall',\n",
       " 'KS_low',\n",
       " 'KS_mid',\n",
       " 'KS_high',\n",
       " 'KS_overall',\n",
       " 'GS_low',\n",
       " 'GS_mid',\n",
       " 'GS_high',\n",
       " 'GS_overall']"
      ]
     },
     "execution_count": 461,
     "metadata": {},
     "output_type": "execute_result"
    }
   ],
   "source": [
    "rows"
   ]
  },
  {
   "cell_type": "code",
   "execution_count": 410,
   "metadata": {},
   "outputs": [],
   "source": [
    "call_sum.append(tvm_ks.loc[tvm_ks['customer']==k,'invoices'].sum())"
   ]
  },
  {
   "cell_type": "code",
   "execution_count": 411,
   "metadata": {},
   "outputs": [],
   "source": [
    "for m in month_cat:\n",
    "    d['TRIVANDRUM_MS'][m]"
   ]
  },
  {
   "cell_type": "code",
   "execution_count": 439,
   "metadata": {},
   "outputs": [],
   "source": [
    "test = d['TRIVANDRUM_MS'].loc[d['TRIVANDRUM_MS']['category']=='low']"
   ]
  },
  {
   "cell_type": "code",
   "execution_count": 449,
   "metadata": {},
   "outputs": [],
   "source": [
    "len_ = len(test.loc[test[8]==0]) #finidng unadded values"
   ]
  },
  {
   "cell_type": "code",
   "execution_count": 479,
   "metadata": {},
   "outputs": [],
   "source": [
    "nval = test[8].sum()/(test.shape[0]-len_)"
   ]
  },
  {
   "cell_type": "code",
   "execution_count": 484,
   "metadata": {},
   "outputs": [
    {
     "name": "stderr",
     "output_type": "stream",
     "text": [
      "c:\\users\\samen\\appdata\\local\\programs\\python\\python37\\lib\\site-packages\\ipykernel_launcher.py:1: SettingWithCopyWarning: \n",
      "A value is trying to be set on a copy of a slice from a DataFrame\n",
      "\n",
      "See the caveats in the documentation: https://pandas.pydata.org/pandas-docs/stable/user_guide/indexing.html#returning-a-view-versus-a-copy\n",
      "  \"\"\"Entry point for launching an IPython kernel.\n"
     ]
    }
   ],
   "source": [
    "final_df_1['aug'][0]=nval"
   ]
  },
  {
   "cell_type": "code",
   "execution_count": 477,
   "metadata": {},
   "outputs": [],
   "source": [
    "final_df_1.fillna(0,inplace=True)"
   ]
  },
  {
   "cell_type": "code",
   "execution_count": null,
   "metadata": {},
   "outputs": [],
   "source": []
  }
 ],
 "metadata": {
  "kernelspec": {
   "display_name": "Python 3",
   "language": "python",
   "name": "python3"
  },
  "language_info": {
   "codemirror_mode": {
    "name": "ipython",
    "version": 3
   },
   "file_extension": ".py",
   "mimetype": "text/x-python",
   "name": "python",
   "nbconvert_exporter": "python",
   "pygments_lexer": "ipython3",
   "version": "3.7.0"
  }
 },
 "nbformat": 4,
 "nbformat_minor": 2
}
