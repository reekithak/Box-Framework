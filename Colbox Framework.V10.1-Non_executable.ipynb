{
 "cells": [
  {
   "cell_type": "code",
   "execution_count": 18,
   "metadata": {},
   "outputs": [],
   "source": [
    "import pandas as pd\n",
    "import numpy as np \n",
    "import matplotlib.pyplot as plt\n",
    "%matplotlib inline\n",
    "import time\n",
    "t1 = time.time()"
   ]
  },
  {
   "cell_type": "code",
   "execution_count": 19,
   "metadata": {},
   "outputs": [],
   "source": [
    "data_1_sheet_kmg = pd.read_excel(r\"C:\\Users\\samen\\datasheet1.xlsx\",sheet_name=\"GS-KS-MS data sheet 1\")"
   ]
  },
  {
   "cell_type": "code",
   "execution_count": 20,
   "metadata": {},
   "outputs": [],
   "source": [
    "try:\n",
    "    data_1_sheet_kmg.drop('Outlet tagging',axis=1,inplace=True)\n",
    "except:\n",
    "    pass"
   ]
  },
  {
   "cell_type": "code",
   "execution_count": 21,
   "metadata": {},
   "outputs": [],
   "source": [
    "data_1_sheet_kmg=pd.DataFrame(data_1_sheet_kmg)"
   ]
  },
  {
   "cell_type": "code",
   "execution_count": 22,
   "metadata": {},
   "outputs": [
    {
     "data": {
      "text/plain": [
       "(22193, 9)"
      ]
     },
     "execution_count": 22,
     "metadata": {},
     "output_type": "execute_result"
    }
   ],
   "source": [
    "data_1_sheet_kmg.shape"
   ]
  },
  {
   "cell_type": "markdown",
   "metadata": {},
   "source": [
    "# KPI BEGIN"
   ]
  },
  {
   "cell_type": "code",
   "execution_count": 23,
   "metadata": {},
   "outputs": [],
   "source": [
    "#data_1_sheet_kmg.fillna(0,inplace=True)\n",
    "#dropped one na  row\n",
    "data_1_sheet_kmg.dropna(subset =['customer'],inplace=True)"
   ]
  },
  {
   "cell_type": "code",
   "execution_count": 24,
   "metadata": {},
   "outputs": [
    {
     "data": {
      "text/html": [
       "<div>\n",
       "<style scoped>\n",
       "    .dataframe tbody tr th:only-of-type {\n",
       "        vertical-align: middle;\n",
       "    }\n",
       "\n",
       "    .dataframe tbody tr th {\n",
       "        vertical-align: top;\n",
       "    }\n",
       "\n",
       "    .dataframe thead th {\n",
       "        text-align: right;\n",
       "    }\n",
       "</style>\n",
       "<table border=\"1\" class=\"dataframe\">\n",
       "  <thead>\n",
       "    <tr style=\"text-align: right;\">\n",
       "      <th></th>\n",
       "      <th>customer</th>\n",
       "      <th>re</th>\n",
       "      <th>stockist_code</th>\n",
       "      <th>city</th>\n",
       "      <th>mth</th>\n",
       "      <th>sales_value</th>\n",
       "      <th>uniq_npg</th>\n",
       "      <th>qty</th>\n",
       "      <th>invoices</th>\n",
       "    </tr>\n",
       "  </thead>\n",
       "  <tbody>\n",
       "    <tr>\n",
       "      <th>0</th>\n",
       "      <td>C001176984</td>\n",
       "      <td>MS</td>\n",
       "      <td>16173675</td>\n",
       "      <td>TRIVANDRUM</td>\n",
       "      <td>8</td>\n",
       "      <td>NaN</td>\n",
       "      <td>0</td>\n",
       "      <td>1.0</td>\n",
       "      <td>1</td>\n",
       "    </tr>\n",
       "    <tr>\n",
       "      <th>1</th>\n",
       "      <td>C000531094</td>\n",
       "      <td>KS</td>\n",
       "      <td>16326412</td>\n",
       "      <td>TRIVANDRUM</td>\n",
       "      <td>9</td>\n",
       "      <td>0.00</td>\n",
       "      <td>29</td>\n",
       "      <td>0.0</td>\n",
       "      <td>29</td>\n",
       "    </tr>\n",
       "    <tr>\n",
       "      <th>2</th>\n",
       "      <td>C000531094</td>\n",
       "      <td>KS</td>\n",
       "      <td>16326412</td>\n",
       "      <td>TRIVANDRUM</td>\n",
       "      <td>10</td>\n",
       "      <td>4803.66</td>\n",
       "      <td>26</td>\n",
       "      <td>125.0</td>\n",
       "      <td>50</td>\n",
       "    </tr>\n",
       "    <tr>\n",
       "      <th>3</th>\n",
       "      <td>C000531122</td>\n",
       "      <td>MS</td>\n",
       "      <td>16326412</td>\n",
       "      <td>TRIVANDRUM</td>\n",
       "      <td>2</td>\n",
       "      <td>2265.53</td>\n",
       "      <td>21</td>\n",
       "      <td>68.0</td>\n",
       "      <td>23</td>\n",
       "    </tr>\n",
       "    <tr>\n",
       "      <th>4</th>\n",
       "      <td>C000531760</td>\n",
       "      <td>GS</td>\n",
       "      <td>16326412</td>\n",
       "      <td>TRIVANDRUM</td>\n",
       "      <td>1</td>\n",
       "      <td>6294.47</td>\n",
       "      <td>21</td>\n",
       "      <td>177.0</td>\n",
       "      <td>21</td>\n",
       "    </tr>\n",
       "    <tr>\n",
       "      <th>...</th>\n",
       "      <td>...</td>\n",
       "      <td>...</td>\n",
       "      <td>...</td>\n",
       "      <td>...</td>\n",
       "      <td>...</td>\n",
       "      <td>...</td>\n",
       "      <td>...</td>\n",
       "      <td>...</td>\n",
       "      <td>...</td>\n",
       "    </tr>\n",
       "    <tr>\n",
       "      <th>22188</th>\n",
       "      <td>C000531717</td>\n",
       "      <td>GS</td>\n",
       "      <td>16326412</td>\n",
       "      <td>TRIVANDRUM</td>\n",
       "      <td>12</td>\n",
       "      <td>9127.63</td>\n",
       "      <td>19</td>\n",
       "      <td>200.0</td>\n",
       "      <td>26</td>\n",
       "    </tr>\n",
       "    <tr>\n",
       "      <th>22189</th>\n",
       "      <td>C000531498</td>\n",
       "      <td>MS</td>\n",
       "      <td>16326412</td>\n",
       "      <td>TRIVANDRUM</td>\n",
       "      <td>12</td>\n",
       "      <td>2812.46</td>\n",
       "      <td>19</td>\n",
       "      <td>102.0</td>\n",
       "      <td>19</td>\n",
       "    </tr>\n",
       "    <tr>\n",
       "      <th>22190</th>\n",
       "      <td>C001774693</td>\n",
       "      <td>MS</td>\n",
       "      <td>16326412</td>\n",
       "      <td>TRIVANDRUM</td>\n",
       "      <td>12</td>\n",
       "      <td>2956.95</td>\n",
       "      <td>19</td>\n",
       "      <td>97.0</td>\n",
       "      <td>19</td>\n",
       "    </tr>\n",
       "    <tr>\n",
       "      <th>22191</th>\n",
       "      <td>C002285711</td>\n",
       "      <td>KS</td>\n",
       "      <td>16328458</td>\n",
       "      <td>TRISSUR</td>\n",
       "      <td>1</td>\n",
       "      <td>4269.02</td>\n",
       "      <td>19</td>\n",
       "      <td>105.0</td>\n",
       "      <td>19</td>\n",
       "    </tr>\n",
       "    <tr>\n",
       "      <th>22192</th>\n",
       "      <td>C000721341</td>\n",
       "      <td>KS</td>\n",
       "      <td>16328641</td>\n",
       "      <td>TRIVANDRUM</td>\n",
       "      <td>12</td>\n",
       "      <td>6392.54</td>\n",
       "      <td>19</td>\n",
       "      <td>187.0</td>\n",
       "      <td>21</td>\n",
       "    </tr>\n",
       "  </tbody>\n",
       "</table>\n",
       "<p>22193 rows × 9 columns</p>\n",
       "</div>"
      ],
      "text/plain": [
       "         customer  re  stockist_code        city  mth  sales_value  uniq_npg  \\\n",
       "0      C001176984  MS       16173675  TRIVANDRUM    8          NaN         0   \n",
       "1      C000531094  KS       16326412  TRIVANDRUM    9         0.00        29   \n",
       "2      C000531094  KS       16326412  TRIVANDRUM   10      4803.66        26   \n",
       "3      C000531122  MS       16326412  TRIVANDRUM    2      2265.53        21   \n",
       "4      C000531760  GS       16326412  TRIVANDRUM    1      6294.47        21   \n",
       "...           ...  ..            ...         ...  ...          ...       ...   \n",
       "22188  C000531717  GS       16326412  TRIVANDRUM   12      9127.63        19   \n",
       "22189  C000531498  MS       16326412  TRIVANDRUM   12      2812.46        19   \n",
       "22190  C001774693  MS       16326412  TRIVANDRUM   12      2956.95        19   \n",
       "22191  C002285711  KS       16328458     TRISSUR    1      4269.02        19   \n",
       "22192  C000721341  KS       16328641  TRIVANDRUM   12      6392.54        19   \n",
       "\n",
       "         qty  invoices  \n",
       "0        1.0         1  \n",
       "1        0.0        29  \n",
       "2      125.0        50  \n",
       "3       68.0        23  \n",
       "4      177.0        21  \n",
       "...      ...       ...  \n",
       "22188  200.0        26  \n",
       "22189  102.0        19  \n",
       "22190   97.0        19  \n",
       "22191  105.0        19  \n",
       "22192  187.0        21  \n",
       "\n",
       "[22193 rows x 9 columns]"
      ]
     },
     "execution_count": 24,
     "metadata": {},
     "output_type": "execute_result"
    }
   ],
   "source": [
    "data_1_sheet_kmg\n"
   ]
  },
  {
   "cell_type": "code",
   "execution_count": 25,
   "metadata": {},
   "outputs": [],
   "source": [
    "city_category = list(data_1_sheet_kmg['city'].unique())\n",
    "city_category\n",
    "len_city_category = len(city_category)"
   ]
  },
  {
   "cell_type": "code",
   "execution_count": 26,
   "metadata": {},
   "outputs": [],
   "source": [
    "len_customer = len(data_1_sheet_kmg['customer'].unique())"
   ]
  },
  {
   "cell_type": "code",
   "execution_count": 28,
   "metadata": {},
   "outputs": [],
   "source": [
    "re = list(data_1_sheet_kmg['re'].unique())"
   ]
  },
  {
   "cell_type": "code",
   "execution_count": 30,
   "metadata": {},
   "outputs": [
    {
     "data": {
      "text/plain": [
       "4301"
      ]
     },
     "execution_count": 30,
     "metadata": {},
     "output_type": "execute_result"
    }
   ],
   "source": [
    "len_customer"
   ]
  },
  {
   "cell_type": "code",
   "execution_count": 32,
   "metadata": {},
   "outputs": [],
   "source": [
    "i=0\n",
    "count=0\n",
    "name=\"dataframe_new\""
   ]
  },
  {
   "cell_type": "code",
   "execution_count": 39,
   "metadata": {},
   "outputs": [
    {
     "ename": "SyntaxError",
     "evalue": "invalid syntax (<ipython-input-39-e1ceb63c17ed>, line 95)",
     "output_type": "error",
     "traceback": [
      "\u001b[1;36m  File \u001b[1;32m\"<ipython-input-39-e1ceb63c17ed>\"\u001b[1;36m, line \u001b[1;32m95\u001b[0m\n\u001b[1;33m    tvm_ks_final['category'] = empt\u001b[0m\n\u001b[1;37m               ^\u001b[0m\n\u001b[1;31mSyntaxError\u001b[0m\u001b[1;31m:\u001b[0m invalid syntax\n"
     ]
    }
   ],
   "source": [
    "d={}\n",
    "for c in city_category:\n",
    "    \n",
    "    sheet_1_tvm = data_1_sheet_kmg[data_1_sheet_kmg['city']==c]\n",
    "    for i in range(len(re)):\n",
    "        #print(\"re=\" + re[i]+ str(' running'))\n",
    "        \n",
    "        tvm_ks = sheet_1_tvm[sheet_1_tvm['re']==re[i]]\n",
    "        tvm_ks_customer = list(tvm_ks['customer'].unique())\n",
    "        month_cat = list(tvm_ks['mth'].unique())\n",
    "        sum_df = []\n",
    "        sum_ppg=[]\n",
    "        call_sum = []\n",
    "        cat = []\n",
    "        #print(tvm_ks['mth'])\n",
    "        #mth=[]\n",
    "        m=[]\n",
    "        m_df = pd.DataFrame(columns=month_cat)\n",
    "        \n",
    "        for k in tvm_ks_customer:\n",
    "            sum_df.append(int(np.ceil(tvm_ks.loc[tvm_ks['customer']==k,'sales_value'].sum())))\n",
    "            sum_ppg.append(tvm_ks.loc[tvm_ks['customer']==k,'uniq_npg'].sum())\n",
    "            call_sum.append(tvm_ks.loc[tvm_ks['customer']==k,'invoices'].sum())\n",
    "            for mt in month_cat:\n",
    "                mth=tvm_ks.loc[(tvm_ks['mth']==mt) &(tvm_ks['customer']==k),'sales_value'].sum()\n",
    "                #m[\"{}\".format(mt)]=mth\n",
    "                m.append(mth)\n",
    "            m=pd.Series(m,index=m_df.columns)\n",
    "            m_df = m_df.append(m,ignore_index=True)\n",
    "            m=[]\n",
    "            month_cat = list(tvm_ks['mth'].unique())\n",
    "            #m_sum_t = \n",
    "            \n",
    "                \n",
    "                #print(mth)\n",
    "                #quit()\n",
    "                \n",
    "        tvm_ks_final = pd.DataFrame()\n",
    "        #print(c)\n",
    "        tvm_ks_final['customer'] = tvm_ks_customer\n",
    "        city = [str(c) for i in range(tvm_ks_final.shape[0])]\n",
    "        tvm_ks_final['City'] = city\n",
    "        print(str(c)+\" \"+str(re[i]))\n",
    "        print(tvm_ks_final.shape[0])\n",
    "        \n",
    "        \n",
    "        tvm_ks_final['sum_of_sales_value'] = sum_df\n",
    "        #print(\"here\")\n",
    "        #print(i)\n",
    "        tvm_ks_final['re'] = str(re[i])\n",
    "        sum_ppg = [x/7 for x in sum_ppg ]\n",
    "        tvm_ks_final['Total unique PPGs/7'] = sum_ppg\n",
    "        call_sum = [x/7 for x in call_sum]\n",
    "        tvm_ks_final['Total no. of calls/7'] = call_sum\n",
    "        tvm_ks_final['Percentile_rank']=np.round(tvm_ks_final['sum_of_sales_value'].rank(pct=True),3)\n",
    "        len_ = len(tvm_ks_final['customer'].unique())\n",
    "        print(\"Total Unique Customers = \"+str(len_))\n",
    "        len_at = len_/10\n",
    "        tvm_ks_final = tvm_ks_final.sort_values(by='sum_of_sales_value',ascending=False)\n",
    "        tags = ['high','medium','low']\n",
    "        #splitting for high = 3*len_at\n",
    "        empt = [0.00 for n in range(len_)]\n",
    "        #print(\"empt=\",len(empt))\n",
    "        \n",
    "        new_len = round(3*len_at)\n",
    "        for x in range(new_len):\n",
    "            empt[x] = 'high'\n",
    "        print(\"High = \" +str(new_len))\n",
    "        new_len = round(3*len_at)\n",
    "        for x in range(new_len):\n",
    "            empt[-x]='low'\n",
    "        print(\"low = \" +str(new_len))\n",
    "        new_len = len_-((6*len_at))\n",
    "        itee = int(round(3*len_at))\n",
    "        #print(itee)\n",
    "        #print(new_len)\n",
    "        for x in range(int(new_len)):\n",
    "            empt[itee]='medium'\n",
    "            itee+=1\n",
    "        print(\"new\")\n",
    "        print(\"a\")\n",
    "        print(\"Medium = \" +str(int(new_len))\n",
    "        #print(\"**************************************************\")\n",
    "        #tvm_ks_final['months']=mth\n",
    "        #'''new_list = tvm_ks_final['Percentile_rank'].to_list()\n",
    "        #for x in new_list:\n",
    "        #    if x<=0.300:\n",
    "        #       cat.append('low')\n",
    "        #    elif x<=0.700 and x>0.300:\n",
    "        #        cat.append('medium')\n",
    "        #    else:\n",
    "        #        cat.append('high')'''\n",
    "        #print(\"empt=\"+str(len(empt)))\n",
    "        \n",
    "        tvm_ks_final['category'] = empt\n",
    "        tvm_ks_final = pd.concat([tvm_ks_final,m_df],axis=1)\n",
    "        d[\"{}_{}\".format(c,re[i])]=pd.DataFrame(tvm_ks_final)\n",
    "        count+=1\n",
    "        d[\"{}_{}\".format(c,re[i])].fillna(0,inplace=True)\n",
    "        \n",
    "        \n",
    "            \n",
    "            \n",
    "            \n",
    "            \n",
    "        \n",
    "        \n",
    "        #pd.concat([df3, df4], axis='col')\n",
    "        \n",
    "        \n",
    "        \n",
    "    \n",
    "    #pd.DataFrame(tvm_ks_final)\n",
    "    \n",
    "   \n",
    "    \n",
    "    \n",
    "    \n",
    "\n",
    "    "
   ]
  },
  {
   "cell_type": "code",
   "execution_count": 4322,
   "metadata": {},
   "outputs": [],
   "source": [
    "#tvm_ks_final.loc[tvm_ks_final['category']=='medium'].count()"
   ]
  },
  {
   "cell_type": "code",
   "execution_count": 4323,
   "metadata": {},
   "outputs": [],
   "source": [
    "month_cat = list(tvm_ks['mth'].unique())"
   ]
  },
  {
   "cell_type": "code",
   "execution_count": 4326,
   "metadata": {},
   "outputs": [],
   "source": [
    "test_df = pd.DataFrame()\n",
    "for key in d.keys():\n",
    "    temp = d[key]\n",
    "    test_df = test_df.append(temp)"
   ]
  },
  {
   "cell_type": "code",
   "execution_count": 4327,
   "metadata": {
    "scrolled": true
   },
   "outputs": [],
   "source": [
    "test_df.to_csv(\"newbasetest.csv\")"
   ]
  },
  {
   "cell_type": "code",
   "execution_count": 4328,
   "metadata": {},
   "outputs": [],
   "source": [
    "#test_df.filter(['customer','Percentile_rank','category','sum_of_sales_value']).to_csv(\"test_init.csv\")"
   ]
  },
  {
   "cell_type": "code",
   "execution_count": 4329,
   "metadata": {},
   "outputs": [
    {
     "name": "stdout",
     "output_type": "stream",
     "text": [
      "The Keys Are :- \n",
      "use d[keyname to pick up  a dataframe]\n",
      "      \n",
      "TRIVANDRUM_MS\n",
      "TRIVANDRUM_KS\n",
      "TRIVANDRUM_GS\n",
      "TRISSUR_MS\n",
      "TRISSUR_KS\n",
      "TRISSUR_GS\n"
     ]
    }
   ],
   "source": [
    "keys_final= []\n",
    "print(\"The Keys Are :- \")\n",
    "print(\"use d[keyname to pick up  a dataframe]\")\n",
    "print(\"      \")\n",
    "for key in d.keys():\n",
    "    keys_final.append(key)\n",
    "    print(key)"
   ]
  },
  {
   "cell_type": "markdown",
   "metadata": {},
   "source": [
    "# MONTH DONE"
   ]
  },
  {
   "cell_type": "markdown",
   "metadata": {},
   "source": [
    "# MONTH DICT + JOINING OF OUTLET TAGGING"
   ]
  },
  {
   "cell_type": "code",
   "execution_count": 4330,
   "metadata": {},
   "outputs": [],
   "source": [
    "month_dict = {8:'aug',\n",
    "              9:'sep',\n",
    "              10:'oct',\n",
    "              11:'nov',\n",
    "              12:'dec',\n",
    "              1:'jan',\n",
    "              2:'feb',\n",
    "              3:'mar',\n",
    "              4:'april',\n",
    "              5:'may',\n",
    "              6:'jun',\n",
    "              7:'july'\n",
    "}"
   ]
  },
  {
   "cell_type": "code",
   "execution_count": 4331,
   "metadata": {},
   "outputs": [],
   "source": [
    "#month_dict[8]"
   ]
  },
  {
   "cell_type": "code",
   "execution_count": 4332,
   "metadata": {},
   "outputs": [],
   "source": [
    "#k_d = d['TRIVANDRUM_KS'][['customer','category']]"
   ]
  },
  {
   "cell_type": "code",
   "execution_count": 4333,
   "metadata": {},
   "outputs": [],
   "source": [
    "cat_sheet =pd.DataFrame() #category of unique values ! "
   ]
  },
  {
   "cell_type": "code",
   "execution_count": 4334,
   "metadata": {},
   "outputs": [],
   "source": [
    "for di in keys_final:\n",
    "    new = d[di][['customer','category']]\n",
    "    cat_sheet = cat_sheet.append(new)\n",
    "# setting a dictionary !     "
   ]
  },
  {
   "cell_type": "code",
   "execution_count": null,
   "metadata": {},
   "outputs": [],
   "source": []
  },
  {
   "cell_type": "code",
   "execution_count": 4335,
   "metadata": {},
   "outputs": [
    {
     "data": {
      "text/plain": [
       "True"
      ]
     },
     "execution_count": 4335,
     "metadata": {},
     "output_type": "execute_result"
    }
   ],
   "source": [
    "cat_sheet.shape[0]==len(data_1_sheet_kmg['customer'].unique()) #testing shapes of unqiue value ! \n"
   ]
  },
  {
   "cell_type": "code",
   "execution_count": 4339,
   "metadata": {},
   "outputs": [],
   "source": [
    "cat_dict  = dict(zip(cat_sheet['customer'],cat_sheet['category'])) #creating Dict for values to apply to main dataset ! "
   ]
  },
  {
   "cell_type": "code",
   "execution_count": 4340,
   "metadata": {},
   "outputs": [],
   "source": [
    "data_1_sheet_kmg['category'] = data_1_sheet_kmg['customer'].map(cat_dict)\n",
    "#setting the values back to the table!!!"
   ]
  },
  {
   "cell_type": "code",
   "execution_count": 4342,
   "metadata": {},
   "outputs": [
    {
     "data": {
      "text/plain": [
       "['TRIVANDRUM_MS',\n",
       " 'TRIVANDRUM_KS',\n",
       " 'TRIVANDRUM_GS',\n",
       " 'TRISSUR_MS',\n",
       " 'TRISSUR_KS',\n",
       " 'TRISSUR_GS']"
      ]
     },
     "execution_count": 4342,
     "metadata": {},
     "output_type": "execute_result"
    }
   ],
   "source": [
    "keys_final"
   ]
  },
  {
   "cell_type": "code",
   "execution_count": 4343,
   "metadata": {},
   "outputs": [],
   "source": [
    "#final_dict['TRIVANDRUM_MS']"
   ]
  },
  {
   "cell_type": "code",
   "execution_count": 4344,
   "metadata": {},
   "outputs": [],
   "source": [
    "final_dict={} #empty dict to create and store the needed tables , since we dont know how many might come in! "
   ]
  },
  {
   "cell_type": "markdown",
   "metadata": {},
   "source": [
    "DIct and Adding Category Complete ! \n"
   ]
  },
  {
   "cell_type": "code",
   "execution_count": 4345,
   "metadata": {},
   "outputs": [],
   "source": [
    "#dfghjkl"
   ]
  },
  {
   "cell_type": "markdown",
   "metadata": {},
   "source": [
    "# Creating Final Set for DataSheet1"
   ]
  },
  {
   "cell_type": "code",
   "execution_count": 4346,
   "metadata": {},
   "outputs": [],
   "source": [
    "bon = ['avg_sale_value_per_retailer','no_of_outlets','median_sale_value_per_outlet','avg_npgs_per_retailer','median_npgs_per_outlet','avg_no_of_calls_per_outlet','median_no_of_calls_per_outlet']\n",
    "# 7 value tables that are calculated"
   ]
  },
  {
   "cell_type": "code",
   "execution_count": 4347,
   "metadata": {},
   "outputs": [
    {
     "data": {
      "text/plain": [
       "['MS', 'KS', 'GS']"
      ]
     },
     "execution_count": 4347,
     "metadata": {},
     "output_type": "execute_result"
    }
   ],
   "source": [
    "re"
   ]
  },
  {
   "cell_type": "code",
   "execution_count": 4348,
   "metadata": {},
   "outputs": [
    {
     "data": {
      "text/plain": [
       "['TRIVANDRUM', 'TRISSUR']"
      ]
     },
     "execution_count": 4348,
     "metadata": {},
     "output_type": "execute_result"
    }
   ],
   "source": [
    "\n",
    "city_category"
   ]
  },
  {
   "cell_type": "code",
   "execution_count": 4349,
   "metadata": {},
   "outputs": [],
   "source": [
    "test = d['TRIVANDRUM_MS'].loc[d['TRIVANDRUM_MS']['category']=='low']"
   ]
  },
  {
   "cell_type": "code",
   "execution_count": 4350,
   "metadata": {},
   "outputs": [],
   "source": [
    " #test1 = test.loc[test[8]!=0]"
   ]
  },
  {
   "cell_type": "code",
   "execution_count": 4351,
   "metadata": {},
   "outputs": [],
   "source": [
    "#test1"
   ]
  },
  {
   "cell_type": "code",
   "execution_count": 4352,
   "metadata": {},
   "outputs": [],
   "source": [
    "#d"
   ]
  },
  {
   "cell_type": "markdown",
   "metadata": {},
   "source": [
    "No of Outlets "
   ]
  },
  {
   "cell_type": "code",
   "execution_count": 4353,
   "metadata": {},
   "outputs": [],
   "source": [
    "from statistics import median\n",
    "import numpy as np"
   ]
  },
  {
   "cell_type": "code",
   "execution_count": 4354,
   "metadata": {},
   "outputs": [],
   "source": [
    "category_valu = ['low','medium','high']"
   ]
  },
  {
   "cell_type": "code",
   "execution_count": 4355,
   "metadata": {},
   "outputs": [],
   "source": [
    "var_run=0"
   ]
  },
  {
   "cell_type": "code",
   "execution_count": 4356,
   "metadata": {},
   "outputs": [
    {
     "name": "stdout",
     "output_type": "stream",
     "text": [
      "(9, 8)\n",
      "(9, 8)\n",
      "(9, 8)\n",
      "(9, 8)\n",
      "(9, 8)\n",
      "(9, 8)\n",
      "(9, 8)\n",
      "empty Cells Created\n",
      "(9, 8)\n",
      "(9, 8)\n",
      "(9, 8)\n",
      "(9, 8)\n",
      "(9, 8)\n",
      "(9, 8)\n",
      "(9, 8)\n",
      "empty Cells Created\n"
     ]
    }
   ],
   "source": [
    "for c_name in city_category:\n",
    "    bcount=0\n",
    "    keys_final=[c_name+str(\"_\")+str(i) for i in re]\n",
    "    rows =[]\n",
    "    new_1 = []\n",
    "    final_df_1  = pd.DataFrame()\n",
    "    category_valu=['low','medium','high']\n",
    "       \n",
    "    #Need 7 outputs ! \n",
    "\n",
    "    #avg sale value per retailer\n",
    "    for x in re:\n",
    "        column1='avg sale per retailer'\n",
    "        columns = [month_dict[m] for m in month_cat]\n",
    "        new_1.append(str(x)+\"_\"+'low')\n",
    "        new_1.append(str(x)+\"_\"+'mid')\n",
    "        new_1.append(str(x)+\"_\"+'high')\n",
    "        #new_1.append(str(x)+\"_\"+'overall')\n",
    "        rows.append(new_1)\n",
    "        new_1=[]\n",
    "    rows = [item for sublist in rows for item in sublist] #flattening the list of list\n",
    "    #df.insert(0,'name_of_column',value)   \n",
    "    final_df_1 = pd.DataFrame(columns = columns)\n",
    "    final_df_1.insert(0,column1,rows)\n",
    "    rows=[]\n",
    "    print(final_df_1.shape)\n",
    "\n",
    "    #no of outlets    \n",
    "    for x in re:\n",
    "        column1='number of outlets'\n",
    "        columns = [month_dict[m] for m in month_cat]\n",
    "        new_1.append(str(x)+\"_\"+'low')\n",
    "        new_1.append(str(x)+\"_\"+'mid')\n",
    "        new_1.append(str(x)+\"_\"+'high')\n",
    "        #new_1.append(str(x)+\"_\"+'overall')\n",
    "        rows.append(new_1)\n",
    "        new_1=[]\n",
    "    rows = [item for sublist in rows for item in sublist] #flattening the list of list\n",
    "    #df.insert(0,'name_of_column',value)   \n",
    "    final_df_2 = pd.DataFrame(columns = columns)\n",
    "    final_df_2.insert(0,column1,rows)\n",
    "    rows=[]\n",
    "\n",
    "    print(final_df_2.shape)\n",
    "\n",
    "    #median sale value per outlet\n",
    "    for x in re:\n",
    "        column1='median sale value per outlet'\n",
    "        columns = [month_dict[m] for m in month_cat]\n",
    "        new_1.append(str(x)+\"_\"+'low')\n",
    "        new_1.append(str(x)+\"_\"+'mid')\n",
    "        new_1.append(str(x)+\"_\"+'high')\n",
    "        #new_1.append(str(x)+\"_\"+'overall')\n",
    "        rows.append(new_1)\n",
    "        new_1=[]\n",
    "    rows = [item for sublist in rows for item in sublist] #flattening the list of list\n",
    "    #df.insert(0,'name_of_column',value)   \n",
    "    final_df_3 = pd.DataFrame(columns = columns)\n",
    "    final_df_3.insert(0,column1,rows)\n",
    "    rows=[]\n",
    "    print(final_df_3.shape)\n",
    "\n",
    "\n",
    "    #avg npgs per retailer\n",
    "    for x in re:\n",
    "        column1='avg npg per retailer'\n",
    "        columns = [month_dict[m] for m in month_cat]\n",
    "        new_1.append(str(x)+\"_\"+'low')\n",
    "        new_1.append(str(x)+\"_\"+'mid')\n",
    "        new_1.append(str(x)+\"_\"+'high')\n",
    "        #new_1.append(str(x)+\"_\"+'overall')\n",
    "        rows.append(new_1)\n",
    "        new_1=[]\n",
    "    rows = [item for sublist in rows for item in sublist] #flattening the list of list\n",
    "    #df.insert(0,'name_of_column',value)   \n",
    "    final_df_4 = pd.DataFrame(columns = columns)\n",
    "    final_df_4.insert(0,column1,rows)\n",
    "    rows=[]\n",
    "    print(final_df_4.shape)\n",
    "\n",
    "\n",
    "\n",
    "\n",
    "    #median npgs per outlet\n",
    "    for x in re:\n",
    "        column1='median npg per outlet'\n",
    "        columns = [month_dict[m] for m in month_cat]\n",
    "        new_1.append(str(x)+\"_\"+'low')\n",
    "        new_1.append(str(x)+\"_\"+'mid')\n",
    "        new_1.append(str(x)+\"_\"+'high')\n",
    "        #new_1.append(str(x)+\"_\"+'overall')\n",
    "        rows.append(new_1)\n",
    "        new_1=[]\n",
    "    rows = [item for sublist in rows for item in sublist] #flattening the list of list\n",
    "    #df.insert(0,'name_of_column',value)   \n",
    "    final_df_5 = pd.DataFrame(columns = columns)\n",
    "    final_df_5.insert(0,column1,rows)\n",
    "    rows=[]\n",
    "    print(final_df_5.shape)\n",
    "\n",
    "\n",
    "\n",
    "\n",
    "\n",
    "    #avg no of calls per outlet\n",
    "    for x in re:\n",
    "        column1='avg call per retailer'\n",
    "        columns = [month_dict[m] for m in month_cat]\n",
    "        new_1.append(str(x)+\"_\"+'low')\n",
    "        new_1.append(str(x)+\"_\"+'mid')\n",
    "        new_1.append(str(x)+\"_\"+'high')\n",
    "        #new_1.append(str(x)+\"_\"+'overall')\n",
    "        rows.append(new_1)\n",
    "        new_1=[]\n",
    "    rows = [item for sublist in rows for item in sublist] #flattening the list of list\n",
    "    #df.insert(0,'name_of_column',value)   \n",
    "    final_df_6 = pd.DataFrame(columns = columns)\n",
    "    final_df_6.insert(0,column1,rows)\n",
    "    rows=[]\n",
    "    print(final_df_6.shape)\n",
    "\n",
    "\n",
    "\n",
    "\n",
    "    #median no of calls per outlet\n",
    "    for x in re:\n",
    "        column1='median call per outlet'\n",
    "        columns = [month_dict[m] for m in month_cat]\n",
    "        new_1.append(str(x)+\"_\"+'low')\n",
    "        new_1.append(str(x)+\"_\"+'mid')\n",
    "        new_1.append(str(x)+\"_\"+'high')\n",
    "        #new_1.append(str(x)+\"_\"+'overall')\n",
    "        rows.append(new_1)\n",
    "        new_1=[]\n",
    "    rows = [item for sublist in rows for item in sublist] #flattening the list of list\n",
    "    #df.insert(0,'name_of_column',value)   \n",
    "    final_df_7 = pd.DataFrame(columns = columns)\n",
    "    final_df_7.insert(0,column1,rows)\n",
    "    rows=[]\n",
    "    print(final_df_7.shape)\n",
    "    print(\"empty Cells Created\")\n",
    "#***************************    \n",
    "    ##########################OUTPUT SECTION#########################################\n",
    "    #print(c)\n",
    "    #avg sale value per retailer\n",
    "    i=0\n",
    "    for k in keys_final:\n",
    "        #print(k)\n",
    "        for c in category_valu:\n",
    "            #print(c)\n",
    "            test = d[k].loc[d[k]['category']==c]\n",
    "            #print(test)\n",
    "\n",
    "            for m in month_cat:\n",
    "                #print(m)\n",
    "                len_ = len(test.loc[test[m]==0]) #finidng unadded values\n",
    "                nval = test[m].sum()/(test.shape[0]-len_)\n",
    "                #print(nval)\n",
    "                final_df_1[month_dict[m]][i]=nval\n",
    "                #print(i)\n",
    "                #i+=1\n",
    "            i+=1\n",
    "    final_df_1.fillna(method='bfill',inplace=True)\n",
    "    final_dict[\"{}_{}\".format(c_name,bon[bcount])]=pd.DataFrame(final_df_1)\n",
    "    bcount+=1\n",
    "    \n",
    "#CHECKED\n",
    "    \n",
    "    \n",
    "    #no of outlets\n",
    "    i=0\n",
    "    for k in keys_final:\n",
    "        #print(k)\n",
    "        for c in category_valu:\n",
    "            #print(c)\n",
    "            test = d[k].loc[d[k]['category']==c]\n",
    "            #print(test)\n",
    "\n",
    "            for m in month_cat:\n",
    "                #print(m)\n",
    "                #len_ = len(test.loc[test[m]==0])\n",
    "                #print(len_)#finidng unadded values\n",
    "                nval = len(test.loc[test[m]!=0])\n",
    "                #print(nval)\n",
    "                final_df_2[month_dict[m]][i]=nval\n",
    "                #print(i)\n",
    "                #i+=1\n",
    "            i+=1\n",
    "    final_df_2.fillna(method='bfill',inplace=True)\n",
    "    final_dict[\"{}_{}\".format(c_name,bon[bcount])]=pd.DataFrame(final_df_2)\n",
    "    bcount+=1\n",
    "#CHECKED    \n",
    "    \n",
    "    #median sale value per outlet\n",
    "    i=0\n",
    "    for k in keys_final:\n",
    "        #print(k)\n",
    "        for c in category_valu:\n",
    "            #print(c)\n",
    "            test = d[k].loc[d[k]['category']==c]\n",
    "            #print(test)\n",
    "\n",
    "            for m in month_cat:\n",
    "               # print(m)\n",
    "                #len_ = len(test.loc[test[m]==0])\n",
    "                #print(len_)#finidng unadded values\n",
    "                new = test.loc[test[m]!=0]\n",
    "                nval =median(new[m])\n",
    "\n",
    "\n",
    "\n",
    "                #print(nval)\n",
    "                final_df_3[month_dict[m]][i]=nval\n",
    "                #print(i)\n",
    "                #i+=1\n",
    "            i+=1\n",
    "    final_df_3.fillna(method='bfill',inplace=True)\n",
    "    final_dict[\"{}_{}\".format(c_name,bon[bcount])]=pd.DataFrame(final_df_3)\n",
    "    bcount+=1\n",
    "#CHECKED \n",
    "    ########################################################33modifying#####################################\n",
    "    #avg npgs per retailer\n",
    "    import numpy as np\n",
    "    i=0\n",
    "    for r in re:\n",
    "        #print(r)\n",
    "        for j in keys_final:\n",
    "            if j.find('{}_{}'.format(c_name,r))!=-1:\n",
    "                k = j\n",
    "                break\n",
    "            else:\n",
    "                pass\n",
    "                \n",
    "        #print(k)\n",
    "        for c in category_valu:\n",
    "            #print(c)\n",
    "            #print(c)\n",
    "            #temp = d[k].loc[d[k]['category']==c]\n",
    "            #to find the key\n",
    "\n",
    "            test = data_1_sheet_kmg.loc[(data_1_sheet_kmg['city']==c_name) &(data_1_sheet_kmg['re']==r)]\n",
    "                    \n",
    "            #print(test)\n",
    "\n",
    "            for m in month_cat:\n",
    "                #print(m)\n",
    "                #len_ = len(test.loc[test[m]==0])\n",
    "                #temp1 = temp.loc[temp[m]!=0]\n",
    "                #print(len_)#finidng unadded values\n",
    "                test1 = test.loc[test['mth']==m]\n",
    "                test2 = test1.loc[(test1['uniq_npg']>0) & (test1['category']==c)]\n",
    "                sum__ = test2['uniq_npg']>0\n",
    "                nval = round(test2['uniq_npg'].sum()/sum__.shape[0])\n",
    "                #print(nval)\n",
    "                #print(nval)\n",
    "                final_df_4[month_dict[m]][i]=nval\n",
    "                #print(i)\n",
    "                #i+=1\n",
    "            i+=1\n",
    "    final_df_4.fillna(method='bfill',inplace=True)\n",
    "    final_dict[\"{}_{}\".format(c_name,bon[bcount])]=pd.DataFrame(final_df_4)\n",
    "    bcount+=1\n",
    "    \n",
    "#CHECKED\n",
    "\n",
    "    #median npgs per outlet\n",
    "    i=0\n",
    "    for k in keys_final:\n",
    "        #print(k)\n",
    "        for c in category_valu:\n",
    "            #print(c)\n",
    "            test = d[k].loc[d[k]['category']==c]\n",
    "            #print(test)\n",
    "\n",
    "            for m in month_cat:\n",
    "                #print(m)\n",
    "                #len_ = len(test.loc[test[m]==0])\n",
    "                #print(len_)#finidng unadded values\n",
    "                test1 = test.loc[test[m]!=0]\n",
    "                nval = np.ceil(median(test1['Total unique PPGs/7']))\n",
    "                \n",
    "\n",
    "                #print(nval)\n",
    "                final_df_5[month_dict[m]][i]=nval\n",
    "                #print(i)\n",
    "                #i+=1\n",
    "            i+=1\n",
    "    final_df_5.fillna(method='bfill',inplace=True)\n",
    "    final_dict[\"{}_{}\".format(c_name,bon[bcount])]=pd.DataFrame(final_df_5)\n",
    "    bcount+=1\n",
    "#CHECKED\n",
    "    \n",
    "    #avg calls per retailer\n",
    "    import numpy as np\n",
    "    i=0\n",
    "    for k in keys_final:\n",
    "        #print(k)\n",
    "        for c in category_valu:\n",
    "            #print(c)\n",
    "            test = d[k].loc[d[k]['category']==c]\n",
    "            #print(test)\n",
    "\n",
    "            for m in month_cat:\n",
    "                #print(m)\n",
    "                #len_ = len(test.loc[test[m]==0])\n",
    "                #print(len_)#finidng unadded values\n",
    "                test1 = test.loc[test[m]!=0]\n",
    "                nval = np.ceil(test1['Total no. of calls/7'].sum()/test1.shape[0])\n",
    "                #print(nval)\n",
    "                final_df_6[month_dict[m]][i]=nval\n",
    "                #print(i)\n",
    "                #i+=1\n",
    "            i+=1\n",
    "    final_df_6.fillna(method='bfill',inplace=True)\n",
    "    final_dict[\"{}_{}\".format(c_name,bon[bcount])]=pd.DataFrame(final_df_6)\n",
    "    bcount+=1\n",
    "#CHECKED\n",
    "\n",
    "    #median calls per outlet\n",
    "    import numpy as np\n",
    "    i=0\n",
    "    for k in keys_final:\n",
    "        #print(k)\n",
    "        for c in category_valu:\n",
    "            #print(c)\n",
    "            test = d[k].loc[d[k]['category']==c]\n",
    "            #print(test)\n",
    "\n",
    "            for m in month_cat:\n",
    "                #print(m)\n",
    "                #len_ = len(test.loc[test[m]==0])\n",
    "                #print(len_)#finidng unadded values\n",
    "                test1 = test.loc[test[m]!=0]\n",
    "                nval = np.ceil(median(test1['Total no. of calls/7']))\n",
    "\n",
    "                #print(nval)\n",
    "                final_df_7[month_dict[m]][i]=nval\n",
    "                #print(i)\n",
    "                #i+=1\n",
    "            i+=1\n",
    "    final_df_7.fillna(method='bfill',inplace=True)\n",
    "    final_dict[\"{}_{}\".format(c_name,bon[bcount])]=pd.DataFrame(final_df_7)\n",
    "    bcount+=1\n",
    "  "
   ]
  },
  {
   "cell_type": "code",
   "execution_count": 4357,
   "metadata": {},
   "outputs": [],
   "source": [
    "#Creating a list of keys for the firts one ! \n",
    "\n",
    "sheet1_dict =[]\n",
    "sheet1_dict = [x for x in final_dict.keys()]"
   ]
  },
  {
   "cell_type": "markdown",
   "metadata": {},
   "source": [
    "# Sheet 1 Finished  - KPI !\n",
    "Note: - Slight Variations "
   ]
  },
  {
   "cell_type": "markdown",
   "metadata": {},
   "source": [
    " "
   ]
  },
  {
   "cell_type": "markdown",
   "metadata": {},
   "source": [
    " "
   ]
  },
  {
   "cell_type": "markdown",
   "metadata": {},
   "source": [
    " "
   ]
  },
  {
   "cell_type": "markdown",
   "metadata": {},
   "source": [
    " "
   ]
  },
  {
   "cell_type": "markdown",
   "metadata": {},
   "source": [
    " "
   ]
  },
  {
   "cell_type": "markdown",
   "metadata": {},
   "source": [
    " "
   ]
  },
  {
   "cell_type": "markdown",
   "metadata": {},
   "source": [
    " "
   ]
  },
  {
   "cell_type": "markdown",
   "metadata": {},
   "source": [
    "# SHEET 2 STARTS !"
   ]
  },
  {
   "cell_type": "code",
   "execution_count": 4360,
   "metadata": {},
   "outputs": [],
   "source": [
    "data_2_sheet_kmg = pd.read_excel(r\"C:\\Users\\samen\\datasheet2.xlsx\",sheet_name=\"Data sheet 2\")"
   ]
  },
  {
   "cell_type": "code",
   "execution_count": 4361,
   "metadata": {},
   "outputs": [],
   "source": [
    "data_2_sheet_kmg=pd.DataFrame(data_2_sheet_kmg)"
   ]
  },
  {
   "cell_type": "code",
   "execution_count": 4362,
   "metadata": {},
   "outputs": [
    {
     "data": {
      "text/plain": [
       "(86088, 34)"
      ]
     },
     "execution_count": 4362,
     "metadata": {},
     "output_type": "execute_result"
    }
   ],
   "source": [
    "data_2_sheet_kmg.shape"
   ]
  },
  {
   "cell_type": "code",
   "execution_count": 4363,
   "metadata": {},
   "outputs": [],
   "source": [
    "data_2_sheet_kmg.dropna(subset=['npg_code'],inplace=True)\n",
    "#shows each and every row has an \"na\" Value"
   ]
  },
  {
   "cell_type": "code",
   "execution_count": 4367,
   "metadata": {},
   "outputs": [
    {
     "name": "stdout",
     "output_type": "stream",
     "text": [
      "total Categorized Customers = 64085\n"
     ]
    }
   ],
   "source": [
    "print(\"total Categorized Customers = \"+ str(data_2_sheet_kmg.loc[data_2_sheet_kmg['Outlet tagging']=='High','customer'].count()+\n",
    "                                           data_2_sheet_kmg.loc[data_2_sheet_kmg['Outlet tagging']=='Medium','customer'].count()+\n",
    "                                           data_2_sheet_kmg.loc[data_2_sheet_kmg['Outlet tagging']=='Low','customer'].count()))"
   ]
  },
  {
   "cell_type": "code",
   "execution_count": 4368,
   "metadata": {},
   "outputs": [],
   "source": [
    "try:\n",
    "    data_2_sheet_kmg.drop('Outlet tagging',axis=1,inplace=True)\n",
    "    data_2_sheet_kmg.drop(['TRIVANDRUM|GS PPG flag','TRIVANDRUM|KS PPG flag','TRIVANDRUM|MS PPG flag','TRISSUR|GS PPG flag','TRISSUR|KS PPG flag','TRISSUR|MS PPG flag'],axis=1,inplace=True)\n",
    "except:\n",
    "    pass"
   ]
  },
  {
   "cell_type": "code",
   "execution_count": 4374,
   "metadata": {},
   "outputs": [
    {
     "data": {
      "text/plain": [
       "4922"
      ]
     },
     "execution_count": 4374,
     "metadata": {},
     "output_type": "execute_result"
    }
   ],
   "source": [
    "len(data_2_sheet_kmg['customer'].unique())"
   ]
  },
  {
   "cell_type": "code",
   "execution_count": 4375,
   "metadata": {},
   "outputs": [],
   "source": [
    "product_dict = {}\n",
    "product_dict_inverse = {}"
   ]
  },
  {
   "cell_type": "code",
   "execution_count": 4376,
   "metadata": {},
   "outputs": [],
   "source": [
    "product_dict  = dict(zip(data_2_sheet_kmg['npg_code'],data_2_sheet_kmg['npg_desc'])) #product Dictionary"
   ]
  },
  {
   "cell_type": "code",
   "execution_count": 4377,
   "metadata": {},
   "outputs": [
    {
     "data": {
      "text/plain": [
       "175"
      ]
     },
     "execution_count": 4377,
     "metadata": {},
     "output_type": "execute_result"
    }
   ],
   "source": [
    "len(product_dict)"
   ]
  },
  {
   "cell_type": "code",
   "execution_count": 4378,
   "metadata": {},
   "outputs": [],
   "source": [
    "product_dict_inverse  = dict(zip(data_2_sheet_kmg['npg_desc'],data_2_sheet_kmg['npg_code'])) #product Dictionary"
   ]
  },
  {
   "cell_type": "code",
   "execution_count": 4379,
   "metadata": {},
   "outputs": [],
   "source": [
    "npg_list= [x for x in product_dict.keys()]\n"
   ]
  },
  {
   "cell_type": "code",
   "execution_count": 4380,
   "metadata": {},
   "outputs": [
    {
     "data": {
      "text/plain": [
       "175"
      ]
     },
     "execution_count": 4380,
     "metadata": {},
     "output_type": "execute_result"
    }
   ],
   "source": [
    "len(npg_list)"
   ]
  },
  {
   "cell_type": "code",
   "execution_count": 4381,
   "metadata": {},
   "outputs": [],
   "source": [
    "data_2_sheet_kmg['category'] = data_2_sheet_kmg['customer'].map(cat_dict) # applying outlet tagging ! "
   ]
  },
  {
   "cell_type": "code",
   "execution_count": null,
   "metadata": {},
   "outputs": [],
   "source": []
  },
  {
   "cell_type": "markdown",
   "metadata": {},
   "source": [
    "TESTING and Comparing Values"
   ]
  },
  {
   "cell_type": "code",
   "execution_count": 4382,
   "metadata": {},
   "outputs": [
    {
     "name": "stdout",
     "output_type": "stream",
     "text": [
      "High = 32670\n"
     ]
    }
   ],
   "source": [
    "#Values from Excel Sheet\n",
    "print(\"High = \" + str(data_2_sheet_kmg.loc[data_2_sheet_kmg['category']=='high','customer'].count()))"
   ]
  },
  {
   "cell_type": "code",
   "execution_count": 4383,
   "metadata": {},
   "outputs": [
    {
     "name": "stdout",
     "output_type": "stream",
     "text": [
      "Medium = 22421\n"
     ]
    }
   ],
   "source": [
    "#Values from Excel Sheet\n",
    "print(\"Medium = \" + str(data_2_sheet_kmg.loc[data_2_sheet_kmg['category']=='medium','customer'].count()))"
   ]
  },
  {
   "cell_type": "code",
   "execution_count": 4384,
   "metadata": {},
   "outputs": [
    {
     "name": "stdout",
     "output_type": "stream",
     "text": [
      "Low = 8908\n"
     ]
    }
   ],
   "source": [
    "#Values from Excel Sheet\n",
    "print(\"Low = \" + str(data_2_sheet_kmg.loc[data_2_sheet_kmg['category']=='low','customer'].count()))"
   ]
  },
  {
   "cell_type": "code",
   "execution_count": 4385,
   "metadata": {},
   "outputs": [
    {
     "name": "stdout",
     "output_type": "stream",
     "text": [
      "total Categorized Customers = 63999\n"
     ]
    }
   ],
   "source": [
    "print(\"total Categorized Customers = \"+ str(data_2_sheet_kmg.loc[data_2_sheet_kmg['category']=='high','customer'].count()+\n",
    "                                           data_2_sheet_kmg.loc[data_2_sheet_kmg['category']=='medium','customer'].count()+\n",
    "                                           data_2_sheet_kmg.loc[data_2_sheet_kmg['category']=='low','customer'].count()))"
   ]
  },
  {
   "cell_type": "code",
   "execution_count": 4387,
   "metadata": {},
   "outputs": [],
   "source": [
    "re_cust_dict  = dict(zip(data_2_sheet_kmg['customer'],data_2_sheet_kmg['category'])) #Re(high,low,medium)  Dictionary"
   ]
  },
  {
   "cell_type": "code",
   "execution_count": 4388,
   "metadata": {},
   "outputs": [],
   "source": [
    "city_cat_2 = list(data_2_sheet_kmg['city'].unique())"
   ]
  },
  {
   "cell_type": "code",
   "execution_count": 4389,
   "metadata": {},
   "outputs": [],
   "source": [
    "re_2 = list(data_2_sheet_kmg['re'].unique())"
   ]
  },
  {
   "cell_type": "code",
   "execution_count": 4390,
   "metadata": {},
   "outputs": [],
   "source": [
    "re_2 = list(set(re).intersection(set(re_2)))"
   ]
  },
  {
   "cell_type": "code",
   "execution_count": 4391,
   "metadata": {},
   "outputs": [
    {
     "data": {
      "text/plain": [
       "['GS', 'KS', 'MS']"
      ]
     },
     "execution_count": 4391,
     "metadata": {},
     "output_type": "execute_result"
    }
   ],
   "source": [
    "re_2"
   ]
  },
  {
   "cell_type": "markdown",
   "metadata": {},
   "source": [
    "Initial splits on first tree of city's then on the basis of different Re's for each and adding them to a dictionary"
   ]
  },
  {
   "cell_type": "code",
   "execution_count": 4392,
   "metadata": {},
   "outputs": [],
   "source": [
    "re_2_dict = {}\n",
    "for city in city_cat_2:\n",
    "    for r in re_2:\n",
    "        daf_2 = pd.DataFrame(data_2_sheet_kmg.loc[(data_2_sheet_kmg['re']==r)& (data_2_sheet_kmg['city']==city)])\n",
    "        re_2_dict['{}_{}'.format(city,r)]=pd.DataFrame(daf_2)\n",
    "#Dictionary basedd on city+re splits with entire data!         "
   ]
  },
  {
   "cell_type": "code",
   "execution_count": 4393,
   "metadata": {},
   "outputs": [],
   "source": [
    "re_2_keys=[]"
   ]
  },
  {
   "cell_type": "code",
   "execution_count": 4394,
   "metadata": {},
   "outputs": [
    {
     "data": {
      "text/plain": [
       "['TRIVANDRUM_GS',\n",
       " 'TRIVANDRUM_KS',\n",
       " 'TRIVANDRUM_MS',\n",
       " 'TRISSUR_GS',\n",
       " 'TRISSUR_KS',\n",
       " 'TRISSUR_MS']"
      ]
     },
     "execution_count": 4394,
     "metadata": {},
     "output_type": "execute_result"
    }
   ],
   "source": [
    "for key in re_2_dict.keys():\n",
    "    re_2_keys.append(key)\n",
    "re_2_keys"
   ]
  },
  {
   "cell_type": "code",
   "execution_count": 4395,
   "metadata": {},
   "outputs": [],
   "source": [
    "re = re_2"
   ]
  },
  {
   "cell_type": "markdown",
   "metadata": {},
   "source": [
    "# After extracting the keys using it to fetch [Sales value, Participation, quantity for each]"
   ]
  },
  {
   "cell_type": "markdown",
   "metadata": {},
   "source": [
    "Extraction process for sales value"
   ]
  },
  {
   "cell_type": "code",
   "execution_count": 4396,
   "metadata": {},
   "outputs": [],
   "source": [
    "#creating a unique list of npg_codes"
   ]
  },
  {
   "cell_type": "code",
   "execution_count": 4397,
   "metadata": {},
   "outputs": [
    {
     "data": {
      "text/plain": [
       "175"
      ]
     },
     "execution_count": 4397,
     "metadata": {},
     "output_type": "execute_result"
    }
   ],
   "source": [
    "len(npg_list)"
   ]
  },
  {
   "cell_type": "code",
   "execution_count": 4398,
   "metadata": {},
   "outputs": [],
   "source": [
    "sale_dict = {}\n",
    "\n",
    "for rk in re_2_keys:\n",
    "    temp =re_2_dict[rk]\n",
    "    temp = temp.dropna()\n",
    "    #npg_list = list(temp['npg_code'].values)\n",
    "    rows = npg_list\n",
    "    columns = [str(rk)+\"sale\"+'01',str(rk)+\"sale\"+'02',str(rk)+\"sale\"+'03',str(rk)+\"sale\"+'04',str(rk)+\"sale\"+'05',str(rk)+\"sale\"+'06',str(rk)+\"sale\"+'07']\n",
    "    column1 = 'sale_dict-npg'\n",
    "    model = pd.DataFrame(columns=columns)\n",
    "    model.insert(0,column1,rows)\n",
    "    i=0\n",
    "    for ni in npg_list:\n",
    "\n",
    "        temp1 = temp.loc[temp['npg_code']==ni]\n",
    "        model[str(rk)+\"sale\"+'01'][i]=temp1.loc[temp['SV_01']!=0,'SV_01'].sum()\n",
    "        model[str(rk)+\"sale\"+'02'][i]=temp1.loc[temp['SV_02']!=0,'SV_02'].sum()\n",
    "        model[str(rk)+\"sale\"+'03'][i]=temp1.loc[temp['SV_03']!=0,'SV_03'].sum()\n",
    "        model[str(rk)+\"sale\"+'04'][i]=temp1.loc[temp['SV_04']!=0,'SV_04'].sum()\n",
    "        model[str(rk)+\"sale\"+'05'][i]=temp1.loc[temp['SV_05']!=0,'SV_05'].sum()\n",
    "        model[str(rk)+\"sale\"+'06'][i]=temp1.loc[temp['SV_06']!=0,'SV_06'].sum()\n",
    "        model[str(rk)+\"sale\"+'07'][i]=temp1.loc[temp['SV_07']!=0,'SV_07'].sum()\n",
    "        i+=1\n",
    "    sale_dict[\"{}\".format(rk)]=pd.DataFrame(model)\n",
    "    i=0\n"
   ]
  },
  {
   "cell_type": "code",
   "execution_count": 4399,
   "metadata": {},
   "outputs": [
    {
     "data": {
      "text/plain": [
       "dict_keys(['TRIVANDRUM_GS', 'TRIVANDRUM_KS', 'TRIVANDRUM_MS', 'TRISSUR_GS', 'TRISSUR_KS', 'TRISSUR_MS'])"
      ]
     },
     "execution_count": 4399,
     "metadata": {},
     "output_type": "execute_result"
    }
   ],
   "source": [
    "sale_dict.keys()"
   ]
  },
  {
   "cell_type": "markdown",
   "metadata": {},
   "source": [
    "Verfied and cross- Checked With Values"
   ]
  },
  {
   "cell_type": "markdown",
   "metadata": {},
   "source": [
    "    "
   ]
  },
  {
   "cell_type": "markdown",
   "metadata": {},
   "source": [
    "                        \n"
   ]
  },
  {
   "cell_type": "markdown",
   "metadata": {},
   "source": [
    "Extraction process for Quantity"
   ]
  },
  {
   "cell_type": "code",
   "execution_count": 4407,
   "metadata": {},
   "outputs": [],
   "source": [
    "quant_dict = {}\n"
   ]
  },
  {
   "cell_type": "code",
   "execution_count": 4408,
   "metadata": {},
   "outputs": [],
   "source": [
    "for rk in re_2_keys:\n",
    "    temp =re_2_dict[rk]\n",
    "    temp = temp.dropna()\n",
    "    #npg_list = list(temp['npg_code'].unique())\n",
    "    rows = npg_list\n",
    "    columns = [str(rk)+'quant'+'01',str(rk)+'quant'+'02',str(rk)+'quant'+'03',str(rk)+'quant'+'04',str(rk)+'quant'+'05',str(rk)+'quant'+'06',str(rk)+'quant'+'07']\n",
    "    column1 = 'quant_dict-npg'\n",
    "    model = pd.DataFrame(columns=columns)\n",
    "    model.insert(0,column1,rows)\n",
    "    i=0\n",
    "    for ni in npg_list:\n",
    "\n",
    "        temp1 = temp.loc[temp['npg_code']==ni]\n",
    "        model[str(rk)+'quant'+'01'][i]=round(temp1.loc[temp['QY_01']!=0,'QY_01'].sum())\n",
    "        model[str(rk)+'quant'+'02'][i]=round(temp1.loc[temp['QY_02']!=0,'QY_02'].sum())\n",
    "        model[str(rk)+'quant'+'03'][i]=round(temp1.loc[temp['QY_03']!=0,'QY_03'].sum())\n",
    "        model[str(rk)+'quant'+'04'][i]=round(temp1.loc[temp['QY_04']!=0,'QY_04'].sum())\n",
    "        model[str(rk)+'quant'+'05'][i]=round(temp1.loc[temp['QY_05']!=0,'QY_05'].sum())\n",
    "        model[str(rk)+'quant'+'06'][i]=round(temp1.loc[temp['QY_06']!=0,'QY_06'].sum())\n",
    "        model[str(rk)+'quant'+'07'][i]=round(temp1.loc[temp['QY_07']!=0,'QY_07'].sum())\n",
    "        i+=1\n",
    "    quant_dict[\"{}\".format(rk)]=pd.DataFrame(model)\n",
    "    i=0\n"
   ]
  },
  {
   "cell_type": "code",
   "execution_count": 4409,
   "metadata": {},
   "outputs": [
    {
     "data": {
      "text/plain": [
       "dict_keys(['TRIVANDRUM_GS', 'TRIVANDRUM_KS', 'TRIVANDRUM_MS', 'TRISSUR_GS', 'TRISSUR_KS', 'TRISSUR_MS'])"
      ]
     },
     "execution_count": 4409,
     "metadata": {},
     "output_type": "execute_result"
    }
   ],
   "source": [
    "quant_dict.keys()"
   ]
  },
  {
   "cell_type": "markdown",
   "metadata": {},
   "source": [
    "Verfied and cross- Checked With Values"
   ]
  },
  {
   "cell_type": "markdown",
   "metadata": {},
   "source": [
    "     "
   ]
  },
  {
   "cell_type": "markdown",
   "metadata": {},
   "source": [
    "          "
   ]
  },
  {
   "cell_type": "markdown",
   "metadata": {},
   "source": [
    "               "
   ]
  },
  {
   "cell_type": "code",
   "execution_count": 4411,
   "metadata": {},
   "outputs": [],
   "source": [
    "#re_2_dict['TRIVANDRUM_KS']"
   ]
  },
  {
   "cell_type": "markdown",
   "metadata": {},
   "source": [
    "Extraction process for Participation"
   ]
  },
  {
   "cell_type": "code",
   "execution_count": 4412,
   "metadata": {},
   "outputs": [
    {
     "data": {
      "text/plain": [
       "['TRIVANDRUM_GS',\n",
       " 'TRIVANDRUM_KS',\n",
       " 'TRIVANDRUM_MS',\n",
       " 'TRISSUR_GS',\n",
       " 'TRISSUR_KS',\n",
       " 'TRISSUR_MS']"
      ]
     },
     "execution_count": 4412,
     "metadata": {},
     "output_type": "execute_result"
    }
   ],
   "source": [
    "re_2_keys"
   ]
  },
  {
   "cell_type": "code",
   "execution_count": 4413,
   "metadata": {},
   "outputs": [],
   "source": [
    "#product_dict"
   ]
  },
  {
   "cell_type": "code",
   "execution_count": 4414,
   "metadata": {},
   "outputs": [],
   "source": [
    "#part_dict = {}\n"
   ]
  },
  {
   "cell_type": "code",
   "execution_count": 4415,
   "metadata": {},
   "outputs": [
    {
     "data": {
      "text/plain": [
       "1215"
      ]
     },
     "execution_count": 4415,
     "metadata": {},
     "output_type": "execute_result"
    }
   ],
   "source": [
    "len(re_2_dict['TRIVANDRUM_KS']['customer'].unique())"
   ]
  },
  {
   "cell_type": "code",
   "execution_count": 4416,
   "metadata": {},
   "outputs": [],
   "source": [
    "part_dict= {}\n",
    "for rk in re_2_keys:\n",
    "    temp =re_2_dict[rk]\n",
    "    temp = temp.dropna()\n",
    "    cust_count = len(temp['customer'].unique())\n",
    "    #npg_list = list(temp['npg_code'].unique())\n",
    "    rows = npg_list\n",
    "    columns = [str(rk)+\"part\"+'01%',str(rk)+\"part\"+'02%',str(rk)+\"part\"+'03%',str(rk)+\"part\"+'04%',str(rk)+\"part\"+'05%',str(rk)+\"part\"+'06%',str(rk)+\"part\"+'07%']\n",
    "    column1 = 'part_dict-npg'\n",
    "    model = pd.DataFrame(columns=columns)\n",
    "    model.insert(0,column1,rows)\n",
    "    i=0\n",
    "    for ni in npg_list:\n",
    "\n",
    "        temp1 = temp.loc[temp['npg_code']==ni]\n",
    "        model[str(rk)+\"part\"+'01%'][i]=(temp1.loc[temp['M_01']=='Y','M_01'].count()/cust_count)*100\n",
    "        model[str(rk)+\"part\"+'02%'][i]=(temp1.loc[temp['M_02']=='Y','M_02'].count()/cust_count)*100\n",
    "        model[str(rk)+\"part\"+'03%'][i]=(temp1.loc[temp['M_03']=='Y','M_03'].count()/cust_count)*100\n",
    "        model[str(rk)+\"part\"+'04%'][i]=(temp1.loc[temp['M_04']=='Y','M_04'].count()/cust_count)*100\n",
    "        model[str(rk)+\"part\"+'05%'][i]=(temp1.loc[temp['M_05']=='Y','M_05'].count()/cust_count)*100\n",
    "        model[str(rk)+\"part\"+'06%'][i]=(temp1.loc[temp['M_06']=='Y','M_06'].count()/cust_count)*100\n",
    "        model[str(rk)+\"part\"+'07%'][i]=(temp1.loc[temp['M_07']=='Y','M_07'].count()/cust_count)*100\n",
    "        i+=1\n",
    "    part_dict[\"{}\".format(rk)]=pd.DataFrame(model)\n",
    "    i=0\n",
    "#SV_01\n"
   ]
  },
  {
   "cell_type": "code",
   "execution_count": 4417,
   "metadata": {},
   "outputs": [
    {
     "data": {
      "text/plain": [
       "dict_keys(['TRIVANDRUM_GS', 'TRIVANDRUM_KS', 'TRIVANDRUM_MS', 'TRISSUR_GS', 'TRISSUR_KS', 'TRISSUR_MS'])"
      ]
     },
     "execution_count": 4417,
     "metadata": {},
     "output_type": "execute_result"
    }
   ],
   "source": [
    "part_dict.keys()"
   ]
  },
  {
   "cell_type": "markdown",
   "metadata": {},
   "source": [
    "Verfied and cross- Checked With Values"
   ]
  },
  {
   "cell_type": "code",
   "execution_count": 4421,
   "metadata": {},
   "outputs": [],
   "source": [
    "#dicts are :- quant_dict ,sale_dict,part_dict"
   ]
  },
  {
   "cell_type": "markdown",
   "metadata": {},
   "source": [
    " "
   ]
  },
  {
   "cell_type": "markdown",
   "metadata": {},
   "source": [
    " "
   ]
  },
  {
   "cell_type": "markdown",
   "metadata": {},
   "source": [
    " "
   ]
  },
  {
   "cell_type": "markdown",
   "metadata": {},
   "source": [
    " "
   ]
  },
  {
   "cell_type": "markdown",
   "metadata": {},
   "source": [
    "# Fetching of [Sales value, Participation, quantity for each] and stored in respective dicts"
   ]
  },
  {
   "cell_type": "markdown",
   "metadata": {},
   "source": [
    " "
   ]
  },
  {
   "cell_type": "markdown",
   "metadata": {},
   "source": [
    "# Getting the Top 20 from each of the above - sales,quant,part"
   ]
  },
  {
   "cell_type": "markdown",
   "metadata": {},
   "source": [
    "# Creating average sheet - 7 Months"
   ]
  },
  {
   "cell_type": "code",
   "execution_count": 4422,
   "metadata": {},
   "outputs": [
    {
     "data": {
      "text/plain": [
       "dict_keys(['TRIVANDRUM_GS', 'TRIVANDRUM_KS', 'TRIVANDRUM_MS', 'TRISSUR_GS', 'TRISSUR_KS', 'TRISSUR_MS'])"
      ]
     },
     "execution_count": 4422,
     "metadata": {},
     "output_type": "execute_result"
    }
   ],
   "source": [
    "sale_dict.keys()"
   ]
  },
  {
   "cell_type": "markdown",
   "metadata": {},
   "source": [
    "1) for sales values/"
   ]
  },
  {
   "cell_type": "code",
   "execution_count": 4424,
   "metadata": {},
   "outputs": [],
   "source": [
    "final_sale_df = pd.DataFrame()"
   ]
  },
  {
   "cell_type": "code",
   "execution_count": 4425,
   "metadata": {},
   "outputs": [],
   "source": [
    "for key in list(sale_dict.keys()):\n",
    "    temp =sale_dict[key]\n",
    "    temp = temp.drop('sale_dict-npg',axis=1)\n",
    "    model_new = pd.DataFrame()\n",
    "    model_new[key+\"-Sale\"+'-average'] = temp.sum(axis=1)/7\n",
    "    final_sale_df = pd.concat([final_sale_df,model_new],axis=1)\n",
    "final_sale_df.insert(0,'Npg',npg_list)"
   ]
  },
  {
   "cell_type": "markdown",
   "metadata": {},
   "source": [
    "Verified "
   ]
  },
  {
   "cell_type": "markdown",
   "metadata": {},
   "source": [
    "2) Quantity "
   ]
  },
  {
   "cell_type": "code",
   "execution_count": 4427,
   "metadata": {},
   "outputs": [],
   "source": [
    "final_quant_df = pd.DataFrame()"
   ]
  },
  {
   "cell_type": "code",
   "execution_count": 4428,
   "metadata": {},
   "outputs": [],
   "source": [
    "for key in list(quant_dict.keys()):\n",
    "    temp =quant_dict[key]\n",
    "    temp = temp.drop('quant_dict-npg',axis=1)\n",
    "    model_new = pd.DataFrame()\n",
    "    model_new[key+\"-Quantity\"+'-average'] = temp.sum(axis=1)/7\n",
    "    final_quant_df = pd.concat([final_quant_df,model_new],axis=1)\n",
    "final_quant_df.insert(0,'Npg',npg_list)"
   ]
  },
  {
   "cell_type": "markdown",
   "metadata": {},
   "source": [
    "Verified"
   ]
  },
  {
   "cell_type": "markdown",
   "metadata": {},
   "source": [
    "3) Participation"
   ]
  },
  {
   "cell_type": "code",
   "execution_count": 4430,
   "metadata": {},
   "outputs": [],
   "source": [
    "\n",
    "final_part_df = pd.DataFrame()"
   ]
  },
  {
   "cell_type": "code",
   "execution_count": 4431,
   "metadata": {},
   "outputs": [
    {
     "data": {
      "text/plain": [
       "dict_keys(['TRIVANDRUM_GS', 'TRIVANDRUM_KS', 'TRIVANDRUM_MS', 'TRISSUR_GS', 'TRISSUR_KS', 'TRISSUR_MS'])"
      ]
     },
     "execution_count": 4431,
     "metadata": {},
     "output_type": "execute_result"
    }
   ],
   "source": [
    "part_dict.keys()"
   ]
  },
  {
   "cell_type": "code",
   "execution_count": 4432,
   "metadata": {},
   "outputs": [],
   "source": [
    "for key in list(part_dict.keys()):\n",
    "    temp =part_dict[key]\n",
    "    temp = temp.drop('part_dict-npg',axis=1)\n",
    "    model_new = pd.DataFrame()\n",
    "    model_new[key+\"-Participation\"+'-average'] = temp.sum(axis=1)/7\n",
    "    final_part_df = pd.concat([final_part_df,model_new],axis=1)\n",
    "final_part_df.insert(0,'Npg',npg_list)"
   ]
  },
  {
   "cell_type": "code",
   "execution_count": 4433,
   "metadata": {},
   "outputs": [],
   "source": [
    "temp = final_part_df\n"
   ]
  },
  {
   "cell_type": "markdown",
   "metadata": {},
   "source": [
    "Verified"
   ]
  },
  {
   "cell_type": "markdown",
   "metadata": {},
   "source": [
    "# Joining the final 3 Datasheets for picking the tops"
   ]
  },
  {
   "cell_type": "code",
   "execution_count": 4441,
   "metadata": {},
   "outputs": [],
   "source": [
    "final_3_df = pd.DataFrame()"
   ]
  },
  {
   "cell_type": "code",
   "execution_count": 4442,
   "metadata": {},
   "outputs": [],
   "source": [
    "final_3_df = pd.concat([final_sale_df,final_part_df,final_quant_df],axis=1)"
   ]
  },
  {
   "cell_type": "code",
   "execution_count": 4444,
   "metadata": {},
   "outputs": [],
   "source": [
    "prod_list = product_dict.values()\n",
    "#npg_list"
   ]
  },
  {
   "cell_type": "code",
   "execution_count": 4446,
   "metadata": {},
   "outputs": [],
   "source": [
    "final_3_df =final_3_df.drop(['Npg'],axis=1)"
   ]
  },
  {
   "cell_type": "code",
   "execution_count": 4447,
   "metadata": {},
   "outputs": [],
   "source": [
    "final_3_df.insert(0,'Product',prod_list)"
   ]
  },
  {
   "cell_type": "markdown",
   "metadata": {},
   "source": [
    "# Obtained Consolidation\n",
    "Noticed Almost Nill Variations"
   ]
  },
  {
   "cell_type": "markdown",
   "metadata": {},
   "source": [
    " "
   ]
  },
  {
   "cell_type": "markdown",
   "metadata": {},
   "source": [
    " "
   ]
  },
  {
   "cell_type": "markdown",
   "metadata": {},
   "source": [
    " "
   ]
  },
  {
   "cell_type": "markdown",
   "metadata": {},
   "source": [
    "# obtaining top 20 for all re's - 7 Months"
   ]
  },
  {
   "cell_type": "code",
   "execution_count": 4451,
   "metadata": {},
   "outputs": [],
   "source": [
    "top_20_list = {}\n",
    "df_list  = list(final_3_df.columns)\n",
    "df_list = df_list[1:]"
   ]
  },
  {
   "cell_type": "code",
   "execution_count": 4452,
   "metadata": {},
   "outputs": [
    {
     "data": {
      "text/plain": [
       "['TRIVANDRUM_GS-Sale-average',\n",
       " 'TRIVANDRUM_KS-Sale-average',\n",
       " 'TRIVANDRUM_MS-Sale-average',\n",
       " 'TRISSUR_GS-Sale-average',\n",
       " 'TRISSUR_KS-Sale-average',\n",
       " 'TRISSUR_MS-Sale-average',\n",
       " 'TRIVANDRUM_GS-Participation-average',\n",
       " 'TRIVANDRUM_KS-Participation-average',\n",
       " 'TRIVANDRUM_MS-Participation-average',\n",
       " 'TRISSUR_GS-Participation-average',\n",
       " 'TRISSUR_KS-Participation-average',\n",
       " 'TRISSUR_MS-Participation-average',\n",
       " 'TRIVANDRUM_GS-Quantity-average',\n",
       " 'TRIVANDRUM_KS-Quantity-average',\n",
       " 'TRIVANDRUM_MS-Quantity-average',\n",
       " 'TRISSUR_GS-Quantity-average',\n",
       " 'TRISSUR_KS-Quantity-average',\n",
       " 'TRISSUR_MS-Quantity-average']"
      ]
     },
     "execution_count": 4452,
     "metadata": {},
     "output_type": "execute_result"
    }
   ],
   "source": [
    "df_list"
   ]
  },
  {
   "cell_type": "code",
   "execution_count": 4453,
   "metadata": {},
   "outputs": [],
   "source": [
    "for dl in df_list:\n",
    "    temp = final_3_df.sort_values(dl,ascending=False)\n",
    "    temp_list = temp['Product'].to_list()\n",
    "    temp_list = temp_list[:20]\n",
    "    top_20_list[\"{}\".format(dl)] = pd.DataFrame(temp_list)\n",
    "    "
   ]
  },
  {
   "cell_type": "code",
   "execution_count": 4454,
   "metadata": {},
   "outputs": [],
   "source": [
    "top_20_7M_keys = list(top_20_list.keys())"
   ]
  },
  {
   "cell_type": "code",
   "execution_count": 4455,
   "metadata": {},
   "outputs": [],
   "source": [
    "top_20_7M_df = pd.DataFrame(columns = top_20_7M_keys)"
   ]
  },
  {
   "cell_type": "code",
   "execution_count": 4456,
   "metadata": {},
   "outputs": [],
   "source": [
    "for key in top_20_7M_keys:\n",
    "    temp = list(top_20_list[key][0])\n",
    "    top_20_7M_df[key] = temp"
   ]
  },
  {
   "cell_type": "code",
   "execution_count": null,
   "metadata": {},
   "outputs": [],
   "source": []
  },
  {
   "cell_type": "code",
   "execution_count": 4459,
   "metadata": {},
   "outputs": [
    {
     "data": {
      "text/plain": [
       "dict_keys(['TRIVANDRUM_GS', 'TRIVANDRUM_KS', 'TRIVANDRUM_MS', 'TRISSUR_GS', 'TRISSUR_KS', 'TRISSUR_MS'])"
      ]
     },
     "execution_count": 4459,
     "metadata": {},
     "output_type": "execute_result"
    }
   ],
   "source": [
    "sale_dict.keys()"
   ]
  },
  {
   "cell_type": "code",
   "execution_count": 4460,
   "metadata": {},
   "outputs": [
    {
     "data": {
      "text/plain": [
       "Index(['TRIVANDRUM_GS-Sale-average', 'TRIVANDRUM_KS-Sale-average',\n",
       "       'TRIVANDRUM_MS-Sale-average', 'TRISSUR_GS-Sale-average',\n",
       "       'TRISSUR_KS-Sale-average', 'TRISSUR_MS-Sale-average',\n",
       "       'TRIVANDRUM_GS-Participation-average',\n",
       "       'TRIVANDRUM_KS-Participation-average',\n",
       "       'TRIVANDRUM_MS-Participation-average',\n",
       "       'TRISSUR_GS-Participation-average', 'TRISSUR_KS-Participation-average',\n",
       "       'TRISSUR_MS-Participation-average', 'TRIVANDRUM_GS-Quantity-average',\n",
       "       'TRIVANDRUM_KS-Quantity-average', 'TRIVANDRUM_MS-Quantity-average',\n",
       "       'TRISSUR_GS-Quantity-average', 'TRISSUR_KS-Quantity-average',\n",
       "       'TRISSUR_MS-Quantity-average'],\n",
       "      dtype='object')"
      ]
     },
     "execution_count": 4460,
     "metadata": {},
     "output_type": "execute_result"
    }
   ],
   "source": [
    "top_20_7M_df.keys()"
   ]
  },
  {
   "cell_type": "code",
   "execution_count": 4461,
   "metadata": {},
   "outputs": [
    {
     "name": "stdout",
     "output_type": "stream",
     "text": [
      "TRIVANDRUM_GS-Sale-average\n",
      "inside\n",
      "TRIVANDRUM_GS-Participation-average\n",
      "inside\n",
      "TRIVANDRUM_GS-Quantity-average\n",
      "inside\n",
      "TRIVANDRUM_KS-Sale-average\n",
      "inside\n",
      "TRIVANDRUM_KS-Participation-average\n",
      "inside\n",
      "TRIVANDRUM_KS-Quantity-average\n",
      "inside\n",
      "TRIVANDRUM_MS-Sale-average\n",
      "inside\n",
      "TRIVANDRUM_MS-Participation-average\n",
      "inside\n",
      "TRIVANDRUM_MS-Quantity-average\n",
      "inside\n",
      "TRISSUR_GS-Sale-average\n",
      "inside\n",
      "TRISSUR_GS-Participation-average\n",
      "inside\n",
      "TRISSUR_GS-Quantity-average\n",
      "inside\n",
      "TRISSUR_KS-Sale-average\n",
      "inside\n",
      "TRISSUR_KS-Participation-average\n",
      "inside\n",
      "TRISSUR_KS-Quantity-average\n",
      "inside\n",
      "TRISSUR_MS-Sale-average\n",
      "inside\n",
      "TRISSUR_MS-Participation-average\n",
      "inside\n",
      "TRISSUR_MS-Quantity-average\n",
      "inside\n"
     ]
    }
   ],
   "source": [
    "temp = list(top_20_7M_df.keys())\n",
    "temp1 = list(sale_dict.keys())\n",
    "top207m={}\n",
    "lister = []\n",
    "iter_ = 0\n",
    "for iter_ in temp1:\n",
    "    lister=[]\n",
    "    for key in temp:\n",
    "\n",
    "        \n",
    "        if key.find(iter_)!=-1:\n",
    "            print(key)\n",
    "            print(\"inside\")\n",
    "            \n",
    "            n_temp = top_20_7M_df[key].tolist()\n",
    "            lister.append(n_temp)\n",
    "        else:\n",
    "            pass\n",
    "    top207m[\"{}\".format(iter_)] = lister\n",
    "    \n",
    "        \n",
    "        \n",
    "        \n",
    "        \n",
    "    \n",
    "    "
   ]
  },
  {
   "cell_type": "code",
   "execution_count": 4462,
   "metadata": {},
   "outputs": [
    {
     "data": {
      "text/plain": [
       "dict_keys(['TRIVANDRUM_GS', 'TRIVANDRUM_KS', 'TRIVANDRUM_MS', 'TRISSUR_GS', 'TRISSUR_KS', 'TRISSUR_MS'])"
      ]
     },
     "execution_count": 4462,
     "metadata": {},
     "output_type": "execute_result"
    }
   ],
   "source": [
    "top207m.keys()"
   ]
  },
  {
   "cell_type": "code",
   "execution_count": 4463,
   "metadata": {},
   "outputs": [],
   "source": [
    "#top207m['TRIVANDRUM_GS']"
   ]
  },
  {
   "cell_type": "code",
   "execution_count": 4464,
   "metadata": {},
   "outputs": [],
   "source": [
    "temp = top207m['TRISSUR_GS']\n",
    "temp1 = [y for x in temp for y in x]"
   ]
  },
  {
   "cell_type": "code",
   "execution_count": 4468,
   "metadata": {},
   "outputs": [],
   "source": [
    "len_list = []\n",
    "for key in top207m.keys():\n",
    "    temp = top207m[key]\n",
    "    temp1 = [y for x in temp for y in x]\n",
    "    temp_set = list(set(temp1))\n",
    "    len_list.append(len(temp_set))\n",
    "m_l = max(len_list)"
   ]
  },
  {
   "cell_type": "code",
   "execution_count": 4470,
   "metadata": {},
   "outputs": [],
   "source": [
    "top207m.keys()\n",
    "top20_7m = pd.DataFrame()\n",
    "i=0\n",
    "top20_7m['null'] = [0 for x in range(m_l)]\n",
    "for key in top207m.keys():\n",
    "    temp = top207m[key]\n",
    "    temp1 = [y for x in temp for y in x]\n",
    "    temp_set = list(set(temp1))\n",
    "    top20_7m[key] = pd.Series(temp_set)\n",
    "top20_7m.drop('null',inplace=True,axis=1)  "
   ]
  },
  {
   "cell_type": "code",
   "execution_count": 4471,
   "metadata": {},
   "outputs": [
    {
     "data": {
      "text/plain": [
       "Index(['TRIVANDRUM_GS', 'TRIVANDRUM_KS', 'TRIVANDRUM_MS', 'TRISSUR_GS',\n",
       "       'TRISSUR_KS', 'TRISSUR_MS'],\n",
       "      dtype='object')"
      ]
     },
     "execution_count": 4471,
     "metadata": {},
     "output_type": "execute_result"
    }
   ],
   "source": [
    "top20_7m.keys()"
   ]
  },
  {
   "cell_type": "markdown",
   "metadata": {},
   "source": [
    "# Creating Averages for 3 months"
   ]
  },
  {
   "cell_type": "markdown",
   "metadata": {},
   "source": [
    "1) Sales Value"
   ]
  },
  {
   "cell_type": "code",
   "execution_count": 4476,
   "metadata": {},
   "outputs": [],
   "source": [
    "final_sale_df3 = pd.DataFrame()\n"
   ]
  },
  {
   "cell_type": "code",
   "execution_count": 4477,
   "metadata": {},
   "outputs": [
    {
     "data": {
      "text/plain": [
       "dict_keys(['TRIVANDRUM_GS', 'TRIVANDRUM_KS', 'TRIVANDRUM_MS', 'TRISSUR_GS', 'TRISSUR_KS', 'TRISSUR_MS'])"
      ]
     },
     "execution_count": 4477,
     "metadata": {},
     "output_type": "execute_result"
    }
   ],
   "source": [
    "sale_dict.keys()"
   ]
  },
  {
   "cell_type": "code",
   "execution_count": 4478,
   "metadata": {},
   "outputs": [],
   "source": [
    "for key in list(sale_dict.keys()):\n",
    "    temp =sale_dict[key].iloc[:,-3:,]\n",
    "    #temp = temp.drop('sale_dict-npg',axis=1)\n",
    "    model_new = pd.DataFrame()\n",
    "    model_new[key+\"-Sale\"+'-average'] = temp.sum(axis=1)/3\n",
    "    final_sale_df3 = pd.concat([final_sale_df3,model_new],axis=1)\n",
    "final_sale_df3.insert(0,'Npg',npg_list)"
   ]
  },
  {
   "cell_type": "markdown",
   "metadata": {},
   "source": [
    "2) Quantity"
   ]
  },
  {
   "cell_type": "code",
   "execution_count": 4481,
   "metadata": {},
   "outputs": [],
   "source": [
    "final_quant_df3 = pd.DataFrame()"
   ]
  },
  {
   "cell_type": "code",
   "execution_count": 4482,
   "metadata": {},
   "outputs": [],
   "source": [
    "for key in list(quant_dict.keys()):\n",
    "    temp =quant_dict[key].iloc[:,-3:,]\n",
    "    #temp = temp.drop('sale_dict-npg',axis=1)\n",
    "    model_new = pd.DataFrame()\n",
    "    model_new[key+\"-Quantity\"+'-average'] = temp.sum(axis=1)/3\n",
    "    final_quant_df3 = pd.concat([final_quant_df3,model_new],axis=1)\n",
    "final_quant_df3.insert(0,'Npg',npg_list)"
   ]
  },
  {
   "cell_type": "markdown",
   "metadata": {},
   "source": [
    "3) Participation"
   ]
  },
  {
   "cell_type": "code",
   "execution_count": 4483,
   "metadata": {},
   "outputs": [],
   "source": [
    "final_part_df3 = pd.DataFrame()"
   ]
  },
  {
   "cell_type": "code",
   "execution_count": 4484,
   "metadata": {},
   "outputs": [],
   "source": [
    "for key in list(part_dict.keys()):\n",
    "    temp =part_dict[key].iloc[:,-3:,]\n",
    "    #temp = temp.drop('sale_dict-npg',axis=1)\n",
    "    model_new = pd.DataFrame()\n",
    "    model_new[key+\"-Participation\"+'-average'] = temp.sum(axis=1)/3\n",
    "    final_part_df3 = pd.concat([final_part_df3,model_new],axis=1)\n",
    "final_part_df3.insert(0,'Npg',npg_list)"
   ]
  },
  {
   "cell_type": "code",
   "execution_count": 4485,
   "metadata": {},
   "outputs": [],
   "source": [
    "final_3_df3 = pd.DataFrame()"
   ]
  },
  {
   "cell_type": "code",
   "execution_count": 4486,
   "metadata": {},
   "outputs": [],
   "source": [
    "final_3_df3 = pd.concat([final_sale_df3,final_part_df3,final_quant_df3],axis=1)"
   ]
  },
  {
   "cell_type": "code",
   "execution_count": 4487,
   "metadata": {},
   "outputs": [],
   "source": [
    "final_3_df3 =final_3_df3.drop(['Npg'],axis=1)"
   ]
  },
  {
   "cell_type": "code",
   "execution_count": 4488,
   "metadata": {},
   "outputs": [],
   "source": [
    "final_3_df3.insert(0,'Product',prod_list)"
   ]
  },
  {
   "cell_type": "code",
   "execution_count": 4489,
   "metadata": {},
   "outputs": [
    {
     "data": {
      "text/html": [
       "<div>\n",
       "<style scoped>\n",
       "    .dataframe tbody tr th:only-of-type {\n",
       "        vertical-align: middle;\n",
       "    }\n",
       "\n",
       "    .dataframe tbody tr th {\n",
       "        vertical-align: top;\n",
       "    }\n",
       "\n",
       "    .dataframe thead th {\n",
       "        text-align: right;\n",
       "    }\n",
       "</style>\n",
       "<table border=\"1\" class=\"dataframe\">\n",
       "  <thead>\n",
       "    <tr style=\"text-align: right;\">\n",
       "      <th></th>\n",
       "      <th>Product</th>\n",
       "      <th>TRIVANDRUM_GS-Sale-average</th>\n",
       "      <th>TRIVANDRUM_KS-Sale-average</th>\n",
       "      <th>TRIVANDRUM_MS-Sale-average</th>\n",
       "      <th>TRISSUR_GS-Sale-average</th>\n",
       "      <th>TRISSUR_KS-Sale-average</th>\n",
       "      <th>TRISSUR_MS-Sale-average</th>\n",
       "      <th>TRIVANDRUM_GS-Participation-average</th>\n",
       "      <th>TRIVANDRUM_KS-Participation-average</th>\n",
       "      <th>TRIVANDRUM_MS-Participation-average</th>\n",
       "      <th>TRISSUR_GS-Participation-average</th>\n",
       "      <th>TRISSUR_KS-Participation-average</th>\n",
       "      <th>TRISSUR_MS-Participation-average</th>\n",
       "      <th>TRIVANDRUM_GS-Quantity-average</th>\n",
       "      <th>TRIVANDRUM_KS-Quantity-average</th>\n",
       "      <th>TRIVANDRUM_MS-Quantity-average</th>\n",
       "      <th>TRISSUR_GS-Quantity-average</th>\n",
       "      <th>TRISSUR_KS-Quantity-average</th>\n",
       "      <th>TRISSUR_MS-Quantity-average</th>\n",
       "    </tr>\n",
       "  </thead>\n",
       "  <tbody>\n",
       "    <tr>\n",
       "      <th>0</th>\n",
       "      <td>TB Col ZigZag Base M/S B2G1</td>\n",
       "      <td>3596.386667</td>\n",
       "      <td>1340.270000</td>\n",
       "      <td>301.560000</td>\n",
       "      <td>1193.676667</td>\n",
       "      <td>1800.063333</td>\n",
       "      <td>364.386667</td>\n",
       "      <td>2.559055</td>\n",
       "      <td>0.438957</td>\n",
       "      <td>0.343643</td>\n",
       "      <td>1.231310</td>\n",
       "      <td>0.406009</td>\n",
       "      <td>0.793651</td>\n",
       "      <td>22.666667</td>\n",
       "      <td>11.000000</td>\n",
       "      <td>1.333333</td>\n",
       "      <td>5.333333</td>\n",
       "      <td>11.666667</td>\n",
       "      <td>1.666667</td>\n",
       "    </tr>\n",
       "    <tr>\n",
       "      <th>1</th>\n",
       "      <td>TP Col DenCrm Rs.20</td>\n",
       "      <td>190752.463333</td>\n",
       "      <td>154374.553333</td>\n",
       "      <td>30731.406667</td>\n",
       "      <td>93283.873333</td>\n",
       "      <td>142450.016667</td>\n",
       "      <td>7057.696667</td>\n",
       "      <td>73.556430</td>\n",
       "      <td>49.519890</td>\n",
       "      <td>54.810997</td>\n",
       "      <td>74.582234</td>\n",
       "      <td>41.494113</td>\n",
       "      <td>40.277778</td>\n",
       "      <td>13358.333333</td>\n",
       "      <td>10810.666667</td>\n",
       "      <td>2151.333333</td>\n",
       "      <td>6532.333333</td>\n",
       "      <td>9975.333333</td>\n",
       "      <td>494.000000</td>\n",
       "    </tr>\n",
       "    <tr>\n",
       "      <th>2</th>\n",
       "      <td>TB Col Cib Suprme Hard PO1</td>\n",
       "      <td>86107.340000</td>\n",
       "      <td>60561.296667</td>\n",
       "      <td>30594.843333</td>\n",
       "      <td>40309.830000</td>\n",
       "      <td>43073.006667</td>\n",
       "      <td>8272.580000</td>\n",
       "      <td>48.556430</td>\n",
       "      <td>20.384088</td>\n",
       "      <td>30.927835</td>\n",
       "      <td>41.160950</td>\n",
       "      <td>11.875761</td>\n",
       "      <td>19.642857</td>\n",
       "      <td>4933.666667</td>\n",
       "      <td>3470.000000</td>\n",
       "      <td>1753.000000</td>\n",
       "      <td>2309.666667</td>\n",
       "      <td>2468.000000</td>\n",
       "      <td>474.000000</td>\n",
       "    </tr>\n",
       "    <tr>\n",
       "      <th>3</th>\n",
       "      <td>TP Col Cib 123 175g</td>\n",
       "      <td>34601.743333</td>\n",
       "      <td>17205.530000</td>\n",
       "      <td>2828.776667</td>\n",
       "      <td>32447.430000</td>\n",
       "      <td>24080.033333</td>\n",
       "      <td>903.883333</td>\n",
       "      <td>24.146982</td>\n",
       "      <td>6.008230</td>\n",
       "      <td>6.013746</td>\n",
       "      <td>36.235708</td>\n",
       "      <td>8.241981</td>\n",
       "      <td>5.158730</td>\n",
       "      <td>881.000000</td>\n",
       "      <td>438.000000</td>\n",
       "      <td>72.000000</td>\n",
       "      <td>826.000000</td>\n",
       "      <td>613.000000</td>\n",
       "      <td>23.000000</td>\n",
       "    </tr>\n",
       "    <tr>\n",
       "      <th>4</th>\n",
       "      <td>TP Col ActSlt HltWht 100g</td>\n",
       "      <td>2559.300000</td>\n",
       "      <td>1279.560000</td>\n",
       "      <td>199.960000</td>\n",
       "      <td>733.273333</td>\n",
       "      <td>493.333333</td>\n",
       "      <td>13.326667</td>\n",
       "      <td>2.427822</td>\n",
       "      <td>0.466392</td>\n",
       "      <td>0.429553</td>\n",
       "      <td>1.143360</td>\n",
       "      <td>0.101502</td>\n",
       "      <td>0.198413</td>\n",
       "      <td>64.000000</td>\n",
       "      <td>32.000000</td>\n",
       "      <td>5.000000</td>\n",
       "      <td>18.333333</td>\n",
       "      <td>12.333333</td>\n",
       "      <td>0.333333</td>\n",
       "    </tr>\n",
       "    <tr>\n",
       "      <th>...</th>\n",
       "      <td>...</td>\n",
       "      <td>...</td>\n",
       "      <td>...</td>\n",
       "      <td>...</td>\n",
       "      <td>...</td>\n",
       "      <td>...</td>\n",
       "      <td>...</td>\n",
       "      <td>...</td>\n",
       "      <td>...</td>\n",
       "      <td>...</td>\n",
       "      <td>...</td>\n",
       "      <td>...</td>\n",
       "      <td>...</td>\n",
       "      <td>...</td>\n",
       "      <td>...</td>\n",
       "      <td>...</td>\n",
       "      <td>...</td>\n",
       "      <td>...</td>\n",
       "      <td>...</td>\n",
       "    </tr>\n",
       "    <tr>\n",
       "      <th>170</th>\n",
       "      <td>TB Col Sens Sft B2G1</td>\n",
       "      <td>0.000000</td>\n",
       "      <td>0.000000</td>\n",
       "      <td>0.000000</td>\n",
       "      <td>0.000000</td>\n",
       "      <td>0.000000</td>\n",
       "      <td>0.000000</td>\n",
       "      <td>0.000000</td>\n",
       "      <td>0.000000</td>\n",
       "      <td>0.000000</td>\n",
       "      <td>0.000000</td>\n",
       "      <td>0.000000</td>\n",
       "      <td>0.000000</td>\n",
       "      <td>0.000000</td>\n",
       "      <td>0.000000</td>\n",
       "      <td>0.000000</td>\n",
       "      <td>0.000000</td>\n",
       "      <td>0.000000</td>\n",
       "      <td>0.000000</td>\n",
       "    </tr>\n",
       "    <tr>\n",
       "      <th>171</th>\n",
       "      <td>TP Col SPR Base 70g</td>\n",
       "      <td>0.000000</td>\n",
       "      <td>0.000000</td>\n",
       "      <td>0.000000</td>\n",
       "      <td>0.000000</td>\n",
       "      <td>0.000000</td>\n",
       "      <td>0.000000</td>\n",
       "      <td>0.000000</td>\n",
       "      <td>0.000000</td>\n",
       "      <td>0.000000</td>\n",
       "      <td>0.000000</td>\n",
       "      <td>0.000000</td>\n",
       "      <td>0.000000</td>\n",
       "      <td>0.000000</td>\n",
       "      <td>0.000000</td>\n",
       "      <td>0.000000</td>\n",
       "      <td>0.000000</td>\n",
       "      <td>0.000000</td>\n",
       "      <td>0.000000</td>\n",
       "    </tr>\n",
       "    <tr>\n",
       "      <th>172</th>\n",
       "      <td>TB Col 360 Surrnd M/S PO1</td>\n",
       "      <td>0.000000</td>\n",
       "      <td>0.000000</td>\n",
       "      <td>0.000000</td>\n",
       "      <td>0.000000</td>\n",
       "      <td>0.000000</td>\n",
       "      <td>0.000000</td>\n",
       "      <td>0.000000</td>\n",
       "      <td>0.000000</td>\n",
       "      <td>0.000000</td>\n",
       "      <td>0.000000</td>\n",
       "      <td>0.000000</td>\n",
       "      <td>0.000000</td>\n",
       "      <td>0.000000</td>\n",
       "      <td>0.000000</td>\n",
       "      <td>0.000000</td>\n",
       "      <td>0.000000</td>\n",
       "      <td>0.000000</td>\n",
       "      <td>0.000000</td>\n",
       "    </tr>\n",
       "    <tr>\n",
       "      <th>173</th>\n",
       "      <td>TB Col SlimSf TriTip Sft B2G1</td>\n",
       "      <td>0.000000</td>\n",
       "      <td>0.000000</td>\n",
       "      <td>0.000000</td>\n",
       "      <td>0.000000</td>\n",
       "      <td>0.000000</td>\n",
       "      <td>0.000000</td>\n",
       "      <td>0.000000</td>\n",
       "      <td>0.000000</td>\n",
       "      <td>0.000000</td>\n",
       "      <td>0.000000</td>\n",
       "      <td>0.000000</td>\n",
       "      <td>0.000000</td>\n",
       "      <td>0.000000</td>\n",
       "      <td>0.000000</td>\n",
       "      <td>0.000000</td>\n",
       "      <td>0.000000</td>\n",
       "      <td>0.000000</td>\n",
       "      <td>0.000000</td>\n",
       "    </tr>\n",
       "    <tr>\n",
       "      <th>174</th>\n",
       "      <td>MW Col Plax Saunf 250ml</td>\n",
       "      <td>0.000000</td>\n",
       "      <td>0.000000</td>\n",
       "      <td>0.000000</td>\n",
       "      <td>0.000000</td>\n",
       "      <td>0.000000</td>\n",
       "      <td>0.000000</td>\n",
       "      <td>0.000000</td>\n",
       "      <td>0.000000</td>\n",
       "      <td>0.000000</td>\n",
       "      <td>0.000000</td>\n",
       "      <td>0.000000</td>\n",
       "      <td>0.000000</td>\n",
       "      <td>0.000000</td>\n",
       "      <td>0.000000</td>\n",
       "      <td>0.000000</td>\n",
       "      <td>0.000000</td>\n",
       "      <td>0.000000</td>\n",
       "      <td>0.000000</td>\n",
       "    </tr>\n",
       "  </tbody>\n",
       "</table>\n",
       "<p>175 rows × 19 columns</p>\n",
       "</div>"
      ],
      "text/plain": [
       "                           Product  TRIVANDRUM_GS-Sale-average  \\\n",
       "0      TB Col ZigZag Base M/S B2G1                 3596.386667   \n",
       "1              TP Col DenCrm Rs.20               190752.463333   \n",
       "2       TB Col Cib Suprme Hard PO1                86107.340000   \n",
       "3              TP Col Cib 123 175g                34601.743333   \n",
       "4        TP Col ActSlt HltWht 100g                 2559.300000   \n",
       "..                             ...                         ...   \n",
       "170           TB Col Sens Sft B2G1                    0.000000   \n",
       "171            TP Col SPR Base 70g                    0.000000   \n",
       "172      TB Col 360 Surrnd M/S PO1                    0.000000   \n",
       "173  TB Col SlimSf TriTip Sft B2G1                    0.000000   \n",
       "174        MW Col Plax Saunf 250ml                    0.000000   \n",
       "\n",
       "     TRIVANDRUM_KS-Sale-average  TRIVANDRUM_MS-Sale-average  \\\n",
       "0                   1340.270000                  301.560000   \n",
       "1                 154374.553333                30731.406667   \n",
       "2                  60561.296667                30594.843333   \n",
       "3                  17205.530000                 2828.776667   \n",
       "4                   1279.560000                  199.960000   \n",
       "..                          ...                         ...   \n",
       "170                    0.000000                    0.000000   \n",
       "171                    0.000000                    0.000000   \n",
       "172                    0.000000                    0.000000   \n",
       "173                    0.000000                    0.000000   \n",
       "174                    0.000000                    0.000000   \n",
       "\n",
       "     TRISSUR_GS-Sale-average  TRISSUR_KS-Sale-average  \\\n",
       "0                1193.676667              1800.063333   \n",
       "1               93283.873333            142450.016667   \n",
       "2               40309.830000             43073.006667   \n",
       "3               32447.430000             24080.033333   \n",
       "4                 733.273333               493.333333   \n",
       "..                       ...                      ...   \n",
       "170                 0.000000                 0.000000   \n",
       "171                 0.000000                 0.000000   \n",
       "172                 0.000000                 0.000000   \n",
       "173                 0.000000                 0.000000   \n",
       "174                 0.000000                 0.000000   \n",
       "\n",
       "     TRISSUR_MS-Sale-average  TRIVANDRUM_GS-Participation-average  \\\n",
       "0                 364.386667                             2.559055   \n",
       "1                7057.696667                            73.556430   \n",
       "2                8272.580000                            48.556430   \n",
       "3                 903.883333                            24.146982   \n",
       "4                  13.326667                             2.427822   \n",
       "..                       ...                                  ...   \n",
       "170                 0.000000                             0.000000   \n",
       "171                 0.000000                             0.000000   \n",
       "172                 0.000000                             0.000000   \n",
       "173                 0.000000                             0.000000   \n",
       "174                 0.000000                             0.000000   \n",
       "\n",
       "     TRIVANDRUM_KS-Participation-average  TRIVANDRUM_MS-Participation-average  \\\n",
       "0                               0.438957                             0.343643   \n",
       "1                              49.519890                            54.810997   \n",
       "2                              20.384088                            30.927835   \n",
       "3                               6.008230                             6.013746   \n",
       "4                               0.466392                             0.429553   \n",
       "..                                   ...                                  ...   \n",
       "170                             0.000000                             0.000000   \n",
       "171                             0.000000                             0.000000   \n",
       "172                             0.000000                             0.000000   \n",
       "173                             0.000000                             0.000000   \n",
       "174                             0.000000                             0.000000   \n",
       "\n",
       "     TRISSUR_GS-Participation-average  TRISSUR_KS-Participation-average  \\\n",
       "0                            1.231310                          0.406009   \n",
       "1                           74.582234                         41.494113   \n",
       "2                           41.160950                         11.875761   \n",
       "3                           36.235708                          8.241981   \n",
       "4                            1.143360                          0.101502   \n",
       "..                                ...                               ...   \n",
       "170                          0.000000                          0.000000   \n",
       "171                          0.000000                          0.000000   \n",
       "172                          0.000000                          0.000000   \n",
       "173                          0.000000                          0.000000   \n",
       "174                          0.000000                          0.000000   \n",
       "\n",
       "     TRISSUR_MS-Participation-average  TRIVANDRUM_GS-Quantity-average  \\\n",
       "0                            0.793651                       22.666667   \n",
       "1                           40.277778                    13358.333333   \n",
       "2                           19.642857                     4933.666667   \n",
       "3                            5.158730                      881.000000   \n",
       "4                            0.198413                       64.000000   \n",
       "..                                ...                             ...   \n",
       "170                          0.000000                        0.000000   \n",
       "171                          0.000000                        0.000000   \n",
       "172                          0.000000                        0.000000   \n",
       "173                          0.000000                        0.000000   \n",
       "174                          0.000000                        0.000000   \n",
       "\n",
       "     TRIVANDRUM_KS-Quantity-average  TRIVANDRUM_MS-Quantity-average  \\\n",
       "0                         11.000000                        1.333333   \n",
       "1                      10810.666667                     2151.333333   \n",
       "2                       3470.000000                     1753.000000   \n",
       "3                        438.000000                       72.000000   \n",
       "4                         32.000000                        5.000000   \n",
       "..                              ...                             ...   \n",
       "170                        0.000000                        0.000000   \n",
       "171                        0.000000                        0.000000   \n",
       "172                        0.000000                        0.000000   \n",
       "173                        0.000000                        0.000000   \n",
       "174                        0.000000                        0.000000   \n",
       "\n",
       "     TRISSUR_GS-Quantity-average  TRISSUR_KS-Quantity-average  \\\n",
       "0                       5.333333                    11.666667   \n",
       "1                    6532.333333                  9975.333333   \n",
       "2                    2309.666667                  2468.000000   \n",
       "3                     826.000000                   613.000000   \n",
       "4                      18.333333                    12.333333   \n",
       "..                           ...                          ...   \n",
       "170                     0.000000                     0.000000   \n",
       "171                     0.000000                     0.000000   \n",
       "172                     0.000000                     0.000000   \n",
       "173                     0.000000                     0.000000   \n",
       "174                     0.000000                     0.000000   \n",
       "\n",
       "     TRISSUR_MS-Quantity-average  \n",
       "0                       1.666667  \n",
       "1                     494.000000  \n",
       "2                     474.000000  \n",
       "3                      23.000000  \n",
       "4                       0.333333  \n",
       "..                           ...  \n",
       "170                     0.000000  \n",
       "171                     0.000000  \n",
       "172                     0.000000  \n",
       "173                     0.000000  \n",
       "174                     0.000000  \n",
       "\n",
       "[175 rows x 19 columns]"
      ]
     },
     "execution_count": 4489,
     "metadata": {},
     "output_type": "execute_result"
    }
   ],
   "source": [
    "final_3_df3"
   ]
  },
  {
   "cell_type": "markdown",
   "metadata": {},
   "source": [
    "# Consolidation - 3 months obtained\n",
    "- values checked , error Correction Made properly "
   ]
  },
  {
   "cell_type": "markdown",
   "metadata": {},
   "source": [
    " "
   ]
  },
  {
   "cell_type": "markdown",
   "metadata": {},
   "source": [
    " "
   ]
  },
  {
   "cell_type": "markdown",
   "metadata": {},
   "source": [
    " "
   ]
  },
  {
   "cell_type": "markdown",
   "metadata": {},
   "source": [
    "# obtaining top 20 for the last 3 months"
   ]
  },
  {
   "cell_type": "code",
   "execution_count": 4491,
   "metadata": {},
   "outputs": [],
   "source": [
    "top_20_list3 = {}\n",
    "df_list3  = list(final_3_df3.columns)\n",
    "df_list3 = df_list3[1:]"
   ]
  },
  {
   "cell_type": "code",
   "execution_count": 4492,
   "metadata": {},
   "outputs": [],
   "source": [
    "for dl in df_list3:\n",
    "    temp = final_3_df3.sort_values(dl,ascending=False)\n",
    "    temp_list = temp['Product'].to_list()\n",
    "    temp_list = temp_list[:20]\n",
    "    top_20_list3[\"{}\".format(dl)] = pd.DataFrame(temp_list)\n",
    "    "
   ]
  },
  {
   "cell_type": "code",
   "execution_count": 4493,
   "metadata": {},
   "outputs": [
    {
     "data": {
      "text/plain": [
       "dict_keys(['TRIVANDRUM_GS-Sale-average', 'TRIVANDRUM_KS-Sale-average', 'TRIVANDRUM_MS-Sale-average', 'TRISSUR_GS-Sale-average', 'TRISSUR_KS-Sale-average', 'TRISSUR_MS-Sale-average', 'TRIVANDRUM_GS-Participation-average', 'TRIVANDRUM_KS-Participation-average', 'TRIVANDRUM_MS-Participation-average', 'TRISSUR_GS-Participation-average', 'TRISSUR_KS-Participation-average', 'TRISSUR_MS-Participation-average', 'TRIVANDRUM_GS-Quantity-average', 'TRIVANDRUM_KS-Quantity-average', 'TRIVANDRUM_MS-Quantity-average', 'TRISSUR_GS-Quantity-average', 'TRISSUR_KS-Quantity-average', 'TRISSUR_MS-Quantity-average'])"
      ]
     },
     "execution_count": 4493,
     "metadata": {},
     "output_type": "execute_result"
    }
   ],
   "source": [
    "top_20_list3.keys()"
   ]
  },
  {
   "cell_type": "code",
   "execution_count": 4494,
   "metadata": {},
   "outputs": [],
   "source": [
    "top_20_3M_keys = list(top_20_list3.keys())"
   ]
  },
  {
   "cell_type": "code",
   "execution_count": 4495,
   "metadata": {},
   "outputs": [],
   "source": [
    "top_20_3M_df = pd.DataFrame(columns = top_20_3M_keys)"
   ]
  },
  {
   "cell_type": "code",
   "execution_count": 4496,
   "metadata": {},
   "outputs": [],
   "source": [
    "for key in top_20_3M_keys:\n",
    "    temp = list(top_20_list3[key][0])\n",
    "    top_20_3M_df[key] = temp"
   ]
  },
  {
   "cell_type": "code",
   "execution_count": 4497,
   "metadata": {
    "scrolled": true
   },
   "outputs": [],
   "source": [
    "#top_20_3M_df"
   ]
  },
  {
   "cell_type": "code",
   "execution_count": 4498,
   "metadata": {},
   "outputs": [
    {
     "name": "stdout",
     "output_type": "stream",
     "text": [
      "TRIVANDRUM_GS-Sale-average\n",
      "inside\n",
      "TRIVANDRUM_GS-Participation-average\n",
      "inside\n",
      "TRIVANDRUM_GS-Quantity-average\n",
      "inside\n",
      "TRIVANDRUM_KS-Sale-average\n",
      "inside\n",
      "TRIVANDRUM_KS-Participation-average\n",
      "inside\n",
      "TRIVANDRUM_KS-Quantity-average\n",
      "inside\n",
      "TRIVANDRUM_MS-Sale-average\n",
      "inside\n",
      "TRIVANDRUM_MS-Participation-average\n",
      "inside\n",
      "TRIVANDRUM_MS-Quantity-average\n",
      "inside\n",
      "TRISSUR_GS-Sale-average\n",
      "inside\n",
      "TRISSUR_GS-Participation-average\n",
      "inside\n",
      "TRISSUR_GS-Quantity-average\n",
      "inside\n",
      "TRISSUR_KS-Sale-average\n",
      "inside\n",
      "TRISSUR_KS-Participation-average\n",
      "inside\n",
      "TRISSUR_KS-Quantity-average\n",
      "inside\n",
      "TRISSUR_MS-Sale-average\n",
      "inside\n",
      "TRISSUR_MS-Participation-average\n",
      "inside\n",
      "TRISSUR_MS-Quantity-average\n",
      "inside\n"
     ]
    }
   ],
   "source": [
    "temp = list(top_20_3M_df.keys())\n",
    "temp1 = list(sale_dict.keys())\n",
    "top203m={}\n",
    "lister = []\n",
    "iter_ = 0\n",
    "for iter_ in temp1:\n",
    "    lister=[]\n",
    "    for key in temp:\n",
    "\n",
    "        \n",
    "        if key.find(iter_)!=-1:\n",
    "            print(key)\n",
    "            print(\"inside\")\n",
    "            \n",
    "            n_temp = top_20_3M_df[key].tolist()\n",
    "            lister.append(n_temp)\n",
    "        else:\n",
    "            pass\n",
    "    top203m[\"{}\".format(iter_)] = lister\n",
    "    \n",
    "        \n",
    "        \n",
    "        \n",
    "        \n",
    "    \n",
    "    "
   ]
  },
  {
   "cell_type": "code",
   "execution_count": 4499,
   "metadata": {},
   "outputs": [],
   "source": [
    "len_list = []\n",
    "for key in top203m.keys():\n",
    "    temp = top203m[key]\n",
    "    temp1 = [y for x in temp for y in x]\n",
    "    temp_set = list(set(temp1))\n",
    "    len_list.append(len(temp_set))\n",
    "m_l = max(len_list)"
   ]
  },
  {
   "cell_type": "code",
   "execution_count": null,
   "metadata": {},
   "outputs": [],
   "source": []
  },
  {
   "cell_type": "code",
   "execution_count": 4500,
   "metadata": {},
   "outputs": [],
   "source": [
    "top203m.keys()\n",
    "top20_3m = pd.DataFrame()\n",
    "i=0\n",
    "top20_3m['null'] = [0 for x in range(m_l)]\n",
    "for key in top203m.keys():\n",
    "    temp = top203m[key]\n",
    "    temp1 = [y for x in temp for y in x]\n",
    "    temp_set = list(set(temp1))\n",
    "    top20_3m[key] = pd.Series(temp_set)\n",
    "top20_3m.drop('null',inplace =True , axis=1)"
   ]
  },
  {
   "cell_type": "markdown",
   "metadata": {},
   "source": [
    "# Done With top 20 (7,last3) Months - Validated and matches! \n"
   ]
  },
  {
   "cell_type": "markdown",
   "metadata": {},
   "source": [
    "Top 20 From 7 Months"
   ]
  },
  {
   "cell_type": "markdown",
   "metadata": {},
   "source": [
    "Top 20 From Last 3 Months"
   ]
  },
  {
   "cell_type": "code",
   "execution_count": 4505,
   "metadata": {},
   "outputs": [],
   "source": [
    "t_list = list(top20_3m.keys())"
   ]
  },
  {
   "cell_type": "code",
   "execution_count": 4506,
   "metadata": {},
   "outputs": [
    {
     "data": {
      "text/plain": [
       "['TRIVANDRUM_GS',\n",
       " 'TRIVANDRUM_KS',\n",
       " 'TRIVANDRUM_MS',\n",
       " 'TRISSUR_GS',\n",
       " 'TRISSUR_KS',\n",
       " 'TRISSUR_MS']"
      ]
     },
     "execution_count": 4506,
     "metadata": {},
     "output_type": "execute_result"
    }
   ],
   "source": [
    "t_list"
   ]
  },
  {
   "cell_type": "code",
   "execution_count": 4507,
   "metadata": {},
   "outputs": [],
   "source": [
    "final_top20 = {}"
   ]
  },
  {
   "cell_type": "code",
   "execution_count": 4508,
   "metadata": {},
   "outputs": [],
   "source": [
    "for key1 in top20_7m.keys():\n",
    "    for key2 in top20_3m.keys():\n",
    "        if(key1==key2):\n",
    "            lister_t1 = top20_3m[key2].tolist()\n",
    "            lister_t2 = top20_7m[key1].tolist()\n",
    "            final_t = list(set(lister_t1+lister_t2))\n",
    "    final_top20[\"{}\".format(key1)] = final_t"
   ]
  },
  {
   "cell_type": "code",
   "execution_count": 4509,
   "metadata": {},
   "outputs": [],
   "source": [
    "list_ = list(final_top20.keys())"
   ]
  },
  {
   "cell_type": "code",
   "execution_count": 4510,
   "metadata": {},
   "outputs": [
    {
     "data": {
      "text/plain": [
       "['TRIVANDRUM_GS',\n",
       " 'TRIVANDRUM_KS',\n",
       " 'TRIVANDRUM_MS',\n",
       " 'TRISSUR_GS',\n",
       " 'TRISSUR_KS',\n",
       " 'TRISSUR_MS']"
      ]
     },
     "execution_count": 4510,
     "metadata": {},
     "output_type": "execute_result"
    }
   ],
   "source": [
    "list_"
   ]
  },
  {
   "cell_type": "code",
   "execution_count": 4511,
   "metadata": {},
   "outputs": [],
   "source": [
    "finaltop20 = {}\n",
    "for key in list_:\n",
    "    temp = final_top20[key]\n",
    "    temp1 = [incom for incom in temp if str(incom) != 'nan']\n",
    "    finaltop20[\"{}\".format(key)] = temp1"
   ]
  },
  {
   "cell_type": "code",
   "execution_count": 4512,
   "metadata": {},
   "outputs": [],
   "source": [
    "max_ = list_[0]\n",
    "for key in list_:\n",
    "    if(len(finaltop20[key])>len(finaltop20[max_])):            #for pd.Series to start fetching from the highest value !\n",
    "        max_ = key\n",
    "    else:\n",
    "        pass\n",
    "in_ = list_.index(max_)\n",
    "if(max_==list_[0]):\n",
    "    pass\n",
    "else:\n",
    "    list_[0],list_[in_]=list_[in_],list_[0]"
   ]
  },
  {
   "cell_type": "code",
   "execution_count": 4513,
   "metadata": {},
   "outputs": [],
   "source": [
    "finaltop20_df = pd.DataFrame()\n",
    "for key in list_:\n",
    "    temp = finaltop20[key]\n",
    "    #temp1 = [y for x in temp for y in x]\n",
    "    temp_set = temp\n",
    "    finaltop20_df[key] = pd.Series(temp_set)"
   ]
  },
  {
   "cell_type": "code",
   "execution_count": 4515,
   "metadata": {},
   "outputs": [],
   "source": [
    "final_order = list(top20_3m.keys())"
   ]
  },
  {
   "cell_type": "code",
   "execution_count": 4516,
   "metadata": {},
   "outputs": [
    {
     "data": {
      "text/plain": [
       "['TRIVANDRUM_GS',\n",
       " 'TRIVANDRUM_KS',\n",
       " 'TRIVANDRUM_MS',\n",
       " 'TRISSUR_GS',\n",
       " 'TRISSUR_KS',\n",
       " 'TRISSUR_MS']"
      ]
     },
     "execution_count": 4516,
     "metadata": {},
     "output_type": "execute_result"
    }
   ],
   "source": [
    "final_order"
   ]
  },
  {
   "cell_type": "code",
   "execution_count": 4517,
   "metadata": {},
   "outputs": [],
   "source": [
    "finaltop20_df = finaltop20_df.reindex(final_order,axis=1)"
   ]
  },
  {
   "cell_type": "code",
   "execution_count": 4524,
   "metadata": {},
   "outputs": [],
   "source": [
    "pr_df = []\n",
    "for d in list(finaltop20_df.keys()):\n",
    "    temp = list(finaltop20_df[d])\n",
    "    pr_df = pr_df+temp\n",
    "    "
   ]
  },
  {
   "cell_type": "code",
   "execution_count": 4525,
   "metadata": {},
   "outputs": [],
   "source": [
    "pr_df_temp = [x for x in pr_df if str(x)!='nan']"
   ]
  },
  {
   "cell_type": "code",
   "execution_count": 4526,
   "metadata": {},
   "outputs": [
    {
     "data": {
      "text/plain": [
       "166"
      ]
     },
     "execution_count": 4526,
     "metadata": {},
     "output_type": "execute_result"
    }
   ],
   "source": [
    "len(pr_df_temp)"
   ]
  },
  {
   "cell_type": "code",
   "execution_count": 4528,
   "metadata": {},
   "outputs": [],
   "source": [
    "Y = ['Y' for x in range(len(pr_df_temp))]"
   ]
  },
  {
   "cell_type": "code",
   "execution_count": 4529,
   "metadata": {},
   "outputs": [],
   "source": [
    "pr_y_dict  = dict(zip(pr_df_temp,Y))"
   ]
  },
  {
   "cell_type": "code",
   "execution_count": 4530,
   "metadata": {},
   "outputs": [],
   "source": [
    "data_2_sheet_kmg['present'] = data_2_sheet_kmg['npg_desc'].map(pr_y_dict)"
   ]
  },
  {
   "cell_type": "markdown",
   "metadata": {},
   "source": [
    "Error Correction and Validation Done"
   ]
  },
  {
   "cell_type": "markdown",
   "metadata": {},
   "source": [
    "# Sheet 2 Finished - Values Verified\n",
    "- errors corrected , modified , values inplace [slight errors still remian] "
   ]
  },
  {
   "cell_type": "markdown",
   "metadata": {},
   "source": [
    " "
   ]
  },
  {
   "cell_type": "markdown",
   "metadata": {},
   "source": [
    " "
   ]
  },
  {
   "cell_type": "markdown",
   "metadata": {},
   "source": [
    "  "
   ]
  },
  {
   "cell_type": "markdown",
   "metadata": {},
   "source": [
    " "
   ]
  },
  {
   "cell_type": "markdown",
   "metadata": {},
   "source": [
    " "
   ]
  },
  {
   "cell_type": "markdown",
   "metadata": {},
   "source": [
    "# Sheet 3 Starts !  "
   ]
  },
  {
   "cell_type": "markdown",
   "metadata": {},
   "source": [
    "# Crafting for 3 Kinds of Boxes - [ high , low ,medium]"
   ]
  },
  {
   "cell_type": "markdown",
   "metadata": {},
   "source": [
    "# Low"
   ]
  },
  {
   "cell_type": "code",
   "execution_count": 4533,
   "metadata": {},
   "outputs": [],
   "source": [
    "re = re_2"
   ]
  },
  {
   "cell_type": "code",
   "execution_count": 4534,
   "metadata": {},
   "outputs": [
    {
     "data": {
      "text/plain": [
       "['GS', 'KS', 'MS']"
      ]
     },
     "execution_count": 4534,
     "metadata": {},
     "output_type": "execute_result"
    }
   ],
   "source": [
    "re"
   ]
  },
  {
   "cell_type": "code",
   "execution_count": 4535,
   "metadata": {},
   "outputs": [
    {
     "data": {
      "text/plain": [
       "['TRIVANDRUM', 'TRISSUR']"
      ]
     },
     "execution_count": 4535,
     "metadata": {},
     "output_type": "execute_result"
    }
   ],
   "source": [
    "city_cat_2"
   ]
  },
  {
   "cell_type": "code",
   "execution_count": 4536,
   "metadata": {},
   "outputs": [
    {
     "data": {
      "text/plain": [
       "(29, 6)"
      ]
     },
     "execution_count": 4536,
     "metadata": {},
     "output_type": "execute_result"
    }
   ],
   "source": [
    "finaltop20_df.shape"
   ]
  },
  {
   "cell_type": "code",
   "execution_count": 4537,
   "metadata": {},
   "outputs": [],
   "source": [
    "#types_class"
   ]
  },
  {
   "cell_type": "code",
   "execution_count": 4538,
   "metadata": {},
   "outputs": [
    {
     "data": {
      "text/plain": [
       "Index(['TRIVANDRUM_GS', 'TRIVANDRUM_KS', 'TRIVANDRUM_MS', 'TRISSUR_GS',\n",
       "       'TRISSUR_KS', 'TRISSUR_MS'],\n",
       "      dtype='object')"
      ]
     },
     "execution_count": 4538,
     "metadata": {},
     "output_type": "execute_result"
    }
   ],
   "source": [
    "finaltop20_df.columns"
   ]
  },
  {
   "cell_type": "code",
   "execution_count": 4539,
   "metadata": {},
   "outputs": [
    {
     "data": {
      "text/plain": [
       "(29, 6)"
      ]
     },
     "execution_count": 4539,
     "metadata": {},
     "output_type": "execute_result"
    }
   ],
   "source": [
    "finaltop20_df.shape"
   ]
  },
  {
   "cell_type": "code",
   "execution_count": 4540,
   "metadata": {},
   "outputs": [
    {
     "data": {
      "text/plain": [
       "Index(['TRIVANDRUM_GS', 'TRIVANDRUM_KS', 'TRIVANDRUM_MS', 'TRISSUR_GS',\n",
       "       'TRISSUR_KS', 'TRISSUR_MS'],\n",
       "      dtype='object')"
      ]
     },
     "execution_count": 4540,
     "metadata": {},
     "output_type": "execute_result"
    }
   ],
   "source": [
    "finaltop20_df.keys()"
   ]
  },
  {
   "cell_type": "code",
   "execution_count": 4543,
   "metadata": {},
   "outputs": [],
   "source": [
    "#newWay\n",
    "city_df = []\n",
    "iter_=0\n",
    "for key in finaltop20_df.keys():\n",
    "    x = list(finaltop20_df.keys())[iter_]\n",
    "    cit = x[:-3]\n",
    "    temp = finaltop20_df[key].tolist()\n",
    "    temp = [x for x in temp if str(x)!='nan']\n",
    "    l_ = len(temp)\n",
    "    for i in range(l_):\n",
    "        \n",
    "        city_df.append(cit)\n",
    "    iter_+=1\n",
    "    \n",
    "    "
   ]
  },
  {
   "cell_type": "code",
   "execution_count": 4544,
   "metadata": {},
   "outputs": [
    {
     "data": {
      "text/plain": [
       "166"
      ]
     },
     "execution_count": 4544,
     "metadata": {},
     "output_type": "execute_result"
    }
   ],
   "source": [
    "len(city_df)"
   ]
  },
  {
   "cell_type": "markdown",
   "metadata": {},
   "source": [
    "pr_df = []\n",
    "for d in list(merged_df.columns):\n",
    "    temp = list(merged_df[d])\n",
    "    pr_df = pr_df+temp\n",
    "    "
   ]
  },
  {
   "cell_type": "markdown",
   "metadata": {},
   "source": [
    "Y = ['Y' for x in range(len(pr_df))]"
   ]
  },
  {
   "cell_type": "markdown",
   "metadata": {},
   "source": [
    "pr_y_dict  = dict(zip(pr_df,Y))"
   ]
  },
  {
   "cell_type": "markdown",
   "metadata": {},
   "source": [
    "data_2_sheet_kmg['present'] = data_2_sheet_kmg['npg_desc'].map(pr_y_dict)"
   ]
  },
  {
   "cell_type": "code",
   "execution_count": 4547,
   "metadata": {},
   "outputs": [
    {
     "data": {
      "text/plain": [
       "['GS', 'KS', 'MS']"
      ]
     },
     "execution_count": 4547,
     "metadata": {},
     "output_type": "execute_result"
    }
   ],
   "source": [
    "re"
   ]
  },
  {
   "cell_type": "code",
   "execution_count": 4551,
   "metadata": {},
   "outputs": [],
   "source": [
    "re_df = []\n",
    "iter_=0\n",
    "for key in finaltop20_df.keys():\n",
    "    x = list(finaltop20_df.keys())[iter_]\n",
    "    re = x[-2:]\n",
    "    temp = finaltop20_df[key].tolist()\n",
    "    temp = [x for x in temp if str(x)!='nan']\n",
    "    l_ = len(temp)\n",
    "    for i in range(l_):\n",
    "        \n",
    "        re_df.append(re)\n",
    "    iter_+=1"
   ]
  },
  {
   "cell_type": "code",
   "execution_count": 4554,
   "metadata": {},
   "outputs": [],
   "source": [
    "outlet_type = [\"low\" for l in range(len(re_df))]"
   ]
  },
  {
   "cell_type": "code",
   "execution_count": 4555,
   "metadata": {},
   "outputs": [
    {
     "data": {
      "text/plain": [
       "166"
      ]
     },
     "execution_count": 4555,
     "metadata": {},
     "output_type": "execute_result"
    }
   ],
   "source": [
    "len(outlet_type)"
   ]
  },
  {
   "cell_type": "code",
   "execution_count": 4556,
   "metadata": {},
   "outputs": [],
   "source": [
    "low_part_df = pd.DataFrame()\n",
    "low_part_df['NPG'] = pr_df_temp\n",
    "low_part_df['City'] = city_df\n",
    "low_part_df['RE'] = re_df"
   ]
  },
  {
   "cell_type": "code",
   "execution_count": 4557,
   "metadata": {},
   "outputs": [],
   "source": [
    "tags = list(filter(lambda x: str(x)!='nan',data_2_sheet_kmg['category'].unique()))"
   ]
  },
  {
   "cell_type": "code",
   "execution_count": 4558,
   "metadata": {},
   "outputs": [
    {
     "data": {
      "text/plain": [
       "['medium', 'high', 'low', 0.0]"
      ]
     },
     "execution_count": 4558,
     "metadata": {},
     "output_type": "execute_result"
    }
   ],
   "source": [
    "tags"
   ]
  },
  {
   "cell_type": "code",
   "execution_count": 4559,
   "metadata": {},
   "outputs": [
    {
     "data": {
      "text/html": [
       "<div>\n",
       "<style scoped>\n",
       "    .dataframe tbody tr th:only-of-type {\n",
       "        vertical-align: middle;\n",
       "    }\n",
       "\n",
       "    .dataframe tbody tr th {\n",
       "        vertical-align: top;\n",
       "    }\n",
       "\n",
       "    .dataframe thead th {\n",
       "        text-align: right;\n",
       "    }\n",
       "</style>\n",
       "<table border=\"1\" class=\"dataframe\">\n",
       "  <thead>\n",
       "    <tr style=\"text-align: right;\">\n",
       "      <th></th>\n",
       "      <th>NPG</th>\n",
       "      <th>City</th>\n",
       "      <th>RE</th>\n",
       "    </tr>\n",
       "  </thead>\n",
       "  <tbody>\n",
       "    <tr>\n",
       "      <th>0</th>\n",
       "      <td>TP Col Cib 123 175g</td>\n",
       "      <td>TRIVANDRUM</td>\n",
       "      <td>GS</td>\n",
       "    </tr>\n",
       "    <tr>\n",
       "      <th>1</th>\n",
       "      <td>TP Col MaxFrs Red 80g</td>\n",
       "      <td>TRIVANDRUM</td>\n",
       "      <td>GS</td>\n",
       "    </tr>\n",
       "    <tr>\n",
       "      <th>2</th>\n",
       "      <td>TP Col MaxFrs Red Rs.10</td>\n",
       "      <td>TRIVANDRUM</td>\n",
       "      <td>GS</td>\n",
       "    </tr>\n",
       "    <tr>\n",
       "      <th>3</th>\n",
       "      <td>TB Col ZigZag Black M/S PO1</td>\n",
       "      <td>TRIVANDRUM</td>\n",
       "      <td>GS</td>\n",
       "    </tr>\n",
       "    <tr>\n",
       "      <th>4</th>\n",
       "      <td>TB Col Cib Suprme Hard PO1</td>\n",
       "      <td>TRIVANDRUM</td>\n",
       "      <td>GS</td>\n",
       "    </tr>\n",
       "    <tr>\n",
       "      <th>...</th>\n",
       "      <td>...</td>\n",
       "      <td>...</td>\n",
       "      <td>...</td>\n",
       "    </tr>\n",
       "    <tr>\n",
       "      <th>161</th>\n",
       "      <td>MW Col Plax FrsMnt 100ml</td>\n",
       "      <td>TRISSUR</td>\n",
       "      <td>MS</td>\n",
       "    </tr>\n",
       "    <tr>\n",
       "      <th>162</th>\n",
       "      <td>TP Col Kids2+ Blue 40g</td>\n",
       "      <td>TRISSUR</td>\n",
       "      <td>MS</td>\n",
       "    </tr>\n",
       "    <tr>\n",
       "      <th>163</th>\n",
       "      <td>TP Col DenCrm Rs.20</td>\n",
       "      <td>TRISSUR</td>\n",
       "      <td>MS</td>\n",
       "    </tr>\n",
       "    <tr>\n",
       "      <th>164</th>\n",
       "      <td>TB Col Sens Sft PO1</td>\n",
       "      <td>TRISSUR</td>\n",
       "      <td>MS</td>\n",
       "    </tr>\n",
       "    <tr>\n",
       "      <th>165</th>\n",
       "      <td>TP Col SVS 100g</td>\n",
       "      <td>TRISSUR</td>\n",
       "      <td>MS</td>\n",
       "    </tr>\n",
       "  </tbody>\n",
       "</table>\n",
       "<p>166 rows × 3 columns</p>\n",
       "</div>"
      ],
      "text/plain": [
       "                             NPG        City  RE\n",
       "0            TP Col Cib 123 175g  TRIVANDRUM  GS\n",
       "1          TP Col MaxFrs Red 80g  TRIVANDRUM  GS\n",
       "2        TP Col MaxFrs Red Rs.10  TRIVANDRUM  GS\n",
       "3    TB Col ZigZag Black M/S PO1  TRIVANDRUM  GS\n",
       "4     TB Col Cib Suprme Hard PO1  TRIVANDRUM  GS\n",
       "..                           ...         ...  ..\n",
       "161     MW Col Plax FrsMnt 100ml     TRISSUR  MS\n",
       "162       TP Col Kids2+ Blue 40g     TRISSUR  MS\n",
       "163          TP Col DenCrm Rs.20     TRISSUR  MS\n",
       "164          TB Col Sens Sft PO1     TRISSUR  MS\n",
       "165              TP Col SVS 100g     TRISSUR  MS\n",
       "\n",
       "[166 rows x 3 columns]"
      ]
     },
     "execution_count": 4559,
     "metadata": {},
     "output_type": "execute_result"
    }
   ],
   "source": [
    "low_part_df"
   ]
  },
  {
   "cell_type": "code",
   "execution_count": 4560,
   "metadata": {},
   "outputs": [],
   "source": [
    "#number of outlets unique\n",
    "tag_dict_low = {}\n",
    "for cit in city_cat_2:\n",
    "    for r in re_2:\n",
    "        temp = data_2_sheet_kmg.loc[(data_2_sheet_kmg['re']==r) & (data_2_sheet_kmg['category']=='low') &(data_2_sheet_kmg['city']==cit)]\n",
    "        temp1 = len(temp.loc[temp['present']=='Y','customer'].unique())\n",
    "        tag_dict_low[\"{}_{}_low\".format(cit,r)]=temp1"
   ]
  },
  {
   "cell_type": "code",
   "execution_count": 4561,
   "metadata": {},
   "outputs": [
    {
     "data": {
      "text/plain": [
       "dict_keys(['TRIVANDRUM_GS_low', 'TRIVANDRUM_KS_low', 'TRIVANDRUM_MS_low', 'TRISSUR_GS_low', 'TRISSUR_KS_low', 'TRISSUR_MS_low'])"
      ]
     },
     "execution_count": 4561,
     "metadata": {},
     "output_type": "execute_result"
    }
   ],
   "source": [
    "tag_dict_low.keys()"
   ]
  },
  {
   "cell_type": "markdown",
   "metadata": {},
   "source": [
    "temp = data_2_sheet_kmg.loc[(data_2_sheet_kmg['re']=='MS') & (data_2_sheet_kmg['category']=='high') &(data_2_sheet_kmg['city']=='TRIVANDRUM')]"
   ]
  },
  {
   "cell_type": "markdown",
   "metadata": {},
   "source": [
    "temp1 = temp.loc[temp['present']=='Y','customer'].unique()"
   ]
  },
  {
   "cell_type": "code",
   "execution_count": 4565,
   "metadata": {},
   "outputs": [
    {
     "data": {
      "text/plain": [
       "(29, 6)"
      ]
     },
     "execution_count": 4565,
     "metadata": {},
     "output_type": "execute_result"
    }
   ],
   "source": [
    "finaltop20_df.shape"
   ]
  },
  {
   "cell_type": "code",
   "execution_count": 4568,
   "metadata": {},
   "outputs": [],
   "source": [
    "outlets_df = []\n",
    "iter_=0\n",
    "for key in list(tag_dict_low.keys()):\n",
    "    #x = list(finaltop20_df.keys())[iter_]\n",
    "    #re = x[-2:]\n",
    "    temp = finaltop20_df[key[:-4]].tolist()\n",
    "    temp = [x for x in temp if str(x)!='nan']\n",
    "    l_ = len(temp)\n",
    "    for i in range(l_):\n",
    "        \n",
    "        outlets_df.append(tag_dict_low[key])\n",
    "    iter_+=1"
   ]
  },
  {
   "cell_type": "code",
   "execution_count": 4569,
   "metadata": {},
   "outputs": [
    {
     "data": {
      "text/plain": [
       "dict_keys(['TRIVANDRUM_GS_low', 'TRIVANDRUM_KS_low', 'TRIVANDRUM_MS_low', 'TRISSUR_GS_low', 'TRISSUR_KS_low', 'TRISSUR_MS_low'])"
      ]
     },
     "execution_count": 4569,
     "metadata": {},
     "output_type": "execute_result"
    }
   ],
   "source": [
    "tag_dict_low.keys()"
   ]
  },
  {
   "cell_type": "code",
   "execution_count": 4570,
   "metadata": {},
   "outputs": [
    {
     "data": {
      "text/plain": [
       "166"
      ]
     },
     "execution_count": 4570,
     "metadata": {},
     "output_type": "execute_result"
    }
   ],
   "source": [
    "len(outlets_df)"
   ]
  },
  {
   "cell_type": "code",
   "execution_count": 4571,
   "metadata": {},
   "outputs": [],
   "source": [
    "low_part_df['Active Outlets'] = outlets_df"
   ]
  },
  {
   "cell_type": "code",
   "execution_count": 4573,
   "metadata": {},
   "outputs": [],
   "source": [
    "low_part_df['npg_code'] = low_part_df['NPG'].map(product_dict_inverse)"
   ]
  },
  {
   "cell_type": "markdown",
   "metadata": {},
   "source": [
    "# Analysed and Debugged Code \n",
    "- Slight Variations"
   ]
  },
  {
   "cell_type": "markdown",
   "metadata": {},
   "source": [
    "# P1"
   ]
  },
  {
   "cell_type": "code",
   "execution_count": 4577,
   "metadata": {},
   "outputs": [],
   "source": [
    "merged_df = finaltop20_df"
   ]
  },
  {
   "cell_type": "markdown",
   "metadata": {},
   "source": [
    "\n",
    "\n",
    "MONTH  DIVISION"
   ]
  },
  {
   "cell_type": "code",
   "execution_count": 4579,
   "metadata": {},
   "outputs": [],
   "source": [
    "npg_low_list = low_part_df['npg_code'].to_list()"
   ]
  },
  {
   "cell_type": "code",
   "execution_count": 4582,
   "metadata": {},
   "outputs": [],
   "source": [
    "model = pd.DataFrame()"
   ]
  },
  {
   "cell_type": "code",
   "execution_count": 4583,
   "metadata": {},
   "outputs": [
    {
     "data": {
      "text/plain": [
       "['TRIVANDRUM', 'TRISSUR']"
      ]
     },
     "execution_count": 4583,
     "metadata": {},
     "output_type": "execute_result"
    }
   ],
   "source": [
    "city_cat_2"
   ]
  },
  {
   "cell_type": "code",
   "execution_count": 4585,
   "metadata": {},
   "outputs": [
    {
     "name": "stdout",
     "output_type": "stream",
     "text": [
      "LOC=0\n",
      "shapened=28\n",
      "0\n",
      "LOC=28\n",
      "shapened=56\n",
      "1\n",
      "LOC=56\n",
      "shapened=82\n",
      "2\n",
      "LOC=82\n",
      "shapened=110\n",
      "3\n",
      "LOC=110\n",
      "shapened=137\n",
      "4\n",
      "LOC=137\n",
      "shapened=166\n",
      "5\n"
     ]
    }
   ],
   "source": [
    "loc=0\n",
    "kk=0\n",
    "#empx = finaltop20_df[finaltop20_df.keys()[0]].tolist()\n",
    "#empx = [x for x in tempx if str(x)!='nan']\n",
    "#_ = len(tempx)\n",
    "shape_end=0\n",
    "\n",
    "\n",
    "temp_dict = {}\n",
    "#print(\"Loc = \"+str(loc))\n",
    "#print(\"Shape_end = \"+str(shape_end))\n",
    "\n",
    "\n",
    "\n",
    "iter_ = 0\n",
    "#comp = len(npg_low_list)//finaltop20_df.shape[0]\n",
    "\n",
    "for key in finaltop20_df.keys():\n",
    "        for h in city_cat_2:\n",
    "            if key.find(h)!=-1:\n",
    "                cit=str(h)\n",
    "        for j in re_2:\n",
    "            if key.find(j)!=-1:\n",
    "                r = str(j)\n",
    "        #print(cit)\n",
    "        #iter_ = 0\n",
    "        l_ = low_part_df.loc[(low_part_df['City']==cit)&(low_part_df['RE']==r),'NPG'].count()\n",
    "        shape_end = shape_end+l_\n",
    "        print(\"LOC=\"+str(loc))\n",
    "        print(\"shapened=\"+str(shape_end))#print(r)\n",
    "        #if(iter_<comp//len(city_cat_2)):\n",
    "        set_ = npg_low_list[loc:shape_end]\n",
    "        rows = set_\n",
    "        columns = [str(r)+\"outlet\"+'01',str(r)+\"outlet\"+'02',str(r)+\"outlet\"+'03',str(r)+\"outlet\"+'04',str(r)+\"outlet\"+'05',str(r)+\"outlet\"+'06',str(r)+\"outlet\"+'07']\n",
    "        column1 = 'npg_low_list'\n",
    "        model = pd.DataFrame(columns=columns)\n",
    "        model.insert(0,column1,rows)\n",
    "\n",
    "        i=0\n",
    "        for n in set_:\n",
    "\n",
    "\n",
    "\n",
    "            temp = data_2_sheet_kmg.loc[data_2_sheet_kmg['re']==r]\n",
    "            temp1 = temp.loc[temp['city']==cit]\n",
    "            temp2 = temp1.loc[temp1['category']=='low']\n",
    "            temp3 = temp2.loc[temp2['npg_code']==n]\n",
    "            l = len(temp3.loc[temp3['M_01']=='Y'])\n",
    "            model[str(r)+\"outlet\"+'01'][i]=l\n",
    "            l = len(temp3.loc[temp3['M_02']=='Y'])\n",
    "            model[str(r)+\"outlet\"+'02'][i]=l\n",
    "            l = len(temp3.loc[temp3['M_03']=='Y'])\n",
    "            model[str(r)+\"outlet\"+'03'][i]=l\n",
    "            l = len(temp3.loc[temp3['M_04']=='Y'])\n",
    "            model[str(r)+\"outlet\"+'04'][i]=l\n",
    "            l = len(temp3.loc[temp3['M_05']=='Y'])\n",
    "            model[str(r)+\"outlet\"+'05'][i]=l\n",
    "            l = len(temp3.loc[temp3['M_06']=='Y'])\n",
    "            model[str(r)+\"outlet\"+'06'][i]=l\n",
    "            l = len(temp3.loc[temp3['M_07']=='Y'])\n",
    "            model[str(r)+\"outlet\"+'07'][i]=l\n",
    "            i+=1\n",
    "\n",
    "\n",
    "\n",
    "\n",
    "        temp_dict[\"{}_{}\".format(cit,r)]=pd.DataFrame(model)\n",
    "        \n",
    "        print(kk)\n",
    "        kk+=1\n",
    "        loc = loc+l_\n",
    "        i=0\n",
    "        \n",
    "        #ter_+=1\n",
    "\n",
    "            #if(kk>=len(finaltop20_df.keys())):\n",
    "               # break\n",
    "\n"
   ]
  },
  {
   "cell_type": "code",
   "execution_count": 4586,
   "metadata": {},
   "outputs": [
    {
     "data": {
      "text/plain": [
       "dict_keys(['TRIVANDRUM_GS', 'TRIVANDRUM_KS', 'TRIVANDRUM_MS', 'TRISSUR_GS', 'TRISSUR_KS', 'TRISSUR_MS'])"
      ]
     },
     "execution_count": 4586,
     "metadata": {},
     "output_type": "execute_result"
    }
   ],
   "source": [
    "temp_dict.keys()"
   ]
  },
  {
   "cell_type": "code",
   "execution_count": 4588,
   "metadata": {},
   "outputs": [],
   "source": [
    "low_m_div = pd.DataFrame()\n",
    "#low_m_div['init_col'] = pr_df\n",
    "low_m_div['outlet_m01']=[0 for it in range(low_part_df.shape[0])]\n",
    "low_m_div['outlet_m02']=[0 for it in range(low_part_df.shape[0])]\n",
    "low_m_div['outlet_m03']=[0 for it in range(low_part_df.shape[0])]\n",
    "low_m_div['outlet_m04']=[0 for it in range(low_part_df.shape[0])]\n",
    "low_m_div['outlet_m05']=[0 for it in range(low_part_df.shape[0])]\n",
    "low_m_div['outlet_m06']=[0 for it in range(low_part_df.shape[0])]\n",
    "low_m_div['outlet_m07']=[0 for it in range(low_part_df.shape[0])]"
   ]
  },
  {
   "cell_type": "code",
   "execution_count": 4590,
   "metadata": {},
   "outputs": [
    {
     "name": "stdout",
     "output_type": "stream",
     "text": [
      "loc=0\n",
      "shape_end=28\n",
      "loc=28\n",
      "shape_end=56\n",
      "loc=56\n",
      "shape_end=82\n",
      "loc=82\n",
      "shape_end=110\n",
      "loc=110\n",
      "shape_end=137\n",
      "loc=137\n",
      "shape_end=166\n"
     ]
    }
   ],
   "source": [
    "loc=0\n",
    "shape_end = 0\n",
    "ite_ = 0\n",
    "for key in list(temp_dict.keys()):\n",
    "    for h in city_cat_2:\n",
    "            if key.find(h)!=-1:\n",
    "                cit=str(h)\n",
    "    for j in re_2:\n",
    "        if key.find(j)!=-1:\n",
    "            r = str(j)\n",
    "        #print(cit)\n",
    "        #iter_ = 0\n",
    "    l_ = low_part_df.loc[(low_part_df['City']==cit)&(low_part_df['RE']==r),'NPG'].count()\n",
    "    shape_end = l_+shape_end\n",
    "    #print(key)\n",
    "    ite_ = 0\n",
    "    print(\"loc=\"+str(loc))\n",
    "    print(\"shape_end=\"+str(shape_end))\n",
    "    #print(cit)\n",
    "    #print(r)\n",
    "    for il in range(loc,shape_end):\n",
    "        #print(ite_)\n",
    "        temp = list(temp_dict[key].iloc[ite_])\n",
    "        temp.pop(0)\n",
    "        low_m_div.iloc[il]=temp\n",
    "        ite_+=1\n",
    "        #print(temp)\n",
    "    #print(\"success\")\n",
    "    loc=loc+l_\n",
    "    \n",
    "        \n",
    "    \n",
    "    "
   ]
  },
  {
   "cell_type": "code",
   "execution_count": 4591,
   "metadata": {},
   "outputs": [
    {
     "data": {
      "text/html": [
       "<div>\n",
       "<style scoped>\n",
       "    .dataframe tbody tr th:only-of-type {\n",
       "        vertical-align: middle;\n",
       "    }\n",
       "\n",
       "    .dataframe tbody tr th {\n",
       "        vertical-align: top;\n",
       "    }\n",
       "\n",
       "    .dataframe thead th {\n",
       "        text-align: right;\n",
       "    }\n",
       "</style>\n",
       "<table border=\"1\" class=\"dataframe\">\n",
       "  <thead>\n",
       "    <tr style=\"text-align: right;\">\n",
       "      <th></th>\n",
       "      <th>outlet_m01</th>\n",
       "      <th>outlet_m02</th>\n",
       "      <th>outlet_m03</th>\n",
       "      <th>outlet_m04</th>\n",
       "      <th>outlet_m05</th>\n",
       "      <th>outlet_m06</th>\n",
       "      <th>outlet_m07</th>\n",
       "    </tr>\n",
       "  </thead>\n",
       "  <tbody>\n",
       "    <tr>\n",
       "      <th>0</th>\n",
       "      <td>14</td>\n",
       "      <td>14</td>\n",
       "      <td>14</td>\n",
       "      <td>21</td>\n",
       "      <td>13</td>\n",
       "      <td>8</td>\n",
       "      <td>11</td>\n",
       "    </tr>\n",
       "    <tr>\n",
       "      <th>1</th>\n",
       "      <td>8</td>\n",
       "      <td>8</td>\n",
       "      <td>14</td>\n",
       "      <td>5</td>\n",
       "      <td>9</td>\n",
       "      <td>5</td>\n",
       "      <td>12</td>\n",
       "    </tr>\n",
       "    <tr>\n",
       "      <th>2</th>\n",
       "      <td>48</td>\n",
       "      <td>26</td>\n",
       "      <td>27</td>\n",
       "      <td>41</td>\n",
       "      <td>18</td>\n",
       "      <td>26</td>\n",
       "      <td>28</td>\n",
       "    </tr>\n",
       "    <tr>\n",
       "      <th>3</th>\n",
       "      <td>11</td>\n",
       "      <td>4</td>\n",
       "      <td>8</td>\n",
       "      <td>22</td>\n",
       "      <td>4</td>\n",
       "      <td>8</td>\n",
       "      <td>8</td>\n",
       "    </tr>\n",
       "    <tr>\n",
       "      <th>4</th>\n",
       "      <td>48</td>\n",
       "      <td>40</td>\n",
       "      <td>51</td>\n",
       "      <td>43</td>\n",
       "      <td>41</td>\n",
       "      <td>37</td>\n",
       "      <td>35</td>\n",
       "    </tr>\n",
       "    <tr>\n",
       "      <th>...</th>\n",
       "      <td>...</td>\n",
       "      <td>...</td>\n",
       "      <td>...</td>\n",
       "      <td>...</td>\n",
       "      <td>...</td>\n",
       "      <td>...</td>\n",
       "      <td>...</td>\n",
       "    </tr>\n",
       "    <tr>\n",
       "      <th>161</th>\n",
       "      <td>7</td>\n",
       "      <td>7</td>\n",
       "      <td>6</td>\n",
       "      <td>4</td>\n",
       "      <td>3</td>\n",
       "      <td>2</td>\n",
       "      <td>6</td>\n",
       "    </tr>\n",
       "    <tr>\n",
       "      <th>162</th>\n",
       "      <td>1</td>\n",
       "      <td>0</td>\n",
       "      <td>2</td>\n",
       "      <td>0</td>\n",
       "      <td>0</td>\n",
       "      <td>3</td>\n",
       "      <td>1</td>\n",
       "    </tr>\n",
       "    <tr>\n",
       "      <th>163</th>\n",
       "      <td>13</td>\n",
       "      <td>12</td>\n",
       "      <td>21</td>\n",
       "      <td>7</td>\n",
       "      <td>8</td>\n",
       "      <td>10</td>\n",
       "      <td>11</td>\n",
       "    </tr>\n",
       "    <tr>\n",
       "      <th>164</th>\n",
       "      <td>2</td>\n",
       "      <td>1</td>\n",
       "      <td>4</td>\n",
       "      <td>2</td>\n",
       "      <td>1</td>\n",
       "      <td>4</td>\n",
       "      <td>1</td>\n",
       "    </tr>\n",
       "    <tr>\n",
       "      <th>165</th>\n",
       "      <td>0</td>\n",
       "      <td>1</td>\n",
       "      <td>1</td>\n",
       "      <td>2</td>\n",
       "      <td>1</td>\n",
       "      <td>1</td>\n",
       "      <td>1</td>\n",
       "    </tr>\n",
       "  </tbody>\n",
       "</table>\n",
       "<p>166 rows × 7 columns</p>\n",
       "</div>"
      ],
      "text/plain": [
       "     outlet_m01  outlet_m02  outlet_m03  outlet_m04  outlet_m05  outlet_m06  \\\n",
       "0            14          14          14          21          13           8   \n",
       "1             8           8          14           5           9           5   \n",
       "2            48          26          27          41          18          26   \n",
       "3            11           4           8          22           4           8   \n",
       "4            48          40          51          43          41          37   \n",
       "..          ...         ...         ...         ...         ...         ...   \n",
       "161           7           7           6           4           3           2   \n",
       "162           1           0           2           0           0           3   \n",
       "163          13          12          21           7           8          10   \n",
       "164           2           1           4           2           1           4   \n",
       "165           0           1           1           2           1           1   \n",
       "\n",
       "     outlet_m07  \n",
       "0            11  \n",
       "1            12  \n",
       "2            28  \n",
       "3             8  \n",
       "4            35  \n",
       "..          ...  \n",
       "161           6  \n",
       "162           1  \n",
       "163          11  \n",
       "164           1  \n",
       "165           1  \n",
       "\n",
       "[166 rows x 7 columns]"
      ]
     },
     "execution_count": 4591,
     "metadata": {},
     "output_type": "execute_result"
    }
   ],
   "source": [
    "low_m_div"
   ]
  },
  {
   "cell_type": "code",
   "execution_count": 4592,
   "metadata": {},
   "outputs": [],
   "source": [
    "low_part_df = pd.concat([low_part_df,low_m_div],axis=1)"
   ]
  },
  {
   "cell_type": "markdown",
   "metadata": {},
   "source": [
    "SALES DIVISION"
   ]
  },
  {
   "cell_type": "code",
   "execution_count": 4595,
   "metadata": {},
   "outputs": [],
   "source": [
    "model = pd.DataFrame()"
   ]
  },
  {
   "cell_type": "code",
   "execution_count": 4596,
   "metadata": {},
   "outputs": [
    {
     "name": "stdout",
     "output_type": "stream",
     "text": [
      "LOC=0\n",
      "shapened=28\n",
      "LOC=28\n",
      "shapened=56\n",
      "LOC=56\n",
      "shapened=82\n",
      "LOC=82\n",
      "shapened=110\n",
      "LOC=110\n",
      "shapened=137\n",
      "LOC=137\n",
      "shapened=166\n"
     ]
    }
   ],
   "source": [
    "loc=0\n",
    "shape_end = 0\n",
    "temp_dict_s = {}\n",
    "\n",
    "\n",
    "\n",
    "for key in finaltop20_df.keys():\n",
    "        for h in city_cat_2:\n",
    "            if key.find(h)!=-1:\n",
    "                cit=str(h)\n",
    "        for j in re_2:\n",
    "            if key.find(j)!=-1:\n",
    "                r = str(j)\n",
    "        #print(cit)\n",
    "        #iter_ = 0\n",
    "        l_ = low_part_df.loc[(low_part_df['City']==cit)&(low_part_df['RE']==r),'NPG'].count()\n",
    "        shape_end = shape_end+l_\n",
    "        print(\"LOC=\"+str(loc))\n",
    "        print(\"shapened=\"+str(shape_end))#print(r)  \n",
    "        set_ = npg_low_list[loc:shape_end]\n",
    "        rows = set_\n",
    "        columns = [str(r)+\"sale\"+'01',str(r)+\"sale\"+'02',str(r)+\"sale\"+'03',str(r)+\"sale\"+'04',str(r)+\"sale\"+'05',str(r)+\"sale\"+'06',str(r)+\"sale\"+'07']\n",
    "        column1 = 'npg_low_list'\n",
    "        model = pd.DataFrame(columns=columns)\n",
    "        model.insert(0,column1,rows)\n",
    "\n",
    "        i=0\n",
    "        for n in set_:\n",
    "\n",
    "\n",
    "\n",
    "            temp = data_2_sheet_kmg.loc[data_2_sheet_kmg['re']==r]\n",
    "            temp1 = temp.loc[temp['city']==cit]\n",
    "            temp2 = temp1.loc[temp1['category']=='low']\n",
    "            temp3 = temp2.loc[temp2['npg_code']==n]\n",
    "            l = temp3.loc[temp3['SV_01']!=0,'SV_01'].sum()\n",
    "            model[str(r)+\"sale\"+'01'][i]=l\n",
    "            l = temp3.loc[temp3['SV_02']!=0,'SV_02'].sum()\n",
    "            model[str(r)+\"sale\"+'02'][i]=l\n",
    "            l = temp3.loc[temp3['SV_03']!=0,'SV_03'].sum()\n",
    "            model[str(r)+\"sale\"+'03'][i]=l\n",
    "            l = temp3.loc[temp3['SV_04']!=0,'SV_04'].sum()\n",
    "            model[str(r)+\"sale\"+'04'][i]=l\n",
    "            l = temp3.loc[temp3['SV_05']!=0,'SV_05'].sum()\n",
    "            model[str(r)+\"sale\"+'05'][i]=l\n",
    "            l = temp3.loc[temp3['SV_06']!=0,'SV_06'].sum()\n",
    "            model[str(r)+\"sale\"+'06'][i]=l\n",
    "            l = temp3.loc[temp3['SV_07']!=0,'SV_07'].sum()\n",
    "            model[str(r)+\"sale\"+'07'][i]=l\n",
    "            i+=1\n",
    "\n",
    "\n",
    "\n",
    "\n",
    "\n",
    "            \n",
    "        temp_dict_s[\"{}_{}\".format(cit,r)]=pd.DataFrame(model)\n",
    "        #print(kk)\n",
    "        kk+=1\n",
    "        loc = loc+l_\n",
    "        i=0\n",
    "        \n",
    "\n"
   ]
  },
  {
   "cell_type": "code",
   "execution_count": 4597,
   "metadata": {},
   "outputs": [
    {
     "data": {
      "text/plain": [
       "dict_keys(['TRIVANDRUM_GS', 'TRIVANDRUM_KS', 'TRIVANDRUM_MS', 'TRISSUR_GS', 'TRISSUR_KS', 'TRISSUR_MS'])"
      ]
     },
     "execution_count": 4597,
     "metadata": {},
     "output_type": "execute_result"
    }
   ],
   "source": [
    "temp_dict_s.keys()"
   ]
  },
  {
   "cell_type": "code",
   "execution_count": 4599,
   "metadata": {},
   "outputs": [],
   "source": [
    "low_s_div = pd.DataFrame()\n",
    "#low_m_div['init_col'] = pr_df\n",
    "low_s_div['sale_01']=[0 for it in range(low_part_df.shape[0])]\n",
    "low_s_div['sale_02']=[0 for it in range(low_part_df.shape[0])]\n",
    "low_s_div['sale_03']=[0 for it in range(low_part_df.shape[0])]\n",
    "low_s_div['sale_04']=[0 for it in range(low_part_df.shape[0])]\n",
    "low_s_div['sale_05']=[0 for it in range(low_part_df.shape[0])]\n",
    "low_s_div['sale_06']=[0 for it in range(low_part_df.shape[0])]\n",
    "low_s_div['sale_07']=[0 for it in range(low_part_df.shape[0])]"
   ]
  },
  {
   "cell_type": "code",
   "execution_count": 4601,
   "metadata": {},
   "outputs": [
    {
     "name": "stdout",
     "output_type": "stream",
     "text": [
      "28\n",
      "loc=0\n",
      "shape_end=28\n",
      "28\n",
      "loc=28\n",
      "shape_end=56\n",
      "26\n",
      "loc=56\n",
      "shape_end=82\n",
      "28\n",
      "loc=82\n",
      "shape_end=110\n",
      "27\n",
      "loc=110\n",
      "shape_end=137\n",
      "29\n",
      "loc=137\n",
      "shape_end=166\n"
     ]
    }
   ],
   "source": [
    "loc=0\n",
    "shape_end = 0\n",
    "ite_ = 0\n",
    "for key in list(temp_dict.keys()):\n",
    "    for h in city_cat_2:\n",
    "            if key.find(h)!=-1:\n",
    "                cit=str(h)\n",
    "    for j in re_2:\n",
    "        if key.find(j)!=-1:\n",
    "            r = str(j)\n",
    "        #print(cit)\n",
    "        #iter_ = 0\n",
    "    l_ = low_part_df.loc[(low_part_df['City']==cit)&(low_part_df['RE']==r),'NPG'].count()\n",
    "    print(l_)\n",
    "    shape_end = l_+shape_end\n",
    "    #print(key)\n",
    "    ite_ = 0\n",
    "    print(\"loc=\"+str(loc))\n",
    "    print(\"shape_end=\"+str(shape_end))\n",
    "    #print(cit)\n",
    "    #print(r)\n",
    "    for il in range(loc,shape_end):\n",
    "        #print(ite_)\n",
    "        temp = list(temp_dict_s[key].iloc[ite_])\n",
    "        temp.pop(0)\n",
    "        low_s_div.iloc[il]=temp\n",
    "        ite_+=1\n",
    "        #print(temp)\n",
    "    #print(\"success\")\n",
    "    loc=loc+l_\n",
    "    \n",
    "        \n",
    "    \n",
    "    "
   ]
  },
  {
   "cell_type": "code",
   "execution_count": 4603,
   "metadata": {},
   "outputs": [],
   "source": [
    "low_part_df = pd.concat([low_part_df,low_s_div],axis=1)"
   ]
  },
  {
   "cell_type": "code",
   "execution_count": 4604,
   "metadata": {},
   "outputs": [],
   "source": [
    "#low_part_df.to_csv(\"interlowBox.csv\")"
   ]
  },
  {
   "cell_type": "markdown",
   "metadata": {},
   "source": [
    "#  Verfied with slight differences\n",
    "- outlet numbers and sales value\n",
    "\n",
    "varying values observed, due to difference in outlet tagging ! /\n"
   ]
  },
  {
   "cell_type": "markdown",
   "metadata": {},
   "source": [
    "QUANTITY DIVISION"
   ]
  },
  {
   "cell_type": "code",
   "execution_count": 4606,
   "metadata": {},
   "outputs": [],
   "source": [
    "model = pd.DataFrame()"
   ]
  },
  {
   "cell_type": "code",
   "execution_count": 4609,
   "metadata": {},
   "outputs": [
    {
     "name": "stdout",
     "output_type": "stream",
     "text": [
      "LOC=0\n",
      "shapened=28\n",
      "LOC=28\n",
      "shapened=56\n",
      "LOC=56\n",
      "shapened=82\n",
      "LOC=82\n",
      "shapened=110\n",
      "LOC=110\n",
      "shapened=137\n",
      "LOC=137\n",
      "shapened=166\n"
     ]
    }
   ],
   "source": [
    "loc=0\n",
    "shape_end = finaltop20_df.shape[0]\n",
    "temp_dict_q = {}\n",
    "shape_end = 0\n",
    "    \n",
    "\n",
    "iter_ = 0\n",
    "#comp = len(npg_low_list)//finaltop20_df.shape[0]\n",
    "\n",
    "\n",
    "for key in finaltop20_df.keys():\n",
    "        for h in city_cat_2:\n",
    "            if key.find(h)!=-1:\n",
    "                cit=str(h)\n",
    "        for j in re_2:\n",
    "            if key.find(j)!=-1:\n",
    "                r = str(j)\n",
    "        #print(cit)\n",
    "        #iter_ = 0\n",
    "        l_ = low_part_df.loc[(low_part_df['City']==cit)&(low_part_df['RE']==r),'NPG'].count()\n",
    "        shape_end = shape_end+l_\n",
    "        print(\"LOC=\"+str(loc))\n",
    "        print(\"shapened=\"+str(shape_end))#print(r)\n",
    "        set_ = npg_low_list[loc:shape_end]\n",
    "        rows = set_\n",
    "        columns = [str(r)+\"quantity\"+'01',str(r)+\"quantity\"+'02',str(r)+\"quantity\"+'03',str(r)+\"quantity\"+'04',str(r)+\"quantity\"+'05',str(r)+\"quantity\"+'06',str(r)+\"quantity\"+'07']\n",
    "        column1 = 'npg_low_list'\n",
    "        model = pd.DataFrame(columns=columns)\n",
    "        model.insert(0,column1,rows)\n",
    "\n",
    "        i=0\n",
    "        for n in set_:\n",
    "\n",
    "\n",
    "\n",
    "            temp = data_2_sheet_kmg.loc[data_2_sheet_kmg['re']==r]\n",
    "            temp1 = temp.loc[temp['city']==cit]\n",
    "            temp2 = temp1.loc[temp1['category']=='low']\n",
    "            temp3 = temp2.loc[temp2['npg_code']==n]\n",
    "            l = temp3.loc[temp3['QY_01']!=0,'QY_01'].sum()\n",
    "            model[str(r)+\"quantity\"+'01'][i]=l\n",
    "            l = temp3.loc[temp3['QY_02']!=0,'QY_02'].sum()\n",
    "            model[str(r)+\"quantity\"+'02'][i]=l\n",
    "            l = temp3.loc[temp3['QY_03']!=0,'QY_03'].sum()\n",
    "            model[str(r)+\"quantity\"+'03'][i]=l\n",
    "            l = temp3.loc[temp3['QY_04']!=0,'QY_04'].sum()\n",
    "            model[str(r)+\"quantity\"+'04'][i]=l\n",
    "            l = temp3.loc[temp3['QY_05']!=0,'QY_05'].sum()\n",
    "            model[str(r)+\"quantity\"+'05'][i]=l\n",
    "            l = temp3.loc[temp3['QY_06']!=0,'QY_06'].sum()\n",
    "            model[str(r)+\"quantity\"+'06'][i]=l\n",
    "            l = temp3.loc[temp3['QY_07']!=0,'QY_07'].sum()\n",
    "            model[str(r)+\"quantity\"+'07'][i]=l\n",
    "\n",
    "\n",
    "\n",
    "\n",
    "\n",
    "\n",
    "            i+=1\n",
    "        temp_dict_q[\"{}_{}\".format(cit,r)]=pd.DataFrame(model)\n",
    "        #print(kk)\n",
    "        kk+=1\n",
    "        loc+=l_\n",
    "        i=0\n",
    "    \n",
    "\n"
   ]
  },
  {
   "cell_type": "code",
   "execution_count": 4610,
   "metadata": {},
   "outputs": [
    {
     "data": {
      "text/plain": [
       "dict_keys(['TRIVANDRUM_GS', 'TRIVANDRUM_KS', 'TRIVANDRUM_MS', 'TRISSUR_GS', 'TRISSUR_KS', 'TRISSUR_MS'])"
      ]
     },
     "execution_count": 4610,
     "metadata": {},
     "output_type": "execute_result"
    }
   ],
   "source": [
    "temp_dict_q.keys()"
   ]
  },
  {
   "cell_type": "code",
   "execution_count": 4612,
   "metadata": {},
   "outputs": [],
   "source": [
    "low_q_div = pd.DataFrame()\n",
    "#low_m_div['init_col'] = pr_df\n",
    "low_q_div['quantity_01']=[0 for it in range(low_part_df.shape[0])]\n",
    "low_q_div['quantity_02']=[0 for it in range(low_part_df.shape[0])]\n",
    "low_q_div['quantity_03']=[0 for it in range(low_part_df.shape[0])]\n",
    "low_q_div['quantity_04']=[0 for it in range(low_part_df.shape[0])]\n",
    "low_q_div['quantity_05']=[0 for it in range(low_part_df.shape[0])]\n",
    "low_q_div['quantity_06']=[0 for it in range(low_part_df.shape[0])]\n",
    "low_q_div['quantity_07']=[0 for it in range(low_part_df.shape[0])]"
   ]
  },
  {
   "cell_type": "code",
   "execution_count": 4613,
   "metadata": {},
   "outputs": [
    {
     "name": "stdout",
     "output_type": "stream",
     "text": [
      "28\n",
      "loc=0\n",
      "shape_end=28\n",
      "28\n",
      "loc=28\n",
      "shape_end=56\n",
      "26\n",
      "loc=56\n",
      "shape_end=82\n",
      "28\n",
      "loc=82\n",
      "shape_end=110\n",
      "27\n",
      "loc=110\n",
      "shape_end=137\n",
      "29\n",
      "loc=137\n",
      "shape_end=166\n"
     ]
    }
   ],
   "source": [
    "loc=0\n",
    "shape_end = 0\n",
    "ite_ = 0\n",
    "for key in list(temp_dict_q.keys()):\n",
    "    for h in city_cat_2:\n",
    "            if key.find(h)!=-1:\n",
    "                cit=str(h)\n",
    "    for j in re_2:\n",
    "        if key.find(j)!=-1:\n",
    "            r = str(j)\n",
    "        #print(cit)\n",
    "        #iter_ = 0\n",
    "    l_ = low_part_df.loc[(low_part_df['City']==cit)&(low_part_df['RE']==r),'NPG'].count()\n",
    "    print(l_)\n",
    "    shape_end = l_+shape_end\n",
    "    #print(key)\n",
    "    ite_ = 0\n",
    "    print(\"loc=\"+str(loc))\n",
    "    print(\"shape_end=\"+str(shape_end))\n",
    "    #print(cit)\n",
    "    #print(r)\n",
    "    for il in range(loc,shape_end):\n",
    "        #print(ite_)\n",
    "        temp = list(temp_dict_q[key].iloc[ite_])\n",
    "        temp.pop(0)\n",
    "        low_q_div.iloc[il]=temp\n",
    "        ite_+=1\n",
    "        #print(temp)\n",
    "    #print(\"success\")\n",
    "    loc=loc+l_\n",
    "    \n",
    "        \n",
    "    \n",
    "    "
   ]
  },
  {
   "cell_type": "code",
   "execution_count": 4615,
   "metadata": {},
   "outputs": [],
   "source": [
    "low_part_df = pd.concat([low_part_df,low_q_div],axis=1)"
   ]
  },
  {
   "cell_type": "markdown",
   "metadata": {},
   "source": [
    "PARTICIPATION - FLooring has been done here in the main sheet ?"
   ]
  },
  {
   "cell_type": "code",
   "execution_count": 4618,
   "metadata": {},
   "outputs": [],
   "source": [
    "model = pd.DataFrame()\n",
    "part_df_ne=pd.DataFrame()"
   ]
  },
  {
   "cell_type": "code",
   "execution_count": 4619,
   "metadata": {},
   "outputs": [],
   "source": [
    "part_df_new = low_part_df.filter(['NPG','outlet_m01','outlet_m02','outlet_m03','outlet_m04','outlet_m05','outlet_m06','outlet_m07','Active Outlets'],axis=1)"
   ]
  },
  {
   "cell_type": "code",
   "execution_count": 4620,
   "metadata": {},
   "outputs": [
    {
     "data": {
      "text/html": [
       "<div>\n",
       "<style scoped>\n",
       "    .dataframe tbody tr th:only-of-type {\n",
       "        vertical-align: middle;\n",
       "    }\n",
       "\n",
       "    .dataframe tbody tr th {\n",
       "        vertical-align: top;\n",
       "    }\n",
       "\n",
       "    .dataframe thead th {\n",
       "        text-align: right;\n",
       "    }\n",
       "</style>\n",
       "<table border=\"1\" class=\"dataframe\">\n",
       "  <thead>\n",
       "    <tr style=\"text-align: right;\">\n",
       "      <th></th>\n",
       "      <th>NPG</th>\n",
       "      <th>outlet_m01</th>\n",
       "      <th>outlet_m02</th>\n",
       "      <th>outlet_m03</th>\n",
       "      <th>outlet_m04</th>\n",
       "      <th>outlet_m05</th>\n",
       "      <th>outlet_m06</th>\n",
       "      <th>outlet_m07</th>\n",
       "      <th>Active Outlets</th>\n",
       "    </tr>\n",
       "  </thead>\n",
       "  <tbody>\n",
       "    <tr>\n",
       "      <th>0</th>\n",
       "      <td>TP Col Cib 123 175g</td>\n",
       "      <td>14</td>\n",
       "      <td>14</td>\n",
       "      <td>14</td>\n",
       "      <td>21</td>\n",
       "      <td>13</td>\n",
       "      <td>8</td>\n",
       "      <td>11</td>\n",
       "      <td>153</td>\n",
       "    </tr>\n",
       "    <tr>\n",
       "      <th>1</th>\n",
       "      <td>TP Col MaxFrs Red 80g</td>\n",
       "      <td>8</td>\n",
       "      <td>8</td>\n",
       "      <td>14</td>\n",
       "      <td>5</td>\n",
       "      <td>9</td>\n",
       "      <td>5</td>\n",
       "      <td>12</td>\n",
       "      <td>153</td>\n",
       "    </tr>\n",
       "    <tr>\n",
       "      <th>2</th>\n",
       "      <td>TP Col MaxFrs Red Rs.10</td>\n",
       "      <td>48</td>\n",
       "      <td>26</td>\n",
       "      <td>27</td>\n",
       "      <td>41</td>\n",
       "      <td>18</td>\n",
       "      <td>26</td>\n",
       "      <td>28</td>\n",
       "      <td>153</td>\n",
       "    </tr>\n",
       "    <tr>\n",
       "      <th>3</th>\n",
       "      <td>TB Col ZigZag Black M/S PO1</td>\n",
       "      <td>11</td>\n",
       "      <td>4</td>\n",
       "      <td>8</td>\n",
       "      <td>22</td>\n",
       "      <td>4</td>\n",
       "      <td>8</td>\n",
       "      <td>8</td>\n",
       "      <td>153</td>\n",
       "    </tr>\n",
       "    <tr>\n",
       "      <th>4</th>\n",
       "      <td>TB Col Cib Suprme Hard PO1</td>\n",
       "      <td>48</td>\n",
       "      <td>40</td>\n",
       "      <td>51</td>\n",
       "      <td>43</td>\n",
       "      <td>41</td>\n",
       "      <td>37</td>\n",
       "      <td>35</td>\n",
       "      <td>153</td>\n",
       "    </tr>\n",
       "    <tr>\n",
       "      <th>...</th>\n",
       "      <td>...</td>\n",
       "      <td>...</td>\n",
       "      <td>...</td>\n",
       "      <td>...</td>\n",
       "      <td>...</td>\n",
       "      <td>...</td>\n",
       "      <td>...</td>\n",
       "      <td>...</td>\n",
       "      <td>...</td>\n",
       "    </tr>\n",
       "    <tr>\n",
       "      <th>161</th>\n",
       "      <td>MW Col Plax FrsMnt 100ml</td>\n",
       "      <td>7</td>\n",
       "      <td>7</td>\n",
       "      <td>6</td>\n",
       "      <td>4</td>\n",
       "      <td>3</td>\n",
       "      <td>2</td>\n",
       "      <td>6</td>\n",
       "      <td>51</td>\n",
       "    </tr>\n",
       "    <tr>\n",
       "      <th>162</th>\n",
       "      <td>TP Col Kids2+ Blue 40g</td>\n",
       "      <td>1</td>\n",
       "      <td>0</td>\n",
       "      <td>2</td>\n",
       "      <td>0</td>\n",
       "      <td>0</td>\n",
       "      <td>3</td>\n",
       "      <td>1</td>\n",
       "      <td>51</td>\n",
       "    </tr>\n",
       "    <tr>\n",
       "      <th>163</th>\n",
       "      <td>TP Col DenCrm Rs.20</td>\n",
       "      <td>13</td>\n",
       "      <td>12</td>\n",
       "      <td>21</td>\n",
       "      <td>7</td>\n",
       "      <td>8</td>\n",
       "      <td>10</td>\n",
       "      <td>11</td>\n",
       "      <td>51</td>\n",
       "    </tr>\n",
       "    <tr>\n",
       "      <th>164</th>\n",
       "      <td>TB Col Sens Sft PO1</td>\n",
       "      <td>2</td>\n",
       "      <td>1</td>\n",
       "      <td>4</td>\n",
       "      <td>2</td>\n",
       "      <td>1</td>\n",
       "      <td>4</td>\n",
       "      <td>1</td>\n",
       "      <td>51</td>\n",
       "    </tr>\n",
       "    <tr>\n",
       "      <th>165</th>\n",
       "      <td>TP Col SVS 100g</td>\n",
       "      <td>0</td>\n",
       "      <td>1</td>\n",
       "      <td>1</td>\n",
       "      <td>2</td>\n",
       "      <td>1</td>\n",
       "      <td>1</td>\n",
       "      <td>1</td>\n",
       "      <td>51</td>\n",
       "    </tr>\n",
       "  </tbody>\n",
       "</table>\n",
       "<p>166 rows × 9 columns</p>\n",
       "</div>"
      ],
      "text/plain": [
       "                             NPG  outlet_m01  outlet_m02  outlet_m03  \\\n",
       "0            TP Col Cib 123 175g          14          14          14   \n",
       "1          TP Col MaxFrs Red 80g           8           8          14   \n",
       "2        TP Col MaxFrs Red Rs.10          48          26          27   \n",
       "3    TB Col ZigZag Black M/S PO1          11           4           8   \n",
       "4     TB Col Cib Suprme Hard PO1          48          40          51   \n",
       "..                           ...         ...         ...         ...   \n",
       "161     MW Col Plax FrsMnt 100ml           7           7           6   \n",
       "162       TP Col Kids2+ Blue 40g           1           0           2   \n",
       "163          TP Col DenCrm Rs.20          13          12          21   \n",
       "164          TB Col Sens Sft PO1           2           1           4   \n",
       "165              TP Col SVS 100g           0           1           1   \n",
       "\n",
       "     outlet_m04  outlet_m05  outlet_m06  outlet_m07  Active Outlets  \n",
       "0            21          13           8          11             153  \n",
       "1             5           9           5          12             153  \n",
       "2            41          18          26          28             153  \n",
       "3            22           4           8           8             153  \n",
       "4            43          41          37          35             153  \n",
       "..          ...         ...         ...         ...             ...  \n",
       "161           4           3           2           6              51  \n",
       "162           0           0           3           1              51  \n",
       "163           7           8          10          11              51  \n",
       "164           2           1           4           1              51  \n",
       "165           2           1           1           1              51  \n",
       "\n",
       "[166 rows x 9 columns]"
      ]
     },
     "execution_count": 4620,
     "metadata": {},
     "output_type": "execute_result"
    }
   ],
   "source": [
    "part_df_new"
   ]
  },
  {
   "cell_type": "code",
   "execution_count": 4621,
   "metadata": {},
   "outputs": [],
   "source": [
    "low_p_div = pd.DataFrame()\n",
    "#low_m_div['init_col'] = pr_df\n",
    "low_p_div['participation_01']=[0 for it in range(low_part_df.shape[0])]\n",
    "low_p_div['participation_02']=[0 for it in range(low_part_df.shape[0])]\n",
    "low_p_div['participation_03']=[0 for it in range(low_part_df.shape[0])]\n",
    "low_p_div['participation_04']=[0 for it in range(low_part_df.shape[0])]\n",
    "low_p_div['participation_05']=[0 for it in range(low_part_df.shape[0])]\n",
    "low_p_div['participation_06']=[0 for it in range(low_part_df.shape[0])]\n",
    "low_p_div['participation_07']=[0 for it in range(low_part_df.shape[0])]"
   ]
  },
  {
   "cell_type": "code",
   "execution_count": 4622,
   "metadata": {},
   "outputs": [],
   "source": [
    "for l in range(low_part_df.shape[0]):\n",
    "    temp=(part_df_new['outlet_m01'][l]/part_df_new['Active Outlets'][l])*100\n",
    "    low_p_div['participation_01'][l]=temp\n",
    "    temp=(part_df_new['outlet_m02'][l]/part_df_new['Active Outlets'][l])*100\n",
    "    low_p_div['participation_02'][l]=temp\n",
    "    temp=(part_df_new['outlet_m03'][l]/part_df_new['Active Outlets'][l])*100\n",
    "    low_p_div['participation_03'][l]=temp\n",
    "    temp=(part_df_new['outlet_m04'][l]/part_df_new['Active Outlets'][l])*100\n",
    "    low_p_div['participation_04'][l]=temp\n",
    "    temp=(part_df_new['outlet_m05'][l]/part_df_new['Active Outlets'][l])*100\n",
    "    low_p_div['participation_05'][l]=temp\n",
    "    temp=(part_df_new['outlet_m06'][l]/part_df_new['Active Outlets'][l])*100\n",
    "    low_p_div['participation_06'][l]=temp\n",
    "    temp=(part_df_new['outlet_m07'][l]/part_df_new['Active Outlets'][l])*100\n",
    "    low_p_div['participation_07'][l]=temp\n",
    "    "
   ]
  },
  {
   "cell_type": "code",
   "execution_count": 4624,
   "metadata": {},
   "outputs": [],
   "source": [
    "low_part_df = pd.concat([low_part_df,low_p_div],axis=1)"
   ]
  },
  {
   "cell_type": "code",
   "execution_count": 4626,
   "metadata": {},
   "outputs": [
    {
     "data": {
      "text/plain": [
       "Index(['NPG', 'City', 'RE', 'Active Outlets', 'npg_code', 'outlet_m01',\n",
       "       'outlet_m02', 'outlet_m03', 'outlet_m04', 'outlet_m05', 'outlet_m06',\n",
       "       'outlet_m07', 'sale_01', 'sale_02', 'sale_03', 'sale_04', 'sale_05',\n",
       "       'sale_06', 'sale_07', 'quantity_01', 'quantity_02', 'quantity_03',\n",
       "       'quantity_04', 'quantity_05', 'quantity_06', 'quantity_07',\n",
       "       'participation_01', 'participation_02', 'participation_03',\n",
       "       'participation_04', 'participation_05', 'participation_06',\n",
       "       'participation_07'],\n",
       "      dtype='object')"
      ]
     },
     "execution_count": 4626,
     "metadata": {},
     "output_type": "execute_result"
    }
   ],
   "source": [
    "low_part_df.columns"
   ]
  },
  {
   "cell_type": "markdown",
   "metadata": {},
   "source": [
    "Average Sales Value"
   ]
  },
  {
   "cell_type": "code",
   "execution_count": 4631,
   "metadata": {},
   "outputs": [],
   "source": [
    "low_avg_sale = pd.DataFrame()\n",
    "#low_m_div['init_col'] = pr_df\n",
    "low_avg_sale['AvgSValue01']=[0 for it in range(low_part_df.shape[0])]\n",
    "low_avg_sale['AvgSValue02']=[0 for it in range(low_part_df.shape[0])]\n",
    "low_avg_sale['AvgSValue03']=[0 for it in range(low_part_df.shape[0])]\n",
    "low_avg_sale['AvgSValue04']=[0 for it in range(low_part_df.shape[0])]\n",
    "low_avg_sale['AvgSValue05']=[0 for it in range(low_part_df.shape[0])]\n",
    "low_avg_sale['AvgSValue06']=[0 for it in range(low_part_df.shape[0])]\n",
    "low_avg_sale['AvgSValue07']=[0 for it in range(low_part_df.shape[0])]"
   ]
  },
  {
   "cell_type": "code",
   "execution_count": 4632,
   "metadata": {},
   "outputs": [
    {
     "name": "stderr",
     "output_type": "stream",
     "text": [
      "c:\\users\\samen\\appdata\\local\\programs\\python\\python37\\lib\\site-packages\\ipykernel_launcher.py:4: RuntimeWarning: invalid value encountered in double_scalars\n",
      "  after removing the cwd from sys.path.\n",
      "c:\\users\\samen\\appdata\\local\\programs\\python\\python37\\lib\\site-packages\\ipykernel_launcher.py:6: RuntimeWarning: invalid value encountered in double_scalars\n",
      "  \n",
      "c:\\users\\samen\\appdata\\local\\programs\\python\\python37\\lib\\site-packages\\ipykernel_launcher.py:7: SettingWithCopyWarning: \n",
      "A value is trying to be set on a copy of a slice from a DataFrame\n",
      "\n",
      "See the caveats in the documentation: https://pandas.pydata.org/pandas-docs/stable/user_guide/indexing.html#returning-a-view-versus-a-copy\n",
      "  import sys\n",
      "c:\\users\\samen\\appdata\\local\\programs\\python\\python37\\lib\\site-packages\\pandas\\core\\indexing.py:671: SettingWithCopyWarning: \n",
      "A value is trying to be set on a copy of a slice from a DataFrame\n",
      "\n",
      "See the caveats in the documentation: https://pandas.pydata.org/pandas-docs/stable/user_guide/indexing.html#returning-a-view-versus-a-copy\n",
      "  self._setitem_with_indexer(indexer, value)\n",
      "c:\\users\\samen\\appdata\\local\\programs\\python\\python37\\lib\\site-packages\\ipykernel_launcher.py:9: SettingWithCopyWarning: \n",
      "A value is trying to be set on a copy of a slice from a DataFrame\n",
      "\n",
      "See the caveats in the documentation: https://pandas.pydata.org/pandas-docs/stable/user_guide/indexing.html#returning-a-view-versus-a-copy\n",
      "  if __name__ == '__main__':\n",
      "c:\\users\\samen\\appdata\\local\\programs\\python\\python37\\lib\\site-packages\\ipykernel_launcher.py:11: SettingWithCopyWarning: \n",
      "A value is trying to be set on a copy of a slice from a DataFrame\n",
      "\n",
      "See the caveats in the documentation: https://pandas.pydata.org/pandas-docs/stable/user_guide/indexing.html#returning-a-view-versus-a-copy\n",
      "  # This is added back by InteractiveShellApp.init_path()\n",
      "c:\\users\\samen\\appdata\\local\\programs\\python\\python37\\lib\\site-packages\\ipykernel_launcher.py:13: SettingWithCopyWarning: \n",
      "A value is trying to be set on a copy of a slice from a DataFrame\n",
      "\n",
      "See the caveats in the documentation: https://pandas.pydata.org/pandas-docs/stable/user_guide/indexing.html#returning-a-view-versus-a-copy\n",
      "  del sys.path[0]\n",
      "c:\\users\\samen\\appdata\\local\\programs\\python\\python37\\lib\\site-packages\\ipykernel_launcher.py:15: SettingWithCopyWarning: \n",
      "A value is trying to be set on a copy of a slice from a DataFrame\n",
      "\n",
      "See the caveats in the documentation: https://pandas.pydata.org/pandas-docs/stable/user_guide/indexing.html#returning-a-view-versus-a-copy\n",
      "  from ipykernel import kernelapp as app\n",
      "c:\\users\\samen\\appdata\\local\\programs\\python\\python37\\lib\\site-packages\\ipykernel_launcher.py:3: SettingWithCopyWarning: \n",
      "A value is trying to be set on a copy of a slice from a DataFrame\n",
      "\n",
      "See the caveats in the documentation: https://pandas.pydata.org/pandas-docs/stable/user_guide/indexing.html#returning-a-view-versus-a-copy\n",
      "  This is separate from the ipykernel package so we can avoid doing imports until\n",
      "c:\\users\\samen\\appdata\\local\\programs\\python\\python37\\lib\\site-packages\\ipykernel_launcher.py:5: SettingWithCopyWarning: \n",
      "A value is trying to be set on a copy of a slice from a DataFrame\n",
      "\n",
      "See the caveats in the documentation: https://pandas.pydata.org/pandas-docs/stable/user_guide/indexing.html#returning-a-view-versus-a-copy\n",
      "  \"\"\"\n",
      "c:\\users\\samen\\appdata\\local\\programs\\python\\python37\\lib\\site-packages\\ipykernel_launcher.py:10: RuntimeWarning: invalid value encountered in double_scalars\n",
      "  # Remove the CWD from sys.path while we load stuff.\n",
      "c:\\users\\samen\\appdata\\local\\programs\\python\\python37\\lib\\site-packages\\ipykernel_launcher.py:8: RuntimeWarning: invalid value encountered in double_scalars\n",
      "  \n",
      "c:\\users\\samen\\appdata\\local\\programs\\python\\python37\\lib\\site-packages\\ipykernel_launcher.py:14: RuntimeWarning: invalid value encountered in double_scalars\n",
      "  \n",
      "c:\\users\\samen\\appdata\\local\\programs\\python\\python37\\lib\\site-packages\\ipykernel_launcher.py:2: RuntimeWarning: invalid value encountered in double_scalars\n",
      "  \n",
      "c:\\users\\samen\\appdata\\local\\programs\\python\\python37\\lib\\site-packages\\ipykernel_launcher.py:12: RuntimeWarning: invalid value encountered in double_scalars\n",
      "  if sys.path[0] == '':\n"
     ]
    }
   ],
   "source": [
    "for l in range(low_part_df.shape[0]):\n",
    "    temp=low_part_df['sale_01'][l]/low_part_df['outlet_m01'][l]\n",
    "    low_avg_sale['AvgSValue01'][l]=temp\n",
    "    temp=low_part_df['sale_02'][l]/low_part_df['outlet_m02'][l]\n",
    "    low_avg_sale['AvgSValue02'][l]=temp\n",
    "    temp=low_part_df['sale_03'][l]/low_part_df['outlet_m03'][l]\n",
    "    low_avg_sale['AvgSValue03'][l]=temp\n",
    "    temp=low_part_df['sale_04'][l]/low_part_df['outlet_m04'][l]\n",
    "    low_avg_sale['AvgSValue04'][l]=temp\n",
    "    temp=low_part_df['sale_05'][l]/low_part_df['outlet_m05'][l]\n",
    "    low_avg_sale['AvgSValue05'][l]=temp\n",
    "    temp=low_part_df['sale_06'][l]/low_part_df['outlet_m06'][l]\n",
    "    low_avg_sale['AvgSValue06'][l]=temp\n",
    "    temp=low_part_df['sale_07'][l]/low_part_df['outlet_m07'][l]\n",
    "    low_avg_sale['AvgSValue07'][l]=temp\n",
    "    "
   ]
  },
  {
   "cell_type": "code",
   "execution_count": 4634,
   "metadata": {},
   "outputs": [],
   "source": [
    "low_part_df = pd.concat([low_part_df,low_avg_sale],axis=1)"
   ]
  },
  {
   "cell_type": "markdown",
   "metadata": {},
   "source": [
    "Average Quantity"
   ]
  },
  {
   "cell_type": "code",
   "execution_count": 4637,
   "metadata": {},
   "outputs": [],
   "source": [
    "low_avg_q = pd.DataFrame()\n",
    "#low_m_div['init_col'] = pr_df\n",
    "low_avg_q['AvgQty01']=[0 for it in range(low_part_df.shape[0])]\n",
    "low_avg_q['AvgQty02']=[0 for it in range(low_part_df.shape[0])]\n",
    "low_avg_q['AvgQty03']=[0 for it in range(low_part_df.shape[0])]\n",
    "low_avg_q['AvgQty04']=[0 for it in range(low_part_df.shape[0])]\n",
    "low_avg_q['AvgQty05']=[0 for it in range(low_part_df.shape[0])]\n",
    "low_avg_q['AvgQty06']=[0 for it in range(low_part_df.shape[0])]\n",
    "low_avg_q['AvgQty07']=[0 for it in range(low_part_df.shape[0])]"
   ]
  },
  {
   "cell_type": "code",
   "execution_count": 4638,
   "metadata": {},
   "outputs": [
    {
     "name": "stderr",
     "output_type": "stream",
     "text": [
      "c:\\users\\samen\\appdata\\local\\programs\\python\\python37\\lib\\site-packages\\ipykernel_launcher.py:4: RuntimeWarning: invalid value encountered in double_scalars\n",
      "  after removing the cwd from sys.path.\n",
      "c:\\users\\samen\\appdata\\local\\programs\\python\\python37\\lib\\site-packages\\ipykernel_launcher.py:6: RuntimeWarning: invalid value encountered in double_scalars\n",
      "  \n",
      "c:\\users\\samen\\appdata\\local\\programs\\python\\python37\\lib\\site-packages\\ipykernel_launcher.py:7: SettingWithCopyWarning: \n",
      "A value is trying to be set on a copy of a slice from a DataFrame\n",
      "\n",
      "See the caveats in the documentation: https://pandas.pydata.org/pandas-docs/stable/user_guide/indexing.html#returning-a-view-versus-a-copy\n",
      "  import sys\n",
      "c:\\users\\samen\\appdata\\local\\programs\\python\\python37\\lib\\site-packages\\pandas\\core\\indexing.py:671: SettingWithCopyWarning: \n",
      "A value is trying to be set on a copy of a slice from a DataFrame\n",
      "\n",
      "See the caveats in the documentation: https://pandas.pydata.org/pandas-docs/stable/user_guide/indexing.html#returning-a-view-versus-a-copy\n",
      "  self._setitem_with_indexer(indexer, value)\n",
      "c:\\users\\samen\\appdata\\local\\programs\\python\\python37\\lib\\site-packages\\ipykernel_launcher.py:9: SettingWithCopyWarning: \n",
      "A value is trying to be set on a copy of a slice from a DataFrame\n",
      "\n",
      "See the caveats in the documentation: https://pandas.pydata.org/pandas-docs/stable/user_guide/indexing.html#returning-a-view-versus-a-copy\n",
      "  if __name__ == '__main__':\n",
      "c:\\users\\samen\\appdata\\local\\programs\\python\\python37\\lib\\site-packages\\ipykernel_launcher.py:11: SettingWithCopyWarning: \n",
      "A value is trying to be set on a copy of a slice from a DataFrame\n",
      "\n",
      "See the caveats in the documentation: https://pandas.pydata.org/pandas-docs/stable/user_guide/indexing.html#returning-a-view-versus-a-copy\n",
      "  # This is added back by InteractiveShellApp.init_path()\n",
      "c:\\users\\samen\\appdata\\local\\programs\\python\\python37\\lib\\site-packages\\ipykernel_launcher.py:13: SettingWithCopyWarning: \n",
      "A value is trying to be set on a copy of a slice from a DataFrame\n",
      "\n",
      "See the caveats in the documentation: https://pandas.pydata.org/pandas-docs/stable/user_guide/indexing.html#returning-a-view-versus-a-copy\n",
      "  del sys.path[0]\n",
      "c:\\users\\samen\\appdata\\local\\programs\\python\\python37\\lib\\site-packages\\ipykernel_launcher.py:15: SettingWithCopyWarning: \n",
      "A value is trying to be set on a copy of a slice from a DataFrame\n",
      "\n",
      "See the caveats in the documentation: https://pandas.pydata.org/pandas-docs/stable/user_guide/indexing.html#returning-a-view-versus-a-copy\n",
      "  from ipykernel import kernelapp as app\n",
      "c:\\users\\samen\\appdata\\local\\programs\\python\\python37\\lib\\site-packages\\ipykernel_launcher.py:3: SettingWithCopyWarning: \n",
      "A value is trying to be set on a copy of a slice from a DataFrame\n",
      "\n",
      "See the caveats in the documentation: https://pandas.pydata.org/pandas-docs/stable/user_guide/indexing.html#returning-a-view-versus-a-copy\n",
      "  This is separate from the ipykernel package so we can avoid doing imports until\n",
      "c:\\users\\samen\\appdata\\local\\programs\\python\\python37\\lib\\site-packages\\ipykernel_launcher.py:5: SettingWithCopyWarning: \n",
      "A value is trying to be set on a copy of a slice from a DataFrame\n",
      "\n",
      "See the caveats in the documentation: https://pandas.pydata.org/pandas-docs/stable/user_guide/indexing.html#returning-a-view-versus-a-copy\n",
      "  \"\"\"\n",
      "c:\\users\\samen\\appdata\\local\\programs\\python\\python37\\lib\\site-packages\\ipykernel_launcher.py:10: RuntimeWarning: invalid value encountered in double_scalars\n",
      "  # Remove the CWD from sys.path while we load stuff.\n",
      "c:\\users\\samen\\appdata\\local\\programs\\python\\python37\\lib\\site-packages\\ipykernel_launcher.py:8: RuntimeWarning: invalid value encountered in double_scalars\n",
      "  \n",
      "c:\\users\\samen\\appdata\\local\\programs\\python\\python37\\lib\\site-packages\\ipykernel_launcher.py:14: RuntimeWarning: invalid value encountered in double_scalars\n",
      "  \n",
      "c:\\users\\samen\\appdata\\local\\programs\\python\\python37\\lib\\site-packages\\ipykernel_launcher.py:2: RuntimeWarning: invalid value encountered in double_scalars\n",
      "  \n",
      "c:\\users\\samen\\appdata\\local\\programs\\python\\python37\\lib\\site-packages\\ipykernel_launcher.py:12: RuntimeWarning: invalid value encountered in double_scalars\n",
      "  if sys.path[0] == '':\n"
     ]
    }
   ],
   "source": [
    "for l in range(low_part_df.shape[0]):\n",
    "    temp=low_part_df['quantity_01'][l]/low_part_df['outlet_m01'][l]\n",
    "    low_avg_q['AvgQty01'][l]=round(temp)\n",
    "    temp=low_part_df['quantity_02'][l]/low_part_df['outlet_m02'][l]\n",
    "    low_avg_q['AvgQty02'][l]=round(temp)\n",
    "    temp=low_part_df['quantity_03'][l]/low_part_df['outlet_m03'][l]\n",
    "    low_avg_q['AvgQty03'][l]=round(temp)\n",
    "    temp=low_part_df['quantity_04'][l]/low_part_df['outlet_m04'][l]\n",
    "    low_avg_q['AvgQty04'][l]=round(temp)\n",
    "    temp=low_part_df['quantity_05'][l]/low_part_df['outlet_m05'][l]\n",
    "    low_avg_q['AvgQty05'][l]=round(temp)\n",
    "    temp=low_part_df['quantity_06'][l]/low_part_df['outlet_m06'][l]\n",
    "    low_avg_q['AvgQty06'][l]=round(temp)\n",
    "    temp=low_part_df['quantity_07'][l]/low_part_df['outlet_m07'][l]\n",
    "    low_avg_q['AvgQty07'][l]=round(temp)\n",
    "    "
   ]
  },
  {
   "cell_type": "code",
   "execution_count": 4640,
   "metadata": {},
   "outputs": [],
   "source": [
    "low_part_df = pd.concat([low_part_df,low_avg_q],axis=1)"
   ]
  },
  {
   "cell_type": "markdown",
   "metadata": {},
   "source": [
    "# Verfied and Values with Slight Changes Identified\n",
    "- NAN values present in Avg Sales & AVg Quantity\n",
    "- Values nearly tallying "
   ]
  },
  {
   "cell_type": "markdown",
   "metadata": {},
   "source": [
    "Price Per Quantity "
   ]
  },
  {
   "cell_type": "code",
   "execution_count": 4642,
   "metadata": {},
   "outputs": [],
   "source": [
    "low_ppq = pd.DataFrame()\n",
    "#low_m_div['init_col'] = pr_df\n",
    "low_ppq['PricePQty01']=[0 for it in range(low_part_df.shape[0])]\n",
    "low_ppq['PricePQty02']=[0 for it in range(low_part_df.shape[0])]\n",
    "low_ppq['PricePQty03']=[0 for it in range(low_part_df.shape[0])]\n",
    "low_ppq['PricePQty04']=[0 for it in range(low_part_df.shape[0])]\n",
    "low_ppq['PricePQty05']=[0 for it in range(low_part_df.shape[0])]\n",
    "low_ppq['PricePQty06']=[0 for it in range(low_part_df.shape[0])]\n",
    "low_ppq['PricePQty07']=[0 for it in range(low_part_df.shape[0])]"
   ]
  },
  {
   "cell_type": "code",
   "execution_count": 4643,
   "metadata": {},
   "outputs": [
    {
     "name": "stderr",
     "output_type": "stream",
     "text": [
      "c:\\users\\samen\\appdata\\local\\programs\\python\\python37\\lib\\site-packages\\ipykernel_launcher.py:22: SettingWithCopyWarning: \n",
      "A value is trying to be set on a copy of a slice from a DataFrame\n",
      "\n",
      "See the caveats in the documentation: https://pandas.pydata.org/pandas-docs/stable/user_guide/indexing.html#returning-a-view-versus-a-copy\n",
      "c:\\users\\samen\\appdata\\local\\programs\\python\\python37\\lib\\site-packages\\pandas\\core\\indexing.py:671: SettingWithCopyWarning: \n",
      "A value is trying to be set on a copy of a slice from a DataFrame\n",
      "\n",
      "See the caveats in the documentation: https://pandas.pydata.org/pandas-docs/stable/user_guide/indexing.html#returning-a-view-versus-a-copy\n",
      "  self._setitem_with_indexer(indexer, value)\n",
      "c:\\users\\samen\\appdata\\local\\programs\\python\\python37\\lib\\site-packages\\ipykernel_launcher.py:31: SettingWithCopyWarning: \n",
      "A value is trying to be set on a copy of a slice from a DataFrame\n",
      "\n",
      "See the caveats in the documentation: https://pandas.pydata.org/pandas-docs/stable/user_guide/indexing.html#returning-a-view-versus-a-copy\n",
      "c:\\users\\samen\\appdata\\local\\programs\\python\\python37\\lib\\site-packages\\ipykernel_launcher.py:39: SettingWithCopyWarning: \n",
      "A value is trying to be set on a copy of a slice from a DataFrame\n",
      "\n",
      "See the caveats in the documentation: https://pandas.pydata.org/pandas-docs/stable/user_guide/indexing.html#returning-a-view-versus-a-copy\n",
      "c:\\users\\samen\\appdata\\local\\programs\\python\\python37\\lib\\site-packages\\ipykernel_launcher.py:47: SettingWithCopyWarning: \n",
      "A value is trying to be set on a copy of a slice from a DataFrame\n",
      "\n",
      "See the caveats in the documentation: https://pandas.pydata.org/pandas-docs/stable/user_guide/indexing.html#returning-a-view-versus-a-copy\n",
      "c:\\users\\samen\\appdata\\local\\programs\\python\\python37\\lib\\site-packages\\ipykernel_launcher.py:55: SettingWithCopyWarning: \n",
      "A value is trying to be set on a copy of a slice from a DataFrame\n",
      "\n",
      "See the caveats in the documentation: https://pandas.pydata.org/pandas-docs/stable/user_guide/indexing.html#returning-a-view-versus-a-copy\n",
      "c:\\users\\samen\\appdata\\local\\programs\\python\\python37\\lib\\site-packages\\ipykernel_launcher.py:4: SettingWithCopyWarning: \n",
      "A value is trying to be set on a copy of a slice from a DataFrame\n",
      "\n",
      "See the caveats in the documentation: https://pandas.pydata.org/pandas-docs/stable/user_guide/indexing.html#returning-a-view-versus-a-copy\n",
      "  after removing the cwd from sys.path.\n",
      "c:\\users\\samen\\appdata\\local\\programs\\python\\python37\\lib\\site-packages\\ipykernel_launcher.py:13: SettingWithCopyWarning: \n",
      "A value is trying to be set on a copy of a slice from a DataFrame\n",
      "\n",
      "See the caveats in the documentation: https://pandas.pydata.org/pandas-docs/stable/user_guide/indexing.html#returning-a-view-versus-a-copy\n",
      "  del sys.path[0]\n",
      "c:\\users\\samen\\appdata\\local\\programs\\python\\python37\\lib\\site-packages\\ipykernel_launcher.py:29: RuntimeWarning: divide by zero encountered in double_scalars\n",
      "c:\\users\\samen\\appdata\\local\\programs\\python\\python37\\lib\\site-packages\\ipykernel_launcher.py:11: RuntimeWarning: invalid value encountered in double_scalars\n",
      "  # This is added back by InteractiveShellApp.init_path()\n",
      "c:\\users\\samen\\appdata\\local\\programs\\python\\python37\\lib\\site-packages\\ipykernel_launcher.py:3: RuntimeWarning: invalid value encountered in double_scalars\n",
      "  This is separate from the ipykernel package so we can avoid doing imports until\n",
      "c:\\users\\samen\\appdata\\local\\programs\\python\\python37\\lib\\site-packages\\ipykernel_launcher.py:37: RuntimeWarning: invalid value encountered in double_scalars\n",
      "c:\\users\\samen\\appdata\\local\\programs\\python\\python37\\lib\\site-packages\\ipykernel_launcher.py:45: RuntimeWarning: divide by zero encountered in double_scalars\n",
      "c:\\users\\samen\\appdata\\local\\programs\\python\\python37\\lib\\site-packages\\ipykernel_launcher.py:3: RuntimeWarning: divide by zero encountered in double_scalars\n",
      "  This is separate from the ipykernel package so we can avoid doing imports until\n",
      "c:\\users\\samen\\appdata\\local\\programs\\python\\python37\\lib\\site-packages\\ipykernel_launcher.py:29: RuntimeWarning: invalid value encountered in double_scalars\n",
      "c:\\users\\samen\\appdata\\local\\programs\\python\\python37\\lib\\site-packages\\ipykernel_launcher.py:45: RuntimeWarning: invalid value encountered in double_scalars\n",
      "c:\\users\\samen\\appdata\\local\\programs\\python\\python37\\lib\\site-packages\\ipykernel_launcher.py:11: RuntimeWarning: divide by zero encountered in double_scalars\n",
      "  # This is added back by InteractiveShellApp.init_path()\n",
      "c:\\users\\samen\\appdata\\local\\programs\\python\\python37\\lib\\site-packages\\ipykernel_launcher.py:53: RuntimeWarning: invalid value encountered in double_scalars\n"
     ]
    }
   ],
   "source": [
    "for l in range(low_part_df.shape[0]):\n",
    "    try:\n",
    "        temp=low_part_df['AvgSValue01'][l]/low_part_df['AvgQty01'][l]\n",
    "        low_ppq['PricePQty01'][l]=temp\n",
    "    except:\n",
    "        temp = 0\n",
    "        low_ppq['PricePQty01'][l]=temp\n",
    "        \n",
    "        \n",
    "    try:\n",
    "        temp=low_part_df['AvgSValue02'][l]/low_part_df['AvgQty02'][l]\n",
    "    \n",
    "        low_ppq['PricePQty02'][l]=temp\n",
    "    except:\n",
    "        temp=0\n",
    "        low_ppq['PricePQty02'][l]=temp\n",
    "        \n",
    "        \n",
    "    try:\n",
    "        temp=low_part_df['AvgSValue03'][l]/low_part_df['AvgQty03'][l]\n",
    "    \n",
    "        low_ppq['PricePQty03'][l]=temp\n",
    "    except:\n",
    "        temp=0\n",
    "        low_ppq['PricePQty03'][l]=temp\n",
    "        \n",
    "        \n",
    "    try:\n",
    "        temp=low_part_df['AvgSValue04'][l]/low_part_df['AvgQty04'][l]\n",
    "    \n",
    "        low_ppq['PricePQty04'][l]=temp\n",
    "    except:\n",
    "        temp=0\n",
    "        low_ppq['PricePQty04'][l]=temp\n",
    "        \n",
    "    try:\n",
    "        temp=low_part_df['AvgSValue05'][l]/low_part_df['AvgQty05'][l]\n",
    "    \n",
    "        low_ppq['PricePQty05'][l]=temp\n",
    "    except:\n",
    "        temp=0\n",
    "        low_ppq['PricePQty05'][l]=temp\n",
    "        \n",
    "    try:\n",
    "        temp=low_part_df['AvgSValue06'][l]/low_part_df['AvgQty06'][l]\n",
    "    \n",
    "        low_ppq['PricePQty06'][l]=temp\n",
    "    except:\n",
    "        temp=0\n",
    "        low_ppq['PricePQty06'][l]=temp\n",
    "        \n",
    "    try:\n",
    "        temp=low_part_df['AvgSValue07'][l]/low_part_df['AvgQty07'][l]\n",
    "    \n",
    "        low_ppq['PricePQty07'][l]=temp\n",
    "    except:\n",
    "        temp = 0\n",
    "        low_ppq['PricePQty07'][l]=temp\n",
    "    "
   ]
  },
  {
   "cell_type": "code",
   "execution_count": 4644,
   "metadata": {},
   "outputs": [],
   "source": [
    "low_part_df = pd.concat([low_part_df,low_ppq],axis=1)"
   ]
  },
  {
   "cell_type": "code",
   "execution_count": null,
   "metadata": {},
   "outputs": [],
   "source": []
  },
  {
   "cell_type": "markdown",
   "metadata": {},
   "source": [
    "AverageRetailerPArticipation  -- list of averages ! "
   ]
  },
  {
   "cell_type": "code",
   "execution_count": 4646,
   "metadata": {},
   "outputs": [],
   "source": [
    "ret_df = low_part_df.filter(['participation_01','participation_02','participation_03','participation_04','participation_05','participation_06','participation_07'],axis=1)"
   ]
  },
  {
   "cell_type": "code",
   "execution_count": 4647,
   "metadata": {},
   "outputs": [],
   "source": [
    "ret_avg = []"
   ]
  },
  {
   "cell_type": "code",
   "execution_count": 4648,
   "metadata": {},
   "outputs": [],
   "source": [
    "months = 7 "
   ]
  },
  {
   "cell_type": "code",
   "execution_count": 4649,
   "metadata": {},
   "outputs": [],
   "source": [
    "for l in range(low_part_df.shape[0]):\n",
    "    ret_avg.append(round(ret_df.loc[l].sum()/months))\n",
    "    "
   ]
  },
  {
   "cell_type": "code",
   "execution_count": 4650,
   "metadata": {},
   "outputs": [],
   "source": [
    "low_part_df['KPI-1 AvgRetPart'] = ret_avg"
   ]
  },
  {
   "cell_type": "markdown",
   "metadata": {},
   "source": [
    "AVERAGE SALES VALUE"
   ]
  },
  {
   "cell_type": "code",
   "execution_count": 4652,
   "metadata": {},
   "outputs": [],
   "source": [
    "avg_df_kpi= low_part_df.filter(['AvgSValue01','AvgSValue02', 'AvgSValue03','AvgSValue04', 'AvgSValue05', 'AvgSValue06', 'AvgSValue07'],axis=1)"
   ]
  },
  {
   "cell_type": "code",
   "execution_count": 4653,
   "metadata": {},
   "outputs": [],
   "source": [
    "avg_kpi_sl  = []"
   ]
  },
  {
   "cell_type": "code",
   "execution_count": 4655,
   "metadata": {},
   "outputs": [],
   "source": [
    "#conditional Average\n",
    "for l in range(low_part_df.shape[0]):\n",
    "    xtemp = list(avg_df_kpi.loc[l])\n",
    "    k = len([j for j in xtemp if j!=0 and str(j)!='nan'])\n",
    "    avg_kpi_sl.append(avg_df_kpi.loc[l].sum()/k)"
   ]
  },
  {
   "cell_type": "code",
   "execution_count": 4656,
   "metadata": {},
   "outputs": [],
   "source": [
    "low_part_df['KPI-2 AvgSales'] = avg_kpi_sl"
   ]
  },
  {
   "cell_type": "markdown",
   "metadata": {},
   "source": [
    "AVERAGE SALES QUANTITY"
   ]
  },
  {
   "cell_type": "code",
   "execution_count": 4658,
   "metadata": {},
   "outputs": [],
   "source": [
    "avg_df_kpi2 = low_part_df.filter(['AvgQty01','AvgQty02', 'AvgQty03', 'AvgQty04', 'AvgQty05', 'AvgQty06', 'AvgQty07'],axis=1)"
   ]
  },
  {
   "cell_type": "code",
   "execution_count": 4659,
   "metadata": {},
   "outputs": [],
   "source": [
    "avg_kpi_sl2  = []"
   ]
  },
  {
   "cell_type": "code",
   "execution_count": 4660,
   "metadata": {},
   "outputs": [],
   "source": [
    "for l in range(low_part_df.shape[0]):\n",
    "    xtemp = list(avg_df_kpi.loc[l])\n",
    "    k = len([j for j in xtemp if j!=0 and str(j)!='nan'])\n",
    "    avg_kpi_sl2.append(round(avg_df_kpi2.loc[l].sum()/k))"
   ]
  },
  {
   "cell_type": "code",
   "execution_count": 4661,
   "metadata": {},
   "outputs": [],
   "source": [
    "low_part_df['KPI-3 AvgSlQty'] = avg_kpi_sl2"
   ]
  },
  {
   "cell_type": "markdown",
   "metadata": {},
   "source": [
    "AVERAGE PPQ "
   ]
  },
  {
   "cell_type": "code",
   "execution_count": 4664,
   "metadata": {},
   "outputs": [],
   "source": [
    "avg_df_p1 = low_part_df.filter(['PricePQty01', 'PricePQty02', 'PricePQty03', 'PricePQty04','PricePQty05', 'PricePQty06', 'PricePQty07'],axis=1)"
   ]
  },
  {
   "cell_type": "code",
   "execution_count": null,
   "metadata": {},
   "outputs": [],
   "source": []
  },
  {
   "cell_type": "code",
   "execution_count": 4666,
   "metadata": {},
   "outputs": [],
   "source": [
    "avg_kpi_p  = []"
   ]
  },
  {
   "cell_type": "code",
   "execution_count": 4667,
   "metadata": {},
   "outputs": [
    {
     "data": {
      "text/plain": [
       "7"
      ]
     },
     "execution_count": 4667,
     "metadata": {},
     "output_type": "execute_result"
    }
   ],
   "source": [
    "months"
   ]
  },
  {
   "cell_type": "code",
   "execution_count": 4668,
   "metadata": {},
   "outputs": [],
   "source": [
    "for l in range(low_part_df.shape[0]):\n",
    "    xtemp = list(avg_df_kpi.loc[l])\n",
    "    k = len([j for j in xtemp if j!=0 and str(j)!='nan'])\n",
    "    avg_kpi_p.append(sum(avg_df_p1.loc[l])/k)"
   ]
  },
  {
   "cell_type": "code",
   "execution_count": 4669,
   "metadata": {},
   "outputs": [],
   "source": [
    "low_part_df['KPI- PPQAvg'] = avg_kpi_p"
   ]
  },
  {
   "cell_type": "code",
   "execution_count": 4670,
   "metadata": {},
   "outputs": [],
   "source": [
    "#low_part_df.replace(np.inf,0)"
   ]
  },
  {
   "cell_type": "code",
   "execution_count": 4671,
   "metadata": {},
   "outputs": [],
   "source": [
    "#'iuhiok[p;]p[]'"
   ]
  },
  {
   "cell_type": "code",
   "execution_count": 4672,
   "metadata": {},
   "outputs": [],
   "source": [
    "#currently Checking\n",
    "#low_part_df.fillna(method='bfill',inplace=True)\n",
    "low_part_df.replace(np.inf,0,inplace=True)"
   ]
  },
  {
   "cell_type": "code",
   "execution_count": null,
   "metadata": {},
   "outputs": [],
   "source": []
  },
  {
   "cell_type": "code",
   "execution_count": 4677,
   "metadata": {},
   "outputs": [],
   "source": [
    "r_df = low_part_df.filter(['RE','KPI-1 AvgRetPart','KPI-2 AvgSales','KPI-3 AvgSlQty'],axis=1)"
   ]
  },
  {
   "cell_type": "code",
   "execution_count": 4678,
   "metadata": {},
   "outputs": [],
   "source": [
    "avg_list=[]\n",
    "x_list = []\n"
   ]
  },
  {
   "cell_type": "code",
   "execution_count": 4679,
   "metadata": {},
   "outputs": [
    {
     "data": {
      "text/plain": [
       "(166, 4)"
      ]
     },
     "execution_count": 4679,
     "metadata": {},
     "output_type": "execute_result"
    }
   ],
   "source": [
    "r_df.shape"
   ]
  },
  {
   "cell_type": "code",
   "execution_count": 4680,
   "metadata": {},
   "outputs": [
    {
     "data": {
      "text/plain": [
       "(29, 6)"
      ]
     },
     "execution_count": 4680,
     "metadata": {},
     "output_type": "execute_result"
    }
   ],
   "source": [
    "merged_df.shape"
   ]
  },
  {
   "cell_type": "code",
   "execution_count": 4682,
   "metadata": {},
   "outputs": [
    {
     "data": {
      "text/plain": [
       "Index(['TRIVANDRUM_GS', 'TRIVANDRUM_KS', 'TRIVANDRUM_MS', 'TRISSUR_GS',\n",
       "       'TRISSUR_KS', 'TRISSUR_MS'],\n",
       "      dtype='object')"
      ]
     },
     "execution_count": 4682,
     "metadata": {},
     "output_type": "execute_result"
    }
   ],
   "source": [
    "finaltop20_df.keys()"
   ]
  },
  {
   "cell_type": "code",
   "execution_count": 4683,
   "metadata": {},
   "outputs": [
    {
     "name": "stdout",
     "output_type": "stream",
     "text": [
      "TRISSUR TRIVANDRUM_GS\n",
      "28\n",
      "TRISSUR TRIVANDRUM_KS\n",
      "28\n",
      "TRISSUR TRIVANDRUM_MS\n",
      "26\n",
      "TRISSUR TRISSUR_GS\n",
      "28\n",
      "TRISSUR TRISSUR_KS\n",
      "27\n",
      "TRISSUR TRISSUR_MS\n",
      "29\n"
     ]
    }
   ],
   "source": [
    "loc=0\n",
    "kk=0\n",
    "shape_end=0\n",
    "iter_ = 0\n",
    "temp_dict = {}\n",
    "avg_list=[]\n",
    "x_list = []\n",
    "\n",
    "\n",
    "for key in finaltop20_df.keys():\n",
    "        for h in city_cat_2:\n",
    "            if key.find(h)!=-1:\n",
    "                cit=str(h)\n",
    "        for j in re_2:\n",
    "            if key.find(j)!=-1:\n",
    "                r = str(j)\n",
    "        print(city,key)\n",
    "        l_ = low_part_df.loc[(low_part_df['City']==cit)&(low_part_df['RE']==r),'NPG'].count()\n",
    "        shape_end = shape_end+l_\n",
    "        #print(\"LOC=\"+str(loc))\n",
    "        #print(\"shapened=\"+str(shape_end))\n",
    "        temp=r_df['KPI-1 AvgRetPart']\n",
    "        x_list=temp[loc:shape_end].rank(method = 'dense',ascending = False) \n",
    "        avg_list.append(x_list.values.tolist())\n",
    "        print(shape_end-loc)\n",
    "        \n",
    "        loc = loc+l_\n",
    "        i=0"
   ]
  },
  {
   "cell_type": "code",
   "execution_count": null,
   "metadata": {},
   "outputs": [],
   "source": []
  },
  {
   "cell_type": "code",
   "execution_count": 4684,
   "metadata": {},
   "outputs": [],
   "source": [
    "flat_avg = [int(y) for x in avg_list for y in x] #flattening code"
   ]
  },
  {
   "cell_type": "code",
   "execution_count": 4685,
   "metadata": {},
   "outputs": [],
   "source": [
    "tag_list_ = []\n",
    "point_list_=[]"
   ]
  },
  {
   "cell_type": "code",
   "execution_count": 4686,
   "metadata": {},
   "outputs": [],
   "source": [
    "for x in flat_avg:\n",
    "    if x <5:\n",
    "        tag_list_.append(\"Very_High\")\n",
    "        point_list_.append(5)\n",
    "    elif x<10:\n",
    "        tag_list_.append(\"High\")\n",
    "        point_list_.append(4)\n",
    "    elif x<15:\n",
    "        tag_list_.append(\"Medium_1\")\n",
    "        point_list_.append(3)\n",
    "    elif x<20:\n",
    "        tag_list_.append(\"Medium_2\")\n",
    "        point_list_.append(2)\n",
    "    elif x>=20:\n",
    "        tag_list_.append(\"Low\")\n",
    "        point_list_.append(1)\n",
    "    else:\n",
    "        tag_list_.append(\"nan\")\n",
    "        point_list_.append(0)\n",
    "        "
   ]
  },
  {
   "cell_type": "code",
   "execution_count": null,
   "metadata": {},
   "outputs": [],
   "source": []
  },
  {
   "cell_type": "code",
   "execution_count": 4687,
   "metadata": {},
   "outputs": [],
   "source": [
    "low_part_df['AvgRetPart_Tag'] = tag_list_"
   ]
  },
  {
   "cell_type": "code",
   "execution_count": 4688,
   "metadata": {},
   "outputs": [],
   "source": [
    "low_part_df['AvgRetPart_point'] = point_list_"
   ]
  },
  {
   "cell_type": "code",
   "execution_count": 4689,
   "metadata": {},
   "outputs": [],
   "source": [
    "low_part_df['Rank AvgRetPart'] = flat_avg"
   ]
  },
  {
   "cell_type": "markdown",
   "metadata": {},
   "source": [
    " "
   ]
  },
  {
   "cell_type": "markdown",
   "metadata": {},
   "source": [
    " "
   ]
  },
  {
   "cell_type": "code",
   "execution_count": 4692,
   "metadata": {},
   "outputs": [
    {
     "name": "stdout",
     "output_type": "stream",
     "text": [
      "LOC=0\n",
      "shapened=28\n",
      "LOC=28\n",
      "shapened=56\n",
      "LOC=56\n",
      "shapened=82\n",
      "LOC=82\n",
      "shapened=110\n",
      "LOC=110\n",
      "shapened=137\n",
      "LOC=137\n",
      "shapened=166\n"
     ]
    }
   ],
   "source": [
    "loc=0\n",
    "kk=0\n",
    "shape_end=0\n",
    "iter_ = 0\n",
    "temp_dict = {}\n",
    "avg_list=[]\n",
    "x_list = []\n",
    "\n",
    "\n",
    "for key in finaltop20_df.keys():\n",
    "        for h in city_cat_2:\n",
    "            if key.find(h)!=-1:\n",
    "                cit=str(h)\n",
    "        for j in re_2:\n",
    "            if key.find(j)!=-1:\n",
    "                r = str(j)\n",
    "        l_ = low_part_df.loc[(low_part_df['City']==cit)&(low_part_df['RE']==r),'NPG'].count()\n",
    "        shape_end = shape_end+l_\n",
    "        print(\"LOC=\"+str(loc))\n",
    "        print(\"shapened=\"+str(shape_end))\n",
    "        temp=r_df['KPI-2 AvgSales']\n",
    "        x_list=temp[loc:shape_end].rank(method = 'dense',ascending = False) \n",
    "        avg_list.append(x_list.values.tolist())\n",
    "        \n",
    "        \n",
    "        loc = loc+l_\n",
    "        i=0"
   ]
  },
  {
   "cell_type": "code",
   "execution_count": 4693,
   "metadata": {},
   "outputs": [],
   "source": [
    "flat_avg = [int(y) for x in avg_list for y in x]"
   ]
  },
  {
   "cell_type": "code",
   "execution_count": 4694,
   "metadata": {},
   "outputs": [],
   "source": [
    "tag_list_ = []\n",
    "point_list_=[]"
   ]
  },
  {
   "cell_type": "code",
   "execution_count": 4695,
   "metadata": {},
   "outputs": [],
   "source": [
    "for x in flat_avg:\n",
    "    if x <5:\n",
    "        tag_list_.append(\"Very_High\")\n",
    "        point_list_.append(5)\n",
    "    elif x<10:\n",
    "        tag_list_.append(\"High\")\n",
    "        point_list_.append(4)\n",
    "    elif x<15:\n",
    "        tag_list_.append(\"Medium_1\")\n",
    "        point_list_.append(3)\n",
    "    elif x<20:\n",
    "        tag_list_.append(\"Medium_2\")\n",
    "        point_list_.append(2)\n",
    "    elif x>=20:\n",
    "        tag_list_.append(\"Low\")\n",
    "        point_list_.append(1)\n",
    "    else:\n",
    "        tag_list_.append(\"nan\")\n",
    "        point_list_.append(0)\n",
    "        "
   ]
  },
  {
   "cell_type": "code",
   "execution_count": null,
   "metadata": {},
   "outputs": [],
   "source": []
  },
  {
   "cell_type": "code",
   "execution_count": 4696,
   "metadata": {},
   "outputs": [],
   "source": [
    "low_part_df['AvgSales_Tag'] = tag_list_"
   ]
  },
  {
   "cell_type": "code",
   "execution_count": 4697,
   "metadata": {},
   "outputs": [],
   "source": [
    "low_part_df['AvgSales_point'] = point_list_"
   ]
  },
  {
   "cell_type": "code",
   "execution_count": 4698,
   "metadata": {},
   "outputs": [],
   "source": [
    "low_part_df['Rank AvgSales'] = flat_avg"
   ]
  },
  {
   "cell_type": "markdown",
   "metadata": {},
   "source": [
    " "
   ]
  },
  {
   "cell_type": "markdown",
   "metadata": {},
   "source": [
    " "
   ]
  },
  {
   "cell_type": "code",
   "execution_count": 4700,
   "metadata": {},
   "outputs": [
    {
     "name": "stdout",
     "output_type": "stream",
     "text": [
      "LOC=0\n",
      "shapened=28\n",
      "LOC=28\n",
      "shapened=56\n",
      "LOC=56\n",
      "shapened=82\n",
      "LOC=82\n",
      "shapened=110\n",
      "LOC=110\n",
      "shapened=137\n",
      "LOC=137\n",
      "shapened=166\n"
     ]
    }
   ],
   "source": [
    "loc=0\n",
    "kk=0\n",
    "shape_end=0\n",
    "iter_ = 0\n",
    "temp_dict = {}\n",
    "avg_list=[]\n",
    "x_list = []\n",
    "\n",
    "\n",
    "for key in finaltop20_df.keys():\n",
    "        for h in city_cat_2:\n",
    "            if key.find(h)!=-1:\n",
    "                cit=str(h)\n",
    "        for j in re_2:\n",
    "            if key.find(j)!=-1:\n",
    "                r = str(j)\n",
    "        l_ = low_part_df.loc[(low_part_df['City']==cit)&(low_part_df['RE']==r),'NPG'].count()\n",
    "        shape_end = shape_end+l_\n",
    "        print(\"LOC=\"+str(loc))\n",
    "        print(\"shapened=\"+str(shape_end))\n",
    "        temp=r_df['KPI-3 AvgSlQty']\n",
    "        x_list=temp[loc:shape_end].rank(method = 'dense',ascending = False) \n",
    "        avg_list.append(x_list.values.tolist())\n",
    "        \n",
    "        \n",
    "        loc = loc+l_\n",
    "        i=0"
   ]
  },
  {
   "cell_type": "code",
   "execution_count": 4701,
   "metadata": {},
   "outputs": [],
   "source": [
    "flat_avg = [int(y) for x in avg_list for y in x]"
   ]
  },
  {
   "cell_type": "code",
   "execution_count": 4702,
   "metadata": {},
   "outputs": [],
   "source": [
    "tag_list_ = []\n",
    "point_list_=[]"
   ]
  },
  {
   "cell_type": "code",
   "execution_count": 4703,
   "metadata": {},
   "outputs": [],
   "source": [
    "for x in flat_avg:\n",
    "    if x <5:\n",
    "        tag_list_.append(\"Very_High\")\n",
    "        point_list_.append(5)\n",
    "    elif x<10:\n",
    "        tag_list_.append(\"High\")\n",
    "        point_list_.append(4)\n",
    "    elif x<15:\n",
    "        tag_list_.append(\"Medium_1\")\n",
    "        point_list_.append(3)\n",
    "    elif x<20:\n",
    "        tag_list_.append(\"Medium_2\")\n",
    "        point_list_.append(2)\n",
    "    elif x>=20:\n",
    "        tag_list_.append(\"Low\")\n",
    "        point_list_.append(1)\n",
    "    else:\n",
    "        tag_list_.append(\"nan\")\n",
    "        point_list_.append(0)\n",
    "        "
   ]
  },
  {
   "cell_type": "code",
   "execution_count": null,
   "metadata": {},
   "outputs": [],
   "source": []
  },
  {
   "cell_type": "code",
   "execution_count": 4704,
   "metadata": {},
   "outputs": [],
   "source": [
    "low_part_df['AvgSlQty_Tag'] = tag_list_"
   ]
  },
  {
   "cell_type": "code",
   "execution_count": 4705,
   "metadata": {},
   "outputs": [],
   "source": [
    "low_part_df['AvgSlQty_point'] = point_list_"
   ]
  },
  {
   "cell_type": "code",
   "execution_count": 4706,
   "metadata": {},
   "outputs": [],
   "source": [
    "low_part_df['Rank AvgSlQty'] = flat_avg"
   ]
  },
  {
   "cell_type": "markdown",
   "metadata": {},
   "source": [
    " "
   ]
  },
  {
   "cell_type": "markdown",
   "metadata": {},
   "source": [
    " "
   ]
  },
  {
   "cell_type": "code",
   "execution_count": 4708,
   "metadata": {},
   "outputs": [],
   "source": [
    "low_part_df.to_csv(\"New_fileCheck1.csv\")"
   ]
  },
  {
   "cell_type": "code",
   "execution_count": null,
   "metadata": {},
   "outputs": [],
   "source": []
  },
  {
   "cell_type": "markdown",
   "metadata": {},
   "source": [
    "Points Extraction for ranking index"
   ]
  },
  {
   "cell_type": "code",
   "execution_count": 4709,
   "metadata": {},
   "outputs": [],
   "source": [
    "in_df = low_part_df.filter(['AvgRetPart_point','AvgSales_point','AvgSlQty_point'])"
   ]
  },
  {
   "cell_type": "code",
   "execution_count": 4712,
   "metadata": {},
   "outputs": [],
   "source": [
    "index = []"
   ]
  },
  {
   "cell_type": "code",
   "execution_count": 4713,
   "metadata": {},
   "outputs": [],
   "source": [
    "for il in range(in_df.shape[0]):\n",
    "    temp = (in_df['AvgRetPart_point'][il]*0.6)+(in_df['AvgSales_point'][il]*0.2)+(in_df['AvgSlQty_point'][il]*0.2)\n",
    "    index.append(temp)"
   ]
  },
  {
   "cell_type": "code",
   "execution_count": 4714,
   "metadata": {},
   "outputs": [
    {
     "data": {
      "text/plain": [
       "166"
      ]
     },
     "execution_count": 4714,
     "metadata": {},
     "output_type": "execute_result"
    }
   ],
   "source": [
    "len(index)"
   ]
  },
  {
   "cell_type": "code",
   "execution_count": 4715,
   "metadata": {},
   "outputs": [],
   "source": [
    "low_part_df['Index'] = index"
   ]
  },
  {
   "cell_type": "code",
   "execution_count": 4716,
   "metadata": {},
   "outputs": [
    {
     "data": {
      "text/html": [
       "<div>\n",
       "<style scoped>\n",
       "    .dataframe tbody tr th:only-of-type {\n",
       "        vertical-align: middle;\n",
       "    }\n",
       "\n",
       "    .dataframe tbody tr th {\n",
       "        vertical-align: top;\n",
       "    }\n",
       "\n",
       "    .dataframe thead th {\n",
       "        text-align: right;\n",
       "    }\n",
       "</style>\n",
       "<table border=\"1\" class=\"dataframe\">\n",
       "  <thead>\n",
       "    <tr style=\"text-align: right;\">\n",
       "      <th></th>\n",
       "      <th>NPG</th>\n",
       "      <th>City</th>\n",
       "      <th>RE</th>\n",
       "      <th>Active Outlets</th>\n",
       "      <th>npg_code</th>\n",
       "      <th>outlet_m01</th>\n",
       "      <th>outlet_m02</th>\n",
       "      <th>outlet_m03</th>\n",
       "      <th>outlet_m04</th>\n",
       "      <th>outlet_m05</th>\n",
       "      <th>...</th>\n",
       "      <th>AvgRetPart_Tag</th>\n",
       "      <th>AvgRetPart_point</th>\n",
       "      <th>Rank AvgRetPart</th>\n",
       "      <th>AvgSales_Tag</th>\n",
       "      <th>AvgSales_point</th>\n",
       "      <th>Rank AvgSales</th>\n",
       "      <th>AvgSlQty_Tag</th>\n",
       "      <th>AvgSlQty_point</th>\n",
       "      <th>Rank AvgSlQty</th>\n",
       "      <th>Index</th>\n",
       "    </tr>\n",
       "  </thead>\n",
       "  <tbody>\n",
       "    <tr>\n",
       "      <th>0</th>\n",
       "      <td>TP Col Cib 123 175g</td>\n",
       "      <td>TRIVANDRUM</td>\n",
       "      <td>GS</td>\n",
       "      <td>153</td>\n",
       "      <td>CP1113COCBA04</td>\n",
       "      <td>14</td>\n",
       "      <td>14</td>\n",
       "      <td>14</td>\n",
       "      <td>21</td>\n",
       "      <td>13</td>\n",
       "      <td>...</td>\n",
       "      <td>High</td>\n",
       "      <td>4</td>\n",
       "      <td>9</td>\n",
       "      <td>Medium_1</td>\n",
       "      <td>3</td>\n",
       "      <td>11</td>\n",
       "      <td>Medium_1</td>\n",
       "      <td>3</td>\n",
       "      <td>10</td>\n",
       "      <td>3.6</td>\n",
       "    </tr>\n",
       "    <tr>\n",
       "      <th>1</th>\n",
       "      <td>TP Col MaxFrs Red 80g</td>\n",
       "      <td>TRIVANDRUM</td>\n",
       "      <td>GS</td>\n",
       "      <td>153</td>\n",
       "      <td>CP1114COMFA04</td>\n",
       "      <td>8</td>\n",
       "      <td>8</td>\n",
       "      <td>14</td>\n",
       "      <td>5</td>\n",
       "      <td>9</td>\n",
       "      <td>...</td>\n",
       "      <td>Medium_1</td>\n",
       "      <td>3</td>\n",
       "      <td>13</td>\n",
       "      <td>Low</td>\n",
       "      <td>1</td>\n",
       "      <td>20</td>\n",
       "      <td>Medium_1</td>\n",
       "      <td>3</td>\n",
       "      <td>11</td>\n",
       "      <td>2.6</td>\n",
       "    </tr>\n",
       "    <tr>\n",
       "      <th>2</th>\n",
       "      <td>TP Col MaxFrs Red Rs.10</td>\n",
       "      <td>TRIVANDRUM</td>\n",
       "      <td>GS</td>\n",
       "      <td>153</td>\n",
       "      <td>CP1114COMFA01</td>\n",
       "      <td>48</td>\n",
       "      <td>26</td>\n",
       "      <td>27</td>\n",
       "      <td>41</td>\n",
       "      <td>18</td>\n",
       "      <td>...</td>\n",
       "      <td>High</td>\n",
       "      <td>4</td>\n",
       "      <td>5</td>\n",
       "      <td>Low</td>\n",
       "      <td>1</td>\n",
       "      <td>22</td>\n",
       "      <td>Very_High</td>\n",
       "      <td>5</td>\n",
       "      <td>2</td>\n",
       "      <td>3.6</td>\n",
       "    </tr>\n",
       "    <tr>\n",
       "      <th>3</th>\n",
       "      <td>TB Col ZigZag Black M/S PO1</td>\n",
       "      <td>TRIVANDRUM</td>\n",
       "      <td>GS</td>\n",
       "      <td>153</td>\n",
       "      <td>CP1213COZZB01</td>\n",
       "      <td>11</td>\n",
       "      <td>4</td>\n",
       "      <td>8</td>\n",
       "      <td>22</td>\n",
       "      <td>4</td>\n",
       "      <td>...</td>\n",
       "      <td>Medium_1</td>\n",
       "      <td>3</td>\n",
       "      <td>12</td>\n",
       "      <td>Medium_2</td>\n",
       "      <td>2</td>\n",
       "      <td>17</td>\n",
       "      <td>Medium_1</td>\n",
       "      <td>3</td>\n",
       "      <td>13</td>\n",
       "      <td>2.8</td>\n",
       "    </tr>\n",
       "    <tr>\n",
       "      <th>4</th>\n",
       "      <td>TB Col Cib Suprme Hard PO1</td>\n",
       "      <td>TRIVANDRUM</td>\n",
       "      <td>GS</td>\n",
       "      <td>153</td>\n",
       "      <td>CP1214COCBB01</td>\n",
       "      <td>48</td>\n",
       "      <td>40</td>\n",
       "      <td>51</td>\n",
       "      <td>43</td>\n",
       "      <td>41</td>\n",
       "      <td>...</td>\n",
       "      <td>Very_High</td>\n",
       "      <td>5</td>\n",
       "      <td>3</td>\n",
       "      <td>High</td>\n",
       "      <td>4</td>\n",
       "      <td>5</td>\n",
       "      <td>Very_High</td>\n",
       "      <td>5</td>\n",
       "      <td>2</td>\n",
       "      <td>4.8</td>\n",
       "    </tr>\n",
       "    <tr>\n",
       "      <th>...</th>\n",
       "      <td>...</td>\n",
       "      <td>...</td>\n",
       "      <td>...</td>\n",
       "      <td>...</td>\n",
       "      <td>...</td>\n",
       "      <td>...</td>\n",
       "      <td>...</td>\n",
       "      <td>...</td>\n",
       "      <td>...</td>\n",
       "      <td>...</td>\n",
       "      <td>...</td>\n",
       "      <td>...</td>\n",
       "      <td>...</td>\n",
       "      <td>...</td>\n",
       "      <td>...</td>\n",
       "      <td>...</td>\n",
       "      <td>...</td>\n",
       "      <td>...</td>\n",
       "      <td>...</td>\n",
       "      <td>...</td>\n",
       "      <td>...</td>\n",
       "    </tr>\n",
       "    <tr>\n",
       "      <th>161</th>\n",
       "      <td>MW Col Plax FrsMnt 100ml</td>\n",
       "      <td>TRISSUR</td>\n",
       "      <td>MS</td>\n",
       "      <td>51</td>\n",
       "      <td>CP1311COPXB02</td>\n",
       "      <td>7</td>\n",
       "      <td>7</td>\n",
       "      <td>6</td>\n",
       "      <td>4</td>\n",
       "      <td>3</td>\n",
       "      <td>...</td>\n",
       "      <td>Very_High</td>\n",
       "      <td>5</td>\n",
       "      <td>3</td>\n",
       "      <td>Low</td>\n",
       "      <td>1</td>\n",
       "      <td>20</td>\n",
       "      <td>High</td>\n",
       "      <td>4</td>\n",
       "      <td>9</td>\n",
       "      <td>4.0</td>\n",
       "    </tr>\n",
       "    <tr>\n",
       "      <th>162</th>\n",
       "      <td>TP Col Kids2+ Blue 40g</td>\n",
       "      <td>TRISSUR</td>\n",
       "      <td>MS</td>\n",
       "      <td>51</td>\n",
       "      <td>CP1115COK2B01</td>\n",
       "      <td>1</td>\n",
       "      <td>0</td>\n",
       "      <td>2</td>\n",
       "      <td>0</td>\n",
       "      <td>0</td>\n",
       "      <td>...</td>\n",
       "      <td>Medium_1</td>\n",
       "      <td>3</td>\n",
       "      <td>10</td>\n",
       "      <td>Very_High</td>\n",
       "      <td>5</td>\n",
       "      <td>1</td>\n",
       "      <td>Very_High</td>\n",
       "      <td>5</td>\n",
       "      <td>3</td>\n",
       "      <td>3.8</td>\n",
       "    </tr>\n",
       "    <tr>\n",
       "      <th>163</th>\n",
       "      <td>TP Col DenCrm Rs.20</td>\n",
       "      <td>TRISSUR</td>\n",
       "      <td>MS</td>\n",
       "      <td>51</td>\n",
       "      <td>CP1111CODCX03</td>\n",
       "      <td>13</td>\n",
       "      <td>12</td>\n",
       "      <td>21</td>\n",
       "      <td>7</td>\n",
       "      <td>8</td>\n",
       "      <td>...</td>\n",
       "      <td>Very_High</td>\n",
       "      <td>5</td>\n",
       "      <td>1</td>\n",
       "      <td>Low</td>\n",
       "      <td>1</td>\n",
       "      <td>27</td>\n",
       "      <td>High</td>\n",
       "      <td>4</td>\n",
       "      <td>7</td>\n",
       "      <td>4.0</td>\n",
       "    </tr>\n",
       "    <tr>\n",
       "      <th>164</th>\n",
       "      <td>TB Col Sens Sft PO1</td>\n",
       "      <td>TRISSUR</td>\n",
       "      <td>MS</td>\n",
       "      <td>51</td>\n",
       "      <td>CP1212COSNX01</td>\n",
       "      <td>2</td>\n",
       "      <td>1</td>\n",
       "      <td>4</td>\n",
       "      <td>2</td>\n",
       "      <td>1</td>\n",
       "      <td>...</td>\n",
       "      <td>High</td>\n",
       "      <td>4</td>\n",
       "      <td>8</td>\n",
       "      <td>Medium_1</td>\n",
       "      <td>3</td>\n",
       "      <td>12</td>\n",
       "      <td>Medium_1</td>\n",
       "      <td>3</td>\n",
       "      <td>12</td>\n",
       "      <td>3.6</td>\n",
       "    </tr>\n",
       "    <tr>\n",
       "      <th>165</th>\n",
       "      <td>TP Col SVS 100g</td>\n",
       "      <td>TRISSUR</td>\n",
       "      <td>MS</td>\n",
       "      <td>51</td>\n",
       "      <td>CP1112COSVX05</td>\n",
       "      <td>0</td>\n",
       "      <td>1</td>\n",
       "      <td>1</td>\n",
       "      <td>2</td>\n",
       "      <td>1</td>\n",
       "      <td>...</td>\n",
       "      <td>Medium_1</td>\n",
       "      <td>3</td>\n",
       "      <td>10</td>\n",
       "      <td>High</td>\n",
       "      <td>4</td>\n",
       "      <td>9</td>\n",
       "      <td>High</td>\n",
       "      <td>4</td>\n",
       "      <td>8</td>\n",
       "      <td>3.4</td>\n",
       "    </tr>\n",
       "  </tbody>\n",
       "</table>\n",
       "<p>166 rows × 68 columns</p>\n",
       "</div>"
      ],
      "text/plain": [
       "                             NPG        City  RE  Active Outlets  \\\n",
       "0            TP Col Cib 123 175g  TRIVANDRUM  GS             153   \n",
       "1          TP Col MaxFrs Red 80g  TRIVANDRUM  GS             153   \n",
       "2        TP Col MaxFrs Red Rs.10  TRIVANDRUM  GS             153   \n",
       "3    TB Col ZigZag Black M/S PO1  TRIVANDRUM  GS             153   \n",
       "4     TB Col Cib Suprme Hard PO1  TRIVANDRUM  GS             153   \n",
       "..                           ...         ...  ..             ...   \n",
       "161     MW Col Plax FrsMnt 100ml     TRISSUR  MS              51   \n",
       "162       TP Col Kids2+ Blue 40g     TRISSUR  MS              51   \n",
       "163          TP Col DenCrm Rs.20     TRISSUR  MS              51   \n",
       "164          TB Col Sens Sft PO1     TRISSUR  MS              51   \n",
       "165              TP Col SVS 100g     TRISSUR  MS              51   \n",
       "\n",
       "          npg_code  outlet_m01  outlet_m02  outlet_m03  outlet_m04  \\\n",
       "0    CP1113COCBA04          14          14          14          21   \n",
       "1    CP1114COMFA04           8           8          14           5   \n",
       "2    CP1114COMFA01          48          26          27          41   \n",
       "3    CP1213COZZB01          11           4           8          22   \n",
       "4    CP1214COCBB01          48          40          51          43   \n",
       "..             ...         ...         ...         ...         ...   \n",
       "161  CP1311COPXB02           7           7           6           4   \n",
       "162  CP1115COK2B01           1           0           2           0   \n",
       "163  CP1111CODCX03          13          12          21           7   \n",
       "164  CP1212COSNX01           2           1           4           2   \n",
       "165  CP1112COSVX05           0           1           1           2   \n",
       "\n",
       "     outlet_m05  ...  AvgRetPart_Tag  AvgRetPart_point  Rank AvgRetPart  \\\n",
       "0            13  ...            High                 4                9   \n",
       "1             9  ...        Medium_1                 3               13   \n",
       "2            18  ...            High                 4                5   \n",
       "3             4  ...        Medium_1                 3               12   \n",
       "4            41  ...       Very_High                 5                3   \n",
       "..          ...  ...             ...               ...              ...   \n",
       "161           3  ...       Very_High                 5                3   \n",
       "162           0  ...        Medium_1                 3               10   \n",
       "163           8  ...       Very_High                 5                1   \n",
       "164           1  ...            High                 4                8   \n",
       "165           1  ...        Medium_1                 3               10   \n",
       "\n",
       "     AvgSales_Tag  AvgSales_point  Rank AvgSales  AvgSlQty_Tag  \\\n",
       "0        Medium_1               3             11      Medium_1   \n",
       "1             Low               1             20      Medium_1   \n",
       "2             Low               1             22     Very_High   \n",
       "3        Medium_2               2             17      Medium_1   \n",
       "4            High               4              5     Very_High   \n",
       "..            ...             ...            ...           ...   \n",
       "161           Low               1             20          High   \n",
       "162     Very_High               5              1     Very_High   \n",
       "163           Low               1             27          High   \n",
       "164      Medium_1               3             12      Medium_1   \n",
       "165          High               4              9          High   \n",
       "\n",
       "     AvgSlQty_point  Rank AvgSlQty  Index  \n",
       "0                 3             10    3.6  \n",
       "1                 3             11    2.6  \n",
       "2                 5              2    3.6  \n",
       "3                 3             13    2.8  \n",
       "4                 5              2    4.8  \n",
       "..              ...            ...    ...  \n",
       "161               4              9    4.0  \n",
       "162               5              3    3.8  \n",
       "163               4              7    4.0  \n",
       "164               3             12    3.6  \n",
       "165               4              8    3.4  \n",
       "\n",
       "[166 rows x 68 columns]"
      ]
     },
     "execution_count": 4716,
     "metadata": {},
     "output_type": "execute_result"
    }
   ],
   "source": [
    "low_part_df"
   ]
  },
  {
   "cell_type": "markdown",
   "metadata": {},
   "source": [
    "Index Ranking"
   ]
  },
  {
   "cell_type": "code",
   "execution_count": 4717,
   "metadata": {},
   "outputs": [],
   "source": [
    "avg_list=[]\n",
    "x_list = []\n",
    "loc = 0\n",
    "st_end = merged_df.shape[0]\n"
   ]
  },
  {
   "cell_type": "code",
   "execution_count": 4721,
   "metadata": {},
   "outputs": [
    {
     "name": "stdout",
     "output_type": "stream",
     "text": [
      "LOC=0\n",
      "shapened=28\n",
      "LOC=28\n",
      "shapened=56\n",
      "LOC=56\n",
      "shapened=82\n",
      "LOC=82\n",
      "shapened=110\n",
      "LOC=110\n",
      "shapened=137\n",
      "LOC=137\n",
      "shapened=166\n"
     ]
    }
   ],
   "source": [
    "loc=0\n",
    "kk=0\n",
    "shape_end=0\n",
    "iter_ = 0\n",
    "temp_dict = {}\n",
    "avg_list=[]\n",
    "x_list = []\n",
    "for key in finaltop20_df.keys():\n",
    "        for h in city_cat_2:\n",
    "            if key.find(h)!=-1:\n",
    "                cit=str(h)\n",
    "        for j in re_2:\n",
    "            if key.find(j)!=-1:\n",
    "                r = str(j)\n",
    "        l_ = low_part_df.loc[(low_part_df['City']==cit)&(low_part_df['RE']==r),'NPG'].count()\n",
    "        shape_end = shape_end+l_\n",
    "        print(\"LOC=\"+str(loc))\n",
    "        print(\"shapened=\"+str(shape_end))\n",
    "        temp=low_part_df['Index']\n",
    "        x_list=round(temp[loc:shape_end].rank(ascending = False))\n",
    "        avg_list.append(x_list.values.tolist())\n",
    "        \n",
    "        \n",
    "        loc = loc+l_\n",
    "        i=0"
   ]
  },
  {
   "cell_type": "code",
   "execution_count": 4722,
   "metadata": {},
   "outputs": [],
   "source": [
    "flat_avg = [int(y) for x in avg_list for y in x]"
   ]
  },
  {
   "cell_type": "code",
   "execution_count": 4723,
   "metadata": {},
   "outputs": [],
   "source": [
    "low_part_df['Ranked Index'] = flat_avg"
   ]
  },
  {
   "cell_type": "code",
   "execution_count": 4724,
   "metadata": {},
   "outputs": [],
   "source": [
    "#splitting for checking"
   ]
  },
  {
   "cell_type": "code",
   "execution_count": 4725,
   "metadata": {},
   "outputs": [],
   "source": [
    "low_part_df.to_csv(\"newtagtest.csv\")"
   ]
  },
  {
   "cell_type": "markdown",
   "metadata": {},
   "source": [
    " "
   ]
  },
  {
   "cell_type": "markdown",
   "metadata": {},
   "source": [
    " "
   ]
  },
  {
   "cell_type": "markdown",
   "metadata": {},
   "source": [
    " "
   ]
  },
  {
   "cell_type": "markdown",
   "metadata": {},
   "source": [
    " "
   ]
  },
  {
   "cell_type": "markdown",
   "metadata": {},
   "source": [
    "# Building Box - LOW"
   ]
  },
  {
   "cell_type": "code",
   "execution_count": null,
   "metadata": {},
   "outputs": [],
   "source": [
    "final_dict.keys()"
   ]
  },
  {
   "cell_type": "code",
   "execution_count": null,
   "metadata": {},
   "outputs": [],
   "source": [
    "final_dict['TRIVANDRUM_avg_npgs_per_retailer']"
   ]
  },
  {
   "cell_type": "code",
   "execution_count": null,
   "metadata": {},
   "outputs": [],
   "source": [
    "dd = []\n",
    "for cit in city_cat_2:\n",
    "    \n",
    "    for key in final_dict.keys():\n",
    "        if key.find(\"{}_median_sale_value_per_outlet\".format(cit))!=-1:\n",
    "            dd.append(key)\n",
    "        if key.find(\"{}_avg_npgs_per_outlet\".format(cit))!=-1:\n",
    "            dd.append(key)"
   ]
  },
  {
   "cell_type": "code",
   "execution_count": null,
   "metadata": {},
   "outputs": [],
   "source": [
    "dd"
   ]
  },
  {
   "cell_type": "code",
   "execution_count": null,
   "metadata": {},
   "outputs": [],
   "source": [
    "city_cat_2"
   ]
  },
  {
   "cell_type": "code",
   "execution_count": null,
   "metadata": {},
   "outputs": [],
   "source": [
    "tags = ['Low','Medium','High']"
   ]
  },
  {
   "cell_type": "code",
   "execution_count": null,
   "metadata": {},
   "outputs": [],
   "source": [
    "row_count_final = len(re_2)*len(tags)"
   ]
  },
  {
   "cell_type": "code",
   "execution_count": null,
   "metadata": {},
   "outputs": [],
   "source": [
    "#npg Count\n",
    "main_key = []\n",
    "key = dd[0]\n",
    "for cit in city_cat_2:\n",
    "    for wrd in dd:\n",
    "        if wrd.find(\"{}_avg_npgs_per_retailer\".format(cit))!=-1:\n",
    "            key = \"{}_avg_npgs_per_retailer\".format(cit)\n",
    "        else:\n",
    "            pass\n",
    "    typ_list = final_dict[key].iloc[:,0:1]\n",
    "    typ_list1 = typ_list.values.tolist()\n",
    "    rows = [item for x in typ_list1 for item in x]\n",
    "    for x in rows:\n",
    "        if x.find('low')!=-1:\n",
    "\n",
    "            main_key.append(x)\n",
    "        else:\n",
    "            pass\n",
    "npg_dict={}\n",
    "for cit in city_cat_2:\n",
    "    for key in main_key:\n",
    "        temp_ = final_dict[\"{}_avg_npgs_per_retailer\".format(cit)]\n",
    "        temp1 = temp_.loc[temp_['avg npg per retailer']==key]\n",
    "        temp1List = temp1.iloc[0].values.tolist()\n",
    "        temp1List.pop(0)\n",
    "        av = np.ceil(sum(temp1List)/7)\n",
    "        if av==1:\n",
    "            av+=1\n",
    "        npg_dict[\"{}_{}\".format(cit,key)]=av"
   ]
  },
  {
   "cell_type": "code",
   "execution_count": null,
   "metadata": {},
   "outputs": [],
   "source": [
    "npg_dict"
   ]
  },
  {
   "cell_type": "code",
   "execution_count": null,
   "metadata": {},
   "outputs": [],
   "source": [
    "#npg Count\n",
    "main_key2 = []\n",
    "key2 = dd[0]\n",
    "for cit in city_cat_2:\n",
    "    for wrd in dd:\n",
    "        if wrd.find(\"{}_median_sale_value_per_outlet\".format(cit))!=-1:\n",
    "            key = \"{}_median_sale_value_per_outlet\".format(cit)\n",
    "        else:\n",
    "            pass\n",
    "    typ_list = final_dict[key].iloc[:,0:1]\n",
    "    typ_list1 = typ_list.values.tolist()\n",
    "    rows = [item for x in typ_list1 for item in x]\n",
    "    for x in rows:\n",
    "        if x.find('low')!=-1:\n",
    "\n",
    "            main_key.append(x)\n",
    "        else:\n",
    "            pass\n",
    "med_val_dict={}\n",
    "for cit in city_cat_2:\n",
    "    for key in main_key:\n",
    "        temp_ = final_dict[\"{}_median_sale_value_per_outlet\".format(cit)]\n",
    "        temp1 = temp_.loc[temp_['median sale value per outlet']==key]\n",
    "        temp1List = temp1.iloc[0].values.tolist()\n",
    "        temp1List.pop(0)\n",
    "        av = np.ceil(sum(temp1List)/7)\n",
    "        if av==1:\n",
    "            av+=1\n",
    "        med_val_dict[\"{}_{}\".format(cit,key)]=av"
   ]
  },
  {
   "cell_type": "code",
   "execution_count": null,
   "metadata": {},
   "outputs": [],
   "source": [
    "med_val_dict"
   ]
  },
  {
   "cell_type": "code",
   "execution_count": null,
   "metadata": {},
   "outputs": [],
   "source": [
    "box_dict = {}\n",
    "i=0"
   ]
  },
  {
   "cell_type": "code",
   "execution_count": null,
   "metadata": {},
   "outputs": [],
   "source": [
    "low_part_df.isna().any()"
   ]
  },
  {
   "cell_type": "code",
   "execution_count": null,
   "metadata": {},
   "outputs": [],
   "source": []
  },
  {
   "cell_type": "code",
   "execution_count": null,
   "metadata": {},
   "outputs": [],
   "source": [
    "loc=0\n",
    "st_end = merged_df.shape[0]\n",
    "low_dict_2={}\n",
    "for cit in city_cat_2:\n",
    "    for r in re_2:\n",
    "        temp = low_part_df[loc:st_end]\n",
    "        low_dict_2[\"{}_{}\".format(cit,r)]=temp\n",
    "        loc+=merged_df.shape[0]\n",
    "        st_end+=merged_df.shape[0]\n",
    "        \n",
    "        "
   ]
  },
  {
   "cell_type": "code",
   "execution_count": null,
   "metadata": {},
   "outputs": [],
   "source": [
    "low_dict_2.keys()"
   ]
  },
  {
   "cell_type": "code",
   "execution_count": null,
   "metadata": {},
   "outputs": [],
   "source": [
    "npg_dict"
   ]
  },
  {
   "cell_type": "code",
   "execution_count": null,
   "metadata": {},
   "outputs": [],
   "source": [
    "med_val_dict"
   ]
  },
  {
   "cell_type": "markdown",
   "metadata": {},
   "source": [
    "#slicing boxes "
   ]
  },
  {
   "cell_type": "code",
   "execution_count": null,
   "metadata": {},
   "outputs": [],
   "source": [
    "low_dict_3={}\n",
    "for key in low_dict_2.keys():\n",
    "    #df = low_dict_2[key]\n",
    "    temp = low_dict_2[key].sort_values('Ranked Index')\n",
    "    print(key)\n",
    "    l =list(npg_dict.keys())\n",
    "    for e in l:\n",
    "        if e.find(key)!=-1:\n",
    "            new_val = int(npg_dict[e])\n",
    "            break\n",
    "        else:\n",
    "            pass\n",
    "    tempn= temp[:new_val]\n",
    "    low_dict_3[\"{}\".format(key)]=tempn\n",
    "    print(new_val)"
   ]
  },
  {
   "cell_type": "code",
   "execution_count": null,
   "metadata": {},
   "outputs": [],
   "source": [
    "low_dict_3.keys()"
   ]
  },
  {
   "cell_type": "code",
   "execution_count": null,
   "metadata": {},
   "outputs": [],
   "source": [
    "low_dict_3['TRIVANDRUM_MS'].columns"
   ]
  },
  {
   "cell_type": "code",
   "execution_count": null,
   "metadata": {},
   "outputs": [],
   "source": [
    "low_dict_4 = {}\n",
    "for key in low_dict_3.keys():\n",
    "    \n",
    "    temp = low_dict_3[key]\n",
    "    temp1 = temp.filter(['NPG', 'City', 'RE','Index','Ranked Index','KPI-1 AvgRetPart','KPI-2 AvgSales','KPI-3 AvgSlQty','KPI- PPQAvg'])\n",
    "    temp1.reset_index(inplace=True)\n",
    "    temp1 = temp1.drop(['index'],axis=1)\n",
    "    act_val = []\n",
    "    for iter_ in range(temp1.shape[0]):\n",
    "        xtmp = (temp1['KPI-1 AvgRetPart'][iter_]*temp1['KPI-2 AvgSales'][iter_])/100\n",
    "        act_val.append(xtmp)\n",
    "    temp1['Actual_value'] = act_val\n",
    "    act_sum = sum(temp1['Actual_value'].values)\n",
    "    val_con = []\n",
    "    for iter_ in range(temp1.shape[0]):\n",
    "        vtmp = (temp1['Actual_value'][iter_]/act_sum)*100\n",
    "        val_con.append(vtmp)\n",
    "    temp1['SalesPartPerc%'] = val_con\n",
    "    low_dict_4[\"{}\".format(key)]= temp1\n",
    "    \n",
    "    \n",
    "        \n",
    "    "
   ]
  },
  {
   "cell_type": "code",
   "execution_count": null,
   "metadata": {},
   "outputs": [],
   "source": [
    "low_dict_4.keys()"
   ]
  },
  {
   "cell_type": "code",
   "execution_count": null,
   "metadata": {},
   "outputs": [],
   "source": [
    "low_dict_4['TRISSUR_GS'].isna()"
   ]
  },
  {
   "cell_type": "code",
   "execution_count": null,
   "metadata": {},
   "outputs": [],
   "source": [
    "med_val_dict"
   ]
  },
  {
   "cell_type": "code",
   "execution_count": null,
   "metadata": {},
   "outputs": [],
   "source": [
    "low_dict_5={}\n",
    "iter_ = 0\n",
    "for key in low_dict_4.keys():\n",
    "    print(key)\n",
    "    temp = low_dict_4[key]\n",
    "    contribution = []\n",
    "    ll = list(med_val_dict.keys())\n",
    "    for k in ll:\n",
    "        if k.find(key)!=-1:\n",
    "            new_val = med_val_dict[k]\n",
    "            break\n",
    "        else:\n",
    "            pass\n",
    "    \n",
    "    print(new_val)\n",
    "    for i in range(temp.shape[0]):\n",
    "        ctmp = (temp['SalesPartPerc%'][i]*new_val)/100\n",
    "        contribution.append(ctmp)\n",
    "    temp['normalisedSale'] = contribution\n",
    "    low_dict_5[\"{}\".format(key)]= temp\n",
    "    iter_ +=1\n",
    "        \n",
    "    \n",
    "    "
   ]
  },
  {
   "cell_type": "code",
   "execution_count": null,
   "metadata": {},
   "outputs": [],
   "source": [
    "import math"
   ]
  },
  {
   "cell_type": "code",
   "execution_count": null,
   "metadata": {},
   "outputs": [],
   "source": [
    "low_dict_6={}\n",
    "iter_ = 0\n",
    "for key in low_dict_5.keys():\n",
    "    low_dict_5[key].fillna(method='bfill',inplace=True)\n",
    "    temp = low_dict_5[key]\n",
    "    ct1 = []\n",
    "    print(key)\n",
    "    for i in range(temp.shape[0]):\n",
    "        ctmp = np.ceil(temp['normalisedSale'][i]/temp['KPI- PPQAvg'][i])\n",
    "        #print(ctmp)\n",
    "        if(ctmp%3!=0 and ctmp>1):\n",
    "            val=ctmp%3\n",
    "            ctmp=ctmp-val\n",
    "        if ctmp==0:\n",
    "            ctmp+=1\n",
    "            \n",
    "        ct1.append(ctmp)\n",
    "    \n",
    "    temp['Quantity'] = ct1\n",
    "    print(ct1)\n",
    "    low_dict_6[\"{}\".format(key)]= temp\n",
    "    iter_ +=1\n",
    "\n",
    "        \n",
    "    \n",
    "    "
   ]
  },
  {
   "cell_type": "code",
   "execution_count": null,
   "metadata": {},
   "outputs": [],
   "source": []
  },
  {
   "cell_type": "code",
   "execution_count": null,
   "metadata": {},
   "outputs": [],
   "source": [
    "low_dict_6.keys()"
   ]
  },
  {
   "cell_type": "code",
   "execution_count": null,
   "metadata": {},
   "outputs": [],
   "source": [
    "low_dict_6['TRIVANDRUM_MS']"
   ]
  },
  {
   "cell_type": "markdown",
   "metadata": {},
   "source": [
    "Sale Value calculation\n"
   ]
  },
  {
   "cell_type": "markdown",
   "metadata": {},
   "source": [
    "Sales Amount"
   ]
  },
  {
   "cell_type": "code",
   "execution_count": null,
   "metadata": {},
   "outputs": [],
   "source": [
    "low_dict_7={}\n",
    "iter_ = 0\n",
    "for key in low_dict_6.keys():\n",
    "    temp = low_dict_6[key]\n",
    "    ct = []\n",
    "    for i in range(temp.shape[0]):\n",
    "        ctmp = np.ceil(temp['Quantity'][i]*temp['KPI- PPQAvg'][i])\n",
    "        ct.append(ctmp)\n",
    "    temp['SaleVAmt'] = ct\n",
    "    iter_ +=1\n",
    "    low_dict_7[\"{}\".format(key)]= temp\n",
    "    iter_ +=1   \n",
    "    \n",
    "    "
   ]
  },
  {
   "cell_type": "code",
   "execution_count": null,
   "metadata": {},
   "outputs": [],
   "source": [
    "low_dict_7['TRIVANDRUM_MS']"
   ]
  },
  {
   "cell_type": "code",
   "execution_count": null,
   "metadata": {},
   "outputs": [],
   "source": [
    "ll = list(med_val_dict.keys())\n",
    "for key in low_dict_7.keys():\n",
    "    temp = low_dict_7[key]\n",
    "    for l in ll:\n",
    "        if l.find(key)!=-1:\n",
    "            new_val = med_val_dict[l]\n",
    "    sum_ = temp['SaleVAmt'].sum()\n",
    "    if sum_ - new_val >0:\n",
    "        pass\n",
    "    else:\n",
    "        print(new_val)\n",
    "        print(new_val -sum_)\n",
    "        templ = list(temp['KPI-1 AvgRetPart'])\n",
    "        ind = templ.index(max(templ))\n",
    "        diff = new_val-sum_\n",
    "        needed = 15*(new_val)/100\n",
    "        num = np.ceil(needed/temp['KPI- PPQAvg'][ind])\n",
    "        num = np.ceil(num/3)*3\n",
    "        print(num)\n",
    "        low_dict_7[key]['Quantity'][ind]=int(low_dict_7[key]['Quantity'][ind])+num\n",
    "    \n",
    "    \n",
    "        \n",
    "    \n",
    "    "
   ]
  },
  {
   "cell_type": "code",
   "execution_count": null,
   "metadata": {},
   "outputs": [],
   "source": [
    "low_dict_8={}\n",
    "iter_ = 0\n",
    "for key in low_dict_7.keys():\n",
    "    temp = low_dict_7[key]\n",
    "    ct = []\n",
    "    for i in range(temp.shape[0]):\n",
    "        ctmp = np.ceil(temp['Quantity'][i]*temp['KPI- PPQAvg'][i])\n",
    "        ct.append(ctmp)\n",
    "    temp['SaleVAmt'] = ct\n",
    "    iter_ +=1\n",
    "    low_dict_8[\"{}\".format(key)]= temp\n",
    "    iter_ +=1   \n",
    "    \n",
    "    "
   ]
  },
  {
   "cell_type": "markdown",
   "metadata": {},
   "source": [
    "Sale Contribution"
   ]
  },
  {
   "cell_type": "code",
   "execution_count": null,
   "metadata": {},
   "outputs": [],
   "source": [
    "\n",
    "low_dict_9={}\n",
    "iter_ = 0\n",
    "for key in low_dict_8.keys():\n",
    "    temp = low_dict_8[key]\n",
    "    sum_ = temp['SaleVAmt'].values.sum()\n",
    "    print(sum_)\n",
    "    ct = []\n",
    "    for i in range(temp.shape[0]):\n",
    "        ctmp = (temp['SaleVAmt'][i]/sum_)*100\n",
    "        ct.append(ctmp)\n",
    "    temp['SaleContribution'] = ct\n",
    "    low_dict_9[\"{}\".format(key)]= temp\n",
    "    iter_ +=1\n",
    "        \n",
    "    \n",
    "    "
   ]
  },
  {
   "cell_type": "code",
   "execution_count": null,
   "metadata": {},
   "outputs": [],
   "source": [
    "low_dict_8.keys()"
   ]
  },
  {
   "cell_type": "code",
   "execution_count": null,
   "metadata": {},
   "outputs": [],
   "source": [
    "low_dict_8['TRIVANDRUM_MS']"
   ]
  },
  {
   "cell_type": "code",
   "execution_count": null,
   "metadata": {},
   "outputs": [],
   "source": [
    "med_val_dict"
   ]
  },
  {
   "cell_type": "code",
   "execution_count": null,
   "metadata": {},
   "outputs": [],
   "source": [
    "final_low_box = pd.DataFrame()"
   ]
  },
  {
   "cell_type": "code",
   "execution_count": null,
   "metadata": {},
   "outputs": [],
   "source": [
    "for key in low_dict_8.keys():\n",
    "    final_low_box = final_low_box.append(low_dict_8[key])\n",
    "    \n",
    "\n"
   ]
  },
  {
   "cell_type": "code",
   "execution_count": null,
   "metadata": {},
   "outputs": [],
   "source": [
    "final_low_box.fillna(0,inplace=True)"
   ]
  },
  {
   "cell_type": "code",
   "execution_count": null,
   "metadata": {},
   "outputs": [],
   "source": [
    "final_low_box = final_low_box.filter(['NPG','City','RE','Quantity','SaleVAmt','KPI- PPQAvg','SaleContribution'])"
   ]
  },
  {
   "cell_type": "code",
   "execution_count": null,
   "metadata": {},
   "outputs": [],
   "source": [
    "final_low_box"
   ]
  }
 ],
 "metadata": {
  "kernelspec": {
   "display_name": "Python 3",
   "language": "python",
   "name": "python3"
  },
  "language_info": {
   "codemirror_mode": {
    "name": "ipython",
    "version": 3
   },
   "file_extension": ".py",
   "mimetype": "text/x-python",
   "name": "python",
   "nbconvert_exporter": "python",
   "pygments_lexer": "ipython3",
   "version": "3.7.7"
  }
 },
 "nbformat": 4,
 "nbformat_minor": 2
}
