{
 "cells": [
  {
   "cell_type": "code",
   "execution_count": 1496,
   "metadata": {},
   "outputs": [],
   "source": [
    "import pandas as pd\n",
    "import numpy as np \n",
    "import matplotlib.pyplot as plt\n",
    "%matplotlib inline"
   ]
  },
  {
   "cell_type": "code",
   "execution_count": 1497,
   "metadata": {},
   "outputs": [],
   "source": [
    "data_1_sheet_kmg = pd.read_excel(r\"C:\\Users\\samen\\datasheet1.xlsx\",sheet_name=\"GS-KS-MS data sheet 1\")"
   ]
  },
  {
   "cell_type": "code",
   "execution_count": 1498,
   "metadata": {},
   "outputs": [],
   "source": [
    "try:\n",
    "    data_1_sheet_kmg.drop('Outlet tagging',axis=1,inplace=True)\n",
    "except:\n",
    "    pass"
   ]
  },
  {
   "cell_type": "code",
   "execution_count": 1499,
   "metadata": {},
   "outputs": [],
   "source": [
    "data_1_sheet_kmg=pd.DataFrame(data_1_sheet_kmg)"
   ]
  },
  {
   "cell_type": "code",
   "execution_count": 1500,
   "metadata": {},
   "outputs": [
    {
     "data": {
      "text/plain": [
       "(22193, 9)"
      ]
     },
     "execution_count": 1500,
     "metadata": {},
     "output_type": "execute_result"
    }
   ],
   "source": [
    "data_1_sheet_kmg.shape"
   ]
  },
  {
   "cell_type": "markdown",
   "metadata": {},
   "source": [
    "# KPI BEGIN"
   ]
  },
  {
   "cell_type": "code",
   "execution_count": 1502,
   "metadata": {},
   "outputs": [],
   "source": [
    "city_category = list(data_1_sheet_kmg['city'].unique())\n",
    "city_category\n",
    "len_city_category = len(city_category)"
   ]
  },
  {
   "cell_type": "code",
   "execution_count": 1503,
   "metadata": {},
   "outputs": [],
   "source": [
    "len_customer = len(data_1_sheet_kmg['customer'].unique())"
   ]
  },
  {
   "cell_type": "code",
   "execution_count": 1504,
   "metadata": {},
   "outputs": [
    {
     "data": {
      "text/plain": [
       "['TRIVANDRUM', 'TRISSUR']"
      ]
     },
     "execution_count": 1504,
     "metadata": {},
     "output_type": "execute_result"
    }
   ],
   "source": [
    "city_category"
   ]
  },
  {
   "cell_type": "code",
   "execution_count": 1505,
   "metadata": {},
   "outputs": [],
   "source": [
    "re = list(data_1_sheet_kmg['re'].unique())"
   ]
  },
  {
   "cell_type": "code",
   "execution_count": 1506,
   "metadata": {},
   "outputs": [
    {
     "data": {
      "text/plain": [
       "['MS', 'KS', 'GS']"
      ]
     },
     "execution_count": 1506,
     "metadata": {},
     "output_type": "execute_result"
    }
   ],
   "source": [
    "re\n"
   ]
  },
  {
   "cell_type": "code",
   "execution_count": 1507,
   "metadata": {},
   "outputs": [],
   "source": [
    "i=0\n",
    "count=0\n",
    "name=\"dataframe_new\""
   ]
  },
  {
   "cell_type": "code",
   "execution_count": 1508,
   "metadata": {},
   "outputs": [],
   "source": [
    "d={}"
   ]
  },
  {
   "cell_type": "code",
   "execution_count": null,
   "metadata": {},
   "outputs": [],
   "source": []
  },
  {
   "cell_type": "code",
   "execution_count": 1512,
   "metadata": {},
   "outputs": [
    {
     "name": "stdout",
     "output_type": "stream",
     "text": [
      "re=MS running\n",
      "here\n",
      "0\n",
      "re=KS running\n",
      "here\n",
      "1\n",
      "re=GS running\n",
      "here\n",
      "2\n",
      "re=MS running\n",
      "here\n",
      "0\n",
      "re=KS running\n",
      "here\n",
      "1\n",
      "re=GS running\n",
      "here\n",
      "2\n"
     ]
    }
   ],
   "source": [
    "for c in city_category:\n",
    "    sheet_1_tvm = data_1_sheet_kmg[data_1_sheet_kmg['city']==c]\n",
    "    for i in range(len(re)):\n",
    "        print(\"re=\" + re[i]+ str(' running'))\n",
    "        \n",
    "        tvm_ks = sheet_1_tvm[sheet_1_tvm['re']==re[i]]\n",
    "        tvm_ks_customer = list(tvm_ks['customer'].unique())\n",
    "        month_cat = list(tvm_ks['mth'].unique())\n",
    "        sum_df = []\n",
    "        sum_ppg=[]\n",
    "        call_sum = []\n",
    "        cat = []\n",
    "        #print(tvm_ks['mth'])\n",
    "        #mth=[]\n",
    "        m=[]\n",
    "        m_df = pd.DataFrame(columns=month_cat)\n",
    "        \n",
    "        for k in tvm_ks_customer:\n",
    "            sum_df.append(int(round(tvm_ks.loc[tvm_ks['customer']==k,'sales_value'].sum())))\n",
    "            sum_ppg.append(tvm_ks.loc[tvm_ks['customer']==k,'uniq_npg'].sum())\n",
    "            call_sum.append(tvm_ks.loc[tvm_ks['customer']==k,'invoices'].sum())\n",
    "            for mt in month_cat:\n",
    "                mth=tvm_ks.loc[(tvm_ks['mth']==mt) &(tvm_ks['customer']==k),'sales_value'].sum()\n",
    "                #m[\"{}\".format(mt)]=mth\n",
    "                m.append(mth)\n",
    "            m=pd.Series(m,index=m_df.columns)\n",
    "            m_df = m_df.append(m,ignore_index=True)\n",
    "            m=[]\n",
    "            month_cat = list(tvm_ks['mth'].unique())\n",
    "            #m_sum_t = \n",
    "            \n",
    "                \n",
    "                #print(mth)\n",
    "                #quit()\n",
    "                \n",
    "        tvm_ks_final = pd.DataFrame()\n",
    "        #print(c)\n",
    "        tvm_ks_final['customer'] = tvm_ks_customer\n",
    "        city = [str(c) for i in range(tvm_ks_final.shape[0])]\n",
    "        tvm_ks_final['City'] = city\n",
    "        \n",
    "        tvm_ks_final['sum_of_sales_value'] = sum_df\n",
    "        print(\"here\")\n",
    "        print(i)\n",
    "        tvm_ks_final['re'] = str(re[i])\n",
    "        sum_ppg = [round(x/7,2) for x in sum_ppg ]\n",
    "        tvm_ks_final['Total unique PPGs/7'] = sum_ppg\n",
    "        call_sum = [round(x/7,2) for x in call_sum]\n",
    "        tvm_ks_final['Total no. of calls/7'] = call_sum\n",
    "        tvm_ks_final['Percentile_rank']=round(tvm_ks_final['sum_of_sales_value'].rank(pct=True),2)\n",
    "        #tvm_ks_final['months']=mth\n",
    "        new_list = tvm_ks_final['Percentile_rank'].to_list()\n",
    "        for x in new_list:\n",
    "            if x<=0.3:\n",
    "                cat.append('low')\n",
    "            elif x>0.3 and x<0.7:\n",
    "                cat.append('medium')\n",
    "            else:\n",
    "                cat.append('high')\n",
    "\n",
    "        tvm_ks_final['category'] = cat\n",
    "        tvm_ks_final = pd.concat([tvm_ks_final,m_df],axis=1)\n",
    "        d[\"{}_{}\".format(c,re[i])]=pd.DataFrame(tvm_ks_final)\n",
    "        count+=1\n",
    "        d[\"{}_{}\".format(c,re[i])].fillna(0,inplace=True)\n",
    "        \n",
    "        #pd.concat([df3, df4], axis='col')\n",
    "        \n",
    "        \n",
    "        \n",
    "    \n",
    "    #pd.DataFrame(tvm_ks_final)\n",
    "    \n",
    "   \n",
    "    \n",
    "    \n",
    "    \n",
    "\n",
    "    \n",
    "    "
   ]
  },
  {
   "cell_type": "code",
   "execution_count": 1513,
   "metadata": {},
   "outputs": [],
   "source": [
    "month_cat = list(tvm_ks['mth'].unique())"
   ]
  },
  {
   "cell_type": "code",
   "execution_count": 1514,
   "metadata": {},
   "outputs": [
    {
     "data": {
      "text/plain": [
       "[8, 12, 9, 1, 2, 11, 10]"
      ]
     },
     "execution_count": 1514,
     "metadata": {},
     "output_type": "execute_result"
    }
   ],
   "source": [
    "month_cat"
   ]
  },
  {
   "cell_type": "code",
   "execution_count": 1515,
   "metadata": {},
   "outputs": [],
   "source": [
    "#tvm_ks_final"
   ]
  },
  {
   "cell_type": "code",
   "execution_count": 1516,
   "metadata": {},
   "outputs": [
    {
     "name": "stdout",
     "output_type": "stream",
     "text": [
      "The Keys Are :- \n",
      "use d[keyname to pick up  a dataframe]\n",
      "      \n",
      "TRIVANDRUM_MS\n",
      "TRIVANDRUM_KS\n",
      "TRIVANDRUM_GS\n",
      "TRISSUR_MS\n",
      "TRISSUR_KS\n",
      "TRISSUR_GS\n"
     ]
    }
   ],
   "source": [
    "keys_final= []\n",
    "print(\"The Keys Are :- \")\n",
    "print(\"use d[keyname to pick up  a dataframe]\")\n",
    "print(\"      \")\n",
    "for key in d.keys():\n",
    "    keys_final.append(key)\n",
    "    print(key)"
   ]
  },
  {
   "cell_type": "code",
   "execution_count": 1517,
   "metadata": {},
   "outputs": [
    {
     "data": {
      "text/plain": [
       "['TRIVANDRUM_MS',\n",
       " 'TRIVANDRUM_KS',\n",
       " 'TRIVANDRUM_GS',\n",
       " 'TRISSUR_MS',\n",
       " 'TRISSUR_KS',\n",
       " 'TRISSUR_GS']"
      ]
     },
     "execution_count": 1517,
     "metadata": {},
     "output_type": "execute_result"
    }
   ],
   "source": [
    "keys_final"
   ]
  },
  {
   "cell_type": "markdown",
   "metadata": {},
   "source": [
    "# MONTH DICT + JOINING OF OUTLET TAGGING"
   ]
  },
  {
   "cell_type": "code",
   "execution_count": 1520,
   "metadata": {},
   "outputs": [],
   "source": [
    "month_dict = {8:'aug',\n",
    "              9:'sep',\n",
    "              10:'oct',\n",
    "              11:'nov',\n",
    "              12:'dec',\n",
    "              1:'jan',\n",
    "              2:'feb',\n",
    "              3:'mar',\n",
    "              4:'april',\n",
    "              5:'may',\n",
    "              6:'jun',\n",
    "              7:'july'\n",
    "}"
   ]
  },
  {
   "cell_type": "code",
   "execution_count": 1521,
   "metadata": {},
   "outputs": [],
   "source": [
    "cat_sheet =pd.DataFrame() #category of unique values ! "
   ]
  },
  {
   "cell_type": "code",
   "execution_count": 1522,
   "metadata": {},
   "outputs": [],
   "source": [
    "for di in keys_final:\n",
    "    new = d[di][['customer','category']]\n",
    "    cat_sheet = cat_sheet.append(new)\n",
    "# setting a dictionary !     "
   ]
  },
  {
   "cell_type": "code",
   "execution_count": 1523,
   "metadata": {},
   "outputs": [
    {
     "data": {
      "text/plain": [
       "True"
      ]
     },
     "execution_count": 1523,
     "metadata": {},
     "output_type": "execute_result"
    }
   ],
   "source": [
    "cat_sheet.shape[0]==len(data_1_sheet_kmg['customer'].unique()) #testing shapes of unqiue value ! \n"
   ]
  },
  {
   "cell_type": "code",
   "execution_count": 1524,
   "metadata": {},
   "outputs": [],
   "source": [
    "cat_dict  = dict(zip(cat_sheet['customer'],cat_sheet['category'])) #creating Dict for values to apply to main dataset ! "
   ]
  },
  {
   "cell_type": "code",
   "execution_count": 1525,
   "metadata": {},
   "outputs": [],
   "source": [
    "data_1_sheet_kmg['category'] = data_1_sheet_kmg['customer'].map(cat_dict)\n",
    "#setting the values back to the table!!!"
   ]
  },
  {
   "cell_type": "code",
   "execution_count": 1528,
   "metadata": {},
   "outputs": [],
   "source": [
    "final_dict={} #empty dict to create and store the needed tables , since we dont know how many might come in! "
   ]
  },
  {
   "cell_type": "markdown",
   "metadata": {},
   "source": [
    "# DIct and Adding Category Complete ! \n"
   ]
  },
  {
   "cell_type": "markdown",
   "metadata": {},
   "source": [
    "# Creating Final Set for DataSheet1 - Currently for TVM"
   ]
  },
  {
   "cell_type": "code",
   "execution_count": 1530,
   "metadata": {},
   "outputs": [],
   "source": [
    "bon = ['avg_sale_value_per_retailer','no_of_outlets','median_sale_value_per_outlet','avg_npgs_per_retailer','median_npgs_per_outlet','avg_no_of_calls_per_outlet','median_no_of_calls_per_outlet']\n",
    "# 7 value tables that are calculated"
   ]
  },
  {
   "cell_type": "code",
   "execution_count": 1531,
   "metadata": {},
   "outputs": [
    {
     "data": {
      "text/plain": [
       "['MS', 'KS', 'GS']"
      ]
     },
     "execution_count": 1531,
     "metadata": {},
     "output_type": "execute_result"
    }
   ],
   "source": [
    "re"
   ]
  },
  {
   "cell_type": "code",
   "execution_count": 1532,
   "metadata": {},
   "outputs": [
    {
     "data": {
      "text/plain": [
       "['TRIVANDRUM', 'TRISSUR']"
      ]
     },
     "execution_count": 1532,
     "metadata": {},
     "output_type": "execute_result"
    }
   ],
   "source": [
    "\n",
    "city_category"
   ]
  },
  {
   "cell_type": "markdown",
   "metadata": {},
   "source": [
    "No of Outlets "
   ]
  },
  {
   "cell_type": "code",
   "execution_count": 1533,
   "metadata": {},
   "outputs": [],
   "source": [
    "from statistics import median\n",
    "import numpy as np"
   ]
  },
  {
   "cell_type": "code",
   "execution_count": 1535,
   "metadata": {},
   "outputs": [],
   "source": [
    "category_valu = ['low','medium','high']"
   ]
  },
  {
   "cell_type": "code",
   "execution_count": 1536,
   "metadata": {},
   "outputs": [],
   "source": [
    "var_run=0"
   ]
  },
  {
   "cell_type": "code",
   "execution_count": 1537,
   "metadata": {},
   "outputs": [
    {
     "name": "stdout",
     "output_type": "stream",
     "text": [
      "(9, 8)\n",
      "(9, 8)\n",
      "(9, 8)\n",
      "(9, 8)\n",
      "(9, 8)\n",
      "(9, 8)\n",
      "(9, 8)\n",
      "empty Cells Created\n",
      "(9, 8)\n",
      "(9, 8)\n",
      "(9, 8)\n",
      "(9, 8)\n",
      "(9, 8)\n",
      "(9, 8)\n",
      "(9, 8)\n",
      "empty Cells Created\n"
     ]
    }
   ],
   "source": [
    "for c_name in city_category:\n",
    "    bcount=0\n",
    "    keys_final=[c_name+str(\"_\")+str(i) for i in re]\n",
    "    rows =[]\n",
    "    new_1 = []\n",
    "    final_df_1  = pd.DataFrame()\n",
    "    category_valu=['low','medium','high']\n",
    "       \n",
    "    #Need 7 outputs ! \n",
    "\n",
    "    #avg sale value per retailer\n",
    "    for x in re:\n",
    "        column1='avg sale per retailer'\n",
    "        columns = [month_dict[m] for m in month_cat]\n",
    "        new_1.append(str(x)+\"_\"+'low')\n",
    "        new_1.append(str(x)+\"_\"+'mid')\n",
    "        new_1.append(str(x)+\"_\"+'high')\n",
    "        #new_1.append(str(x)+\"_\"+'overall')\n",
    "        rows.append(new_1)\n",
    "        new_1=[]\n",
    "    rows = [item for sublist in rows for item in sublist] #flattening the list of list\n",
    "    #df.insert(0,'name_of_column',value)   \n",
    "    final_df_1 = pd.DataFrame(columns = columns)\n",
    "    final_df_1.insert(0,column1,rows)\n",
    "    rows=[]\n",
    "    print(final_df_1.shape)\n",
    "\n",
    "    #no of outlets    \n",
    "    for x in re:\n",
    "        column1='number of outlets'\n",
    "        columns = [month_dict[m] for m in month_cat]\n",
    "        new_1.append(str(x)+\"_\"+'low')\n",
    "        new_1.append(str(x)+\"_\"+'mid')\n",
    "        new_1.append(str(x)+\"_\"+'high')\n",
    "        #new_1.append(str(x)+\"_\"+'overall')\n",
    "        rows.append(new_1)\n",
    "        new_1=[]\n",
    "    rows = [item for sublist in rows for item in sublist] #flattening the list of list\n",
    "    #df.insert(0,'name_of_column',value)   \n",
    "    final_df_2 = pd.DataFrame(columns = columns)\n",
    "    final_df_2.insert(0,column1,rows)\n",
    "    rows=[]\n",
    "\n",
    "    print(final_df_2.shape)\n",
    "\n",
    "    #median sale value per outlet\n",
    "    for x in re:\n",
    "        column1='median sale value per outlet'\n",
    "        columns = [month_dict[m] for m in month_cat]\n",
    "        new_1.append(str(x)+\"_\"+'low')\n",
    "        new_1.append(str(x)+\"_\"+'mid')\n",
    "        new_1.append(str(x)+\"_\"+'high')\n",
    "        #new_1.append(str(x)+\"_\"+'overall')\n",
    "        rows.append(new_1)\n",
    "        new_1=[]\n",
    "    rows = [item for sublist in rows for item in sublist] #flattening the list of list\n",
    "    #df.insert(0,'name_of_column',value)   \n",
    "    final_df_3 = pd.DataFrame(columns = columns)\n",
    "    final_df_3.insert(0,column1,rows)\n",
    "    rows=[]\n",
    "    print(final_df_3.shape)\n",
    "\n",
    "\n",
    "    #avg npgs per retailer\n",
    "    for x in re:\n",
    "        column1='avg npg per retailer'\n",
    "        columns = [month_dict[m] for m in month_cat]\n",
    "        new_1.append(str(x)+\"_\"+'low')\n",
    "        new_1.append(str(x)+\"_\"+'mid')\n",
    "        new_1.append(str(x)+\"_\"+'high')\n",
    "        #new_1.append(str(x)+\"_\"+'overall')\n",
    "        rows.append(new_1)\n",
    "        new_1=[]\n",
    "    rows = [item for sublist in rows for item in sublist] #flattening the list of list\n",
    "    #df.insert(0,'name_of_column',value)   \n",
    "    final_df_4 = pd.DataFrame(columns = columns)\n",
    "    final_df_4.insert(0,column1,rows)\n",
    "    rows=[]\n",
    "    print(final_df_4.shape)\n",
    "\n",
    "\n",
    "\n",
    "\n",
    "    #median npgs per outlet\n",
    "    for x in re:\n",
    "        column1='median npg per outlet'\n",
    "        columns = [month_dict[m] for m in month_cat]\n",
    "        new_1.append(str(x)+\"_\"+'low')\n",
    "        new_1.append(str(x)+\"_\"+'mid')\n",
    "        new_1.append(str(x)+\"_\"+'high')\n",
    "        #new_1.append(str(x)+\"_\"+'overall')\n",
    "        rows.append(new_1)\n",
    "        new_1=[]\n",
    "    rows = [item for sublist in rows for item in sublist] #flattening the list of list\n",
    "    #df.insert(0,'name_of_column',value)   \n",
    "    final_df_5 = pd.DataFrame(columns = columns)\n",
    "    final_df_5.insert(0,column1,rows)\n",
    "    rows=[]\n",
    "    print(final_df_5.shape)\n",
    "\n",
    "\n",
    "\n",
    "\n",
    "\n",
    "    #avg no of calls per outlet\n",
    "    for x in re:\n",
    "        column1='avg call per retailer'\n",
    "        columns = [month_dict[m] for m in month_cat]\n",
    "        new_1.append(str(x)+\"_\"+'low')\n",
    "        new_1.append(str(x)+\"_\"+'mid')\n",
    "        new_1.append(str(x)+\"_\"+'high')\n",
    "        #new_1.append(str(x)+\"_\"+'overall')\n",
    "        rows.append(new_1)\n",
    "        new_1=[]\n",
    "    rows = [item for sublist in rows for item in sublist] #flattening the list of list\n",
    "    #df.insert(0,'name_of_column',value)   \n",
    "    final_df_6 = pd.DataFrame(columns = columns)\n",
    "    final_df_6.insert(0,column1,rows)\n",
    "    rows=[]\n",
    "    print(final_df_6.shape)\n",
    "\n",
    "\n",
    "\n",
    "\n",
    "    #median no of calls per outlet\n",
    "    for x in re:\n",
    "        column1='median call per outlet'\n",
    "        columns = [month_dict[m] for m in month_cat]\n",
    "        new_1.append(str(x)+\"_\"+'low')\n",
    "        new_1.append(str(x)+\"_\"+'mid')\n",
    "        new_1.append(str(x)+\"_\"+'high')\n",
    "        #new_1.append(str(x)+\"_\"+'overall')\n",
    "        rows.append(new_1)\n",
    "        new_1=[]\n",
    "    rows = [item for sublist in rows for item in sublist] #flattening the list of list\n",
    "    #df.insert(0,'name_of_column',value)   \n",
    "    final_df_7 = pd.DataFrame(columns = columns)\n",
    "    final_df_7.insert(0,column1,rows)\n",
    "    rows=[]\n",
    "    print(final_df_7.shape)\n",
    "    print(\"empty Cells Created\")\n",
    "    \n",
    "    \n",
    "    \n",
    "    ##########################OUTPUT SECTION#########################################\n",
    "    #print(c)\n",
    "    #avg sale value per retailer\n",
    "    i=0\n",
    "    for k in keys_final:\n",
    "        #print(k)\n",
    "        for c in category_valu:\n",
    "            #print(c)\n",
    "            test = d[k].loc[d[k]['category']==c]\n",
    "            #print(test)\n",
    "\n",
    "            for m in month_cat:\n",
    "                #print(m)\n",
    "                len_ = len(test.loc[test[m]==0]) #finidng unadded values\n",
    "                nval = test[m].sum()/(test.shape[0]-len_)\n",
    "                #print(nval)\n",
    "                final_df_1[month_dict[m]][i]=nval\n",
    "                #print(i)\n",
    "                #i+=1\n",
    "            i+=1\n",
    "    final_df_1.fillna(method='bfill',inplace=True)\n",
    "    final_dict[\"{}_{}\".format(c_name,bon[bcount])]=pd.DataFrame(final_df_1)\n",
    "    bcount+=1\n",
    "\n",
    "    \n",
    "    \n",
    "    #no of outlets\n",
    "    i=0\n",
    "    for k in keys_final:\n",
    "        #print(k)\n",
    "        for c in category_valu:\n",
    "            #print(c)\n",
    "            test = d[k].loc[d[k]['category']==c]\n",
    "            #print(test)\n",
    "\n",
    "            for m in month_cat:\n",
    "                #print(m)\n",
    "                #len_ = len(test.loc[test[m]==0])\n",
    "                #print(len_)#finidng unadded values\n",
    "                nval = len(test.loc[test[m]!=0])\n",
    "                #print(nval)\n",
    "                final_df_2[month_dict[m]][i]=nval\n",
    "                #print(i)\n",
    "                #i+=1\n",
    "            i+=1\n",
    "    final_df_2.fillna(method='bfill',inplace=True)\n",
    "    final_dict[\"{}_{}\".format(c_name,bon[bcount])]=pd.DataFrame(final_df_2)\n",
    "    bcount+=1\n",
    "    \n",
    "    \n",
    "    #median sale value per outlet\n",
    "    i=0\n",
    "    for k in keys_final:\n",
    "        #print(k)\n",
    "        for c in category_valu:\n",
    "            #print(c)\n",
    "            test = d[k].loc[d[k]['category']==c]\n",
    "            #print(test)\n",
    "\n",
    "            for m in month_cat:\n",
    "               # print(m)\n",
    "                #len_ = len(test.loc[test[m]==0])\n",
    "                #print(len_)#finidng unadded values\n",
    "                new = test.loc[test[m]!=0]\n",
    "                nval =median(new[m])\n",
    "\n",
    "\n",
    "\n",
    "                #print(nval)\n",
    "                final_df_3[month_dict[m]][i]=nval\n",
    "                #print(i)\n",
    "                #i+=1\n",
    "            i+=1\n",
    "    final_df_3.fillna(method='bfill',inplace=True)\n",
    "    final_dict[\"{}_{}\".format(c_name,bon[bcount])]=pd.DataFrame(final_df_3)\n",
    "    bcount+=1\n",
    "    \n",
    "    \n",
    "    #avg npgs per retailer\n",
    "    import numpy as np\n",
    "    i=0\n",
    "    for k in keys_final:\n",
    "        #print(k)\n",
    "        for c in category_valu:\n",
    "            #print(c)\n",
    "            test = d[k].loc[d[k]['category']==c]\n",
    "            #print(test)\n",
    "\n",
    "            for m in month_cat:\n",
    "                #print(m)\n",
    "                #len_ = len(test.loc[test[m]==0])\n",
    "                #print(len_)#finidng unadded values\n",
    "                test1 = test.loc[test[m]!=0]\n",
    "                nval = np.ceil(test1['Total unique PPGs/7'].sum()/test.shape[0])\n",
    "                \n",
    "                #print(nval)\n",
    "                final_df_4[month_dict[m]][i]=nval\n",
    "                #print(i)\n",
    "                #i+=1\n",
    "            i+=1\n",
    "    final_df_4.fillna(method='bfill',inplace=True)\n",
    "    final_dict[\"{}_{}\".format(c_name,bon[bcount])]=pd.DataFrame(final_df_4)\n",
    "    bcount+=1\n",
    "\n",
    "    #median npgs per outlet\n",
    "    i=0\n",
    "    for k in keys_final:\n",
    "        #print(k)\n",
    "        for c in category_valu:\n",
    "            #print(c)\n",
    "            test = d[k].loc[d[k]['category']==c]\n",
    "            #print(test)\n",
    "\n",
    "            for m in month_cat:\n",
    "                #print(m)\n",
    "                #len_ = len(test.loc[test[m]==0])\n",
    "                #print(len_)#finidng unadded values\n",
    "                test1 = test.loc[test[m]!=0]\n",
    "                nval = np.ceil(median(test1['Total unique PPGs/7']))\n",
    "                \n",
    "\n",
    "                #print(nval)\n",
    "                final_df_5[month_dict[m]][i]=nval\n",
    "                #print(i)\n",
    "                #i+=1\n",
    "            i+=1\n",
    "    final_df_5.fillna(method='bfill',inplace=True)\n",
    "    final_dict[\"{}_{}\".format(c_name,bon[bcount])]=pd.DataFrame(final_df_5)\n",
    "    bcount+=1\n",
    "\n",
    "    #avg calls per retailer\n",
    "    import numpy as np\n",
    "    i=0\n",
    "    for k in keys_final:\n",
    "        #print(k)\n",
    "        for c in category_valu:\n",
    "            #print(c)\n",
    "            test = d[k].loc[d[k]['category']==c]\n",
    "            #print(test)\n",
    "\n",
    "            for m in month_cat:\n",
    "                #print(m)\n",
    "                #len_ = len(test.loc[test[m]==0])\n",
    "                #print(len_)#finidng unadded values\n",
    "                test1 = test.loc[test[m]!=0]\n",
    "                nval = np.ceil(test1['Total no. of calls/7'].sum()/test.shape[0])\n",
    "                #print(nval)\n",
    "                final_df_6[month_dict[m]][i]=nval\n",
    "                #print(i)\n",
    "                #i+=1\n",
    "            i+=1\n",
    "    final_df_6.fillna(method='bfill',inplace=True)\n",
    "    final_dict[\"{}_{}\".format(c_name,bon[bcount])]=pd.DataFrame(final_df_6)\n",
    "    bcount+=1\n",
    "    \n",
    "    #median calls per outlet\n",
    "    import numpy as np\n",
    "    i=0\n",
    "    for k in keys_final:\n",
    "        #print(k)\n",
    "        for c in category_valu:\n",
    "            #print(c)\n",
    "            test = d[k].loc[d[k]['category']==c]\n",
    "            #print(test)\n",
    "\n",
    "            for m in month_cat:\n",
    "                #print(m)\n",
    "                #len_ = len(test.loc[test[m]==0])\n",
    "                #print(len_)#finidng unadded values\n",
    "                test1 = test.loc[test[m]!=0]\n",
    "                nval = round(median(test1['Total no. of calls/7']))\n",
    "\n",
    "                #print(nval)\n",
    "                final_df_7[month_dict[m]][i]=nval\n",
    "                #print(i)\n",
    "                #i+=1\n",
    "            i+=1\n",
    "    final_df_7.fillna(method='bfill',inplace=True)\n",
    "    final_dict[\"{}_{}\".format(c_name,bon[bcount])]=pd.DataFrame(final_df_7)\n",
    "    bcount+=1\n",
    "  "
   ]
  },
  {
   "cell_type": "code",
   "execution_count": 1562,
   "metadata": {},
   "outputs": [],
   "source": [
    "#Creating a list of keys for the firts one ! \n",
    "\n",
    "sheet1_dict =[]\n",
    "sheet1_dict = [x for x in final_dict.keys()]"
   ]
  },
  {
   "cell_type": "code",
   "execution_count": 1564,
   "metadata": {},
   "outputs": [],
   "source": [
    "data_2_sheet_kmg = pd.read_excel(r\"C:\\Users\\samen\\datasheet2.xlsx\",sheet_name=\"Data sheet 2\")"
   ]
  },
  {
   "cell_type": "code",
   "execution_count": 1565,
   "metadata": {},
   "outputs": [],
   "source": [
    "data_2_sheet_kmg=pd.DataFrame(data_2_sheet_kmg)"
   ]
  },
  {
   "cell_type": "code",
   "execution_count": 2118,
   "metadata": {},
   "outputs": [],
   "source": [
    "try:\n",
    "    data_2_sheet_kmg.drop('Outlet tagging',axis=1,inplace=True)\n",
    "    data_2_sheet_kmg.drop(['TRIVANDRUM|GS PPG flag','TRIVANDRUM|KS PPG flag','TRIVANDRUM|MS PPG flag','TRISSUR|GS PPG flag','TRISSUR|KS PPG flag','TRISSUR|MS PPG flag'],axis=1,inplace=True)\n",
    "except:\n",
    "    pass"
   ]
  },
  {
   "cell_type": "code",
   "execution_count": 2120,
   "metadata": {},
   "outputs": [],
   "source": [
    "product_dict = {}"
   ]
  },
  {
   "cell_type": "code",
   "execution_count": 2121,
   "metadata": {},
   "outputs": [],
   "source": [
    "product_dict  = dict(zip(data_2_sheet_kmg['npg_code'],data_2_sheet_kmg['npg_desc'])) #product Dictionary"
   ]
  },
  {
   "cell_type": "code",
   "execution_count": 2123,
   "metadata": {},
   "outputs": [],
   "source": [
    "npg_list= [x for x in product_dict.keys()]\n"
   ]
  },
  {
   "cell_type": "code",
   "execution_count": 2125,
   "metadata": {},
   "outputs": [],
   "source": [
    "data_2_sheet_kmg['category'] = data_2_sheet_kmg['customer'].map(cat_dict) # applying outlet tagging ! "
   ]
  },
  {
   "cell_type": "code",
   "execution_count": 2126,
   "metadata": {},
   "outputs": [],
   "source": [
    "city_cat_2 = list(data_2_sheet_kmg['city'].unique())"
   ]
  },
  {
   "cell_type": "code",
   "execution_count": 2127,
   "metadata": {},
   "outputs": [],
   "source": [
    "re_2 = list(data_2_sheet_kmg['re'].unique())"
   ]
  },
  {
   "cell_type": "code",
   "execution_count": 2129,
   "metadata": {},
   "outputs": [],
   "source": [
    "re_2_dict = {}"
   ]
  },
  {
   "cell_type": "code",
   "execution_count": 2130,
   "metadata": {},
   "outputs": [],
   "source": [
    "daf_2 = pd.DataFrame(data_2_sheet_kmg.loc[(data_2_sheet_kmg['re']=='MS') & (data_2_sheet_kmg['city']=='TRISSUR')])\n",
    "    "
   ]
  },
  {
   "cell_type": "markdown",
   "metadata": {},
   "source": [
    "Initial splits on first tree of city's then on the basis of different Re's for each and adding them to a dictionary"
   ]
  },
  {
   "cell_type": "code",
   "execution_count": 2131,
   "metadata": {},
   "outputs": [],
   "source": [
    "for city in city_cat_2:\n",
    "    for r in re_2:\n",
    "        daf_2 = pd.DataFrame(data_2_sheet_kmg.loc[(data_2_sheet_kmg['re']==r)& (data_2_sheet_kmg['city']==city)])\n",
    "        re_2_dict['{}_{}'.format(city,r)]=pd.DataFrame(daf_2)\n",
    "#Dictionary basedd on city+re splits with entire data!         "
   ]
  },
  {
   "cell_type": "code",
   "execution_count": 2132,
   "metadata": {},
   "outputs": [],
   "source": [
    "re_2_keys=[]"
   ]
  },
  {
   "cell_type": "code",
   "execution_count": 2133,
   "metadata": {},
   "outputs": [
    {
     "data": {
      "text/plain": [
       "['TRIVANDRUM_MS',\n",
       " 'TRIVANDRUM_KS',\n",
       " 'TRIVANDRUM_GS',\n",
       " 'TRIVANDRUM_WS',\n",
       " 'TRIVANDRUM_MT',\n",
       " 'TRIVANDRUM_CS',\n",
       " 'TRIVANDRUM_PS',\n",
       " 'TRISSUR_MS',\n",
       " 'TRISSUR_KS',\n",
       " 'TRISSUR_GS',\n",
       " 'TRISSUR_WS',\n",
       " 'TRISSUR_MT',\n",
       " 'TRISSUR_CS',\n",
       " 'TRISSUR_PS']"
      ]
     },
     "execution_count": 2133,
     "metadata": {},
     "output_type": "execute_result"
    }
   ],
   "source": [
    "for key in re_2_dict.keys():\n",
    "    re_2_keys.append(key)\n",
    "re_2_keys"
   ]
  },
  {
   "cell_type": "markdown",
   "metadata": {},
   "source": [
    "Extraction process for sales value"
   ]
  },
  {
   "cell_type": "code",
   "execution_count": 2178,
   "metadata": {},
   "outputs": [],
   "source": [
    "sale_dict = {}\n"
   ]
  },
  {
   "cell_type": "code",
   "execution_count": 2179,
   "metadata": {},
   "outputs": [],
   "source": [
    "for rk in re_2_keys:\n",
    "    temp =re_2_dict[rk]\n",
    "    temp = temp.dropna()\n",
    "    #npg_list = list(temp['npg_code'].values)\n",
    "    rows = npg_list\n",
    "    columns = [str(rk)+'01',str(rk)+'02',str(rk)+'03',str(rk)+'04',str(rk)+'05',str(rk)+'06',str(rk)+'07']\n",
    "    column1 = 'sale_dict-npg'\n",
    "    model = pd.DataFrame(columns=columns)\n",
    "    model.insert(0,column1,rows)\n",
    "    i=0\n",
    "    for ni in npg_list:\n",
    "\n",
    "        temp1 = temp.loc[temp['npg_code']==ni]\n",
    "        model[str(rk)+'01'][i]=temp1.loc[temp['SV_01']!=0,'SV_01'].sum()\n",
    "        model[str(rk)+'02'][i]=temp1.loc[temp['SV_02']!=0,'SV_02'].sum()\n",
    "        model[str(rk)+'03'][i]=temp1.loc[temp['SV_03']!=0,'SV_03'].sum()\n",
    "        model[str(rk)+'04'][i]=temp1.loc[temp['SV_04']!=0,'SV_04'].sum()\n",
    "        model[str(rk)+'05'][i]=temp1.loc[temp['SV_05']!=0,'SV_05'].sum()\n",
    "        model[str(rk)+'06'][i]=temp1.loc[temp['SV_06']!=0,'SV_06'].sum()\n",
    "        model[str(rk)+'07'][i]=temp1.loc[temp['SV_07']!=0,'SV_07'].sum()\n",
    "        i+=1\n",
    "    sale_dict[\"{}\".format(rk)]=pd.DataFrame(model)\n",
    "    i=0\n"
   ]
  },
  {
   "cell_type": "code",
   "execution_count": 2180,
   "metadata": {},
   "outputs": [
    {
     "data": {
      "text/plain": [
       "dict_keys(['TRIVANDRUM_MS', 'TRIVANDRUM_KS', 'TRIVANDRUM_GS', 'TRIVANDRUM_WS', 'TRIVANDRUM_MT', 'TRIVANDRUM_CS', 'TRIVANDRUM_PS', 'TRISSUR_MS', 'TRISSUR_KS', 'TRISSUR_GS', 'TRISSUR_WS', 'TRISSUR_MT', 'TRISSUR_CS', 'TRISSUR_PS'])"
      ]
     },
     "execution_count": 2180,
     "metadata": {},
     "output_type": "execute_result"
    }
   ],
   "source": [
    "sale_dict.keys()"
   ]
  },
  {
   "cell_type": "code",
   "execution_count": 2182,
   "metadata": {},
   "outputs": [
    {
     "data": {
      "text/plain": [
       "'TP Col DenCrm Rs.20'"
      ]
     },
     "execution_count": 2182,
     "metadata": {},
     "output_type": "execute_result"
    }
   ],
   "source": [
    "product_dict['CP1111CODCX03']"
   ]
  },
  {
   "cell_type": "markdown",
   "metadata": {},
   "source": [
    "Extraction process for Quantity"
   ]
  },
  {
   "cell_type": "code",
   "execution_count": 2183,
   "metadata": {},
   "outputs": [],
   "source": [
    "quant_dict = {}\n"
   ]
  },
  {
   "cell_type": "code",
   "execution_count": 2184,
   "metadata": {},
   "outputs": [],
   "source": [
    "for rk in re_2_keys:\n",
    "    temp =re_2_dict[rk]\n",
    "    temp = temp.dropna()\n",
    "    #npg_list = list(temp['npg_code'].unique())\n",
    "    rows = npg_list\n",
    "    columns = [str(rk)+'01',str(rk)+'02',str(rk)+'03',str(rk)+'04',str(rk)+'05',str(rk)+'06',str(rk)+'07']\n",
    "    column1 = 'quant_dict-npg'\n",
    "    model = pd.DataFrame(columns=columns)\n",
    "    model.insert(0,column1,rows)\n",
    "    i=0\n",
    "    for ni in npg_list:\n",
    "\n",
    "        temp1 = temp.loc[temp['npg_code']==ni]\n",
    "        model[str(rk)+'01'][i]=int(temp1.loc[temp['QY_01']!=0,'QY_01'].sum())\n",
    "        model[str(rk)+'02'][i]=int(temp1.loc[temp['QY_02']!=0,'QY_02'].sum())\n",
    "        model[str(rk)+'03'][i]=int(temp1.loc[temp['QY_03']!=0,'QY_03'].sum())\n",
    "        model[str(rk)+'04'][i]=int(temp1.loc[temp['QY_04']!=0,'QY_04'].sum())\n",
    "        model[str(rk)+'05'][i]=int(temp1.loc[temp['QY_05']!=0,'QY_05'].sum())\n",
    "        model[str(rk)+'06'][i]=int(temp1.loc[temp['QY_06']!=0,'QY_06'].sum())\n",
    "        model[str(rk)+'07'][i]=int(temp1.loc[temp['QY_07']!=0,'QY_07'].sum())\n",
    "        i+=1\n",
    "    quant_dict[\"{}\".format(rk)]=pd.DataFrame(model)\n",
    "    i=0\n"
   ]
  },
  {
   "cell_type": "code",
   "execution_count": 2185,
   "metadata": {},
   "outputs": [
    {
     "data": {
      "text/plain": [
       "dict_keys(['TRIVANDRUM_MS', 'TRIVANDRUM_KS', 'TRIVANDRUM_GS', 'TRIVANDRUM_WS', 'TRIVANDRUM_MT', 'TRIVANDRUM_CS', 'TRIVANDRUM_PS', 'TRISSUR_MS', 'TRISSUR_KS', 'TRISSUR_GS', 'TRISSUR_WS', 'TRISSUR_MT', 'TRISSUR_CS', 'TRISSUR_PS'])"
      ]
     },
     "execution_count": 2185,
     "metadata": {},
     "output_type": "execute_result"
    }
   ],
   "source": [
    "quant_dict.keys()"
   ]
  },
  {
   "cell_type": "code",
   "execution_count": 2187,
   "metadata": {},
   "outputs": [
    {
     "data": {
      "text/plain": [
       "'TP Col DenCrm Rs.20'"
      ]
     },
     "execution_count": 2187,
     "metadata": {},
     "output_type": "execute_result"
    }
   ],
   "source": [
    "product_dict['CP1111CODCX03']"
   ]
  },
  {
   "cell_type": "markdown",
   "metadata": {},
   "source": [
    "Extraction process for Participation"
   ]
  },
  {
   "cell_type": "code",
   "execution_count": 2188,
   "metadata": {},
   "outputs": [],
   "source": [
    "part_dict = {}\n"
   ]
  },
  {
   "cell_type": "code",
   "execution_count": 2189,
   "metadata": {},
   "outputs": [
    {
     "name": "stderr",
     "output_type": "stream",
     "text": [
      "c:\\users\\samen\\appdata\\local\\programs\\python\\python37\\lib\\site-packages\\ipykernel_launcher.py:15: RuntimeWarning: invalid value encountered in long_scalars\n",
      "  from ipykernel import kernelapp as app\n",
      "c:\\users\\samen\\appdata\\local\\programs\\python\\python37\\lib\\site-packages\\ipykernel_launcher.py:16: RuntimeWarning: invalid value encountered in long_scalars\n",
      "  app.launch_new_instance()\n",
      "c:\\users\\samen\\appdata\\local\\programs\\python\\python37\\lib\\site-packages\\ipykernel_launcher.py:17: RuntimeWarning: invalid value encountered in long_scalars\n",
      "c:\\users\\samen\\appdata\\local\\programs\\python\\python37\\lib\\site-packages\\ipykernel_launcher.py:18: RuntimeWarning: invalid value encountered in long_scalars\n",
      "c:\\users\\samen\\appdata\\local\\programs\\python\\python37\\lib\\site-packages\\ipykernel_launcher.py:19: RuntimeWarning: invalid value encountered in long_scalars\n",
      "c:\\users\\samen\\appdata\\local\\programs\\python\\python37\\lib\\site-packages\\ipykernel_launcher.py:20: RuntimeWarning: invalid value encountered in long_scalars\n",
      "c:\\users\\samen\\appdata\\local\\programs\\python\\python37\\lib\\site-packages\\ipykernel_launcher.py:21: RuntimeWarning: invalid value encountered in long_scalars\n"
     ]
    }
   ],
   "source": [
    "for rk in re_2_keys:\n",
    "    temp =re_2_dict[rk]\n",
    "    temp = temp.dropna()\n",
    "    cust_count = len(temp['customer'].unique())\n",
    "    #npg_list = list(temp['npg_code'].unique())\n",
    "    rows = npg_list\n",
    "    columns = [str(rk)+'01%',str(rk)+'02%',str(rk)+'03%',str(rk)+'04%',str(rk)+'05%',str(rk)+'06%',str(rk)+'07%']\n",
    "    column1 = 'part_dict-npg'\n",
    "    model = pd.DataFrame(columns=columns)\n",
    "    model.insert(0,column1,rows)\n",
    "    i=0\n",
    "    for ni in npg_list:\n",
    "\n",
    "        temp1 = temp.loc[temp['npg_code']==ni]\n",
    "        model[str(rk)+'01%'][i]=round((temp1.loc[temp['M_01']=='Y','M_01'].count()/cust_count)*100,2)\n",
    "        model[str(rk)+'02%'][i]=round((temp1.loc[temp['M_02']=='Y','M_02'].count()/cust_count)*100,2)\n",
    "        model[str(rk)+'03%'][i]=round((temp1.loc[temp['M_03']=='Y','M_03'].count()/cust_count)*100,2)\n",
    "        model[str(rk)+'04%'][i]=round((temp1.loc[temp['M_04']=='Y','M_04'].count()/cust_count)*100,2)\n",
    "        model[str(rk)+'05%'][i]=round((temp1.loc[temp['M_05']=='Y','M_05'].count()/cust_count)*100,2)\n",
    "        model[str(rk)+'06%'][i]=round((temp1.loc[temp['M_06']=='Y','M_06'].count()/cust_count)*100,2)\n",
    "        model[str(rk)+'07%'][i]=round((temp1.loc[temp['M_07']=='Y','M_07'].count()/cust_count)*100,2)\n",
    "        i+=1\n",
    "    part_dict[\"{}\".format(rk)]=pd.DataFrame(model)\n",
    "    i=0\n"
   ]
  },
  {
   "cell_type": "code",
   "execution_count": 2190,
   "metadata": {},
   "outputs": [
    {
     "data": {
      "text/plain": [
       "dict_keys(['TRIVANDRUM_MS', 'TRIVANDRUM_KS', 'TRIVANDRUM_GS', 'TRIVANDRUM_WS', 'TRIVANDRUM_MT', 'TRIVANDRUM_CS', 'TRIVANDRUM_PS', 'TRISSUR_MS', 'TRISSUR_KS', 'TRISSUR_GS', 'TRISSUR_WS', 'TRISSUR_MT', 'TRISSUR_CS', 'TRISSUR_PS'])"
      ]
     },
     "execution_count": 2190,
     "metadata": {},
     "output_type": "execute_result"
    }
   ],
   "source": [
    "part_dict.keys()"
   ]
  },
  {
   "cell_type": "code",
   "execution_count": 2192,
   "metadata": {},
   "outputs": [
    {
     "data": {
      "text/plain": [
       "'TP Col DenCrm 200gX2+100g'"
      ]
     },
     "execution_count": 2192,
     "metadata": {},
     "output_type": "execute_result"
    }
   ],
   "source": [
    "product_dict['CP1111CODCX11']"
   ]
  },
  {
   "cell_type": "markdown",
   "metadata": {},
   "source": [
    "# Fetching of [Sales value, Participation, quantity for each] and stored in respective dicts"
   ]
  },
  {
   "cell_type": "code",
   "execution_count": 2194,
   "metadata": {},
   "outputs": [],
   "source": [
    "final_sale_df = pd.DataFrame()"
   ]
  },
  {
   "cell_type": "code",
   "execution_count": 2195,
   "metadata": {},
   "outputs": [],
   "source": [
    "for key in list(sale_dict.keys()):\n",
    "    final_sale_df = pd.concat([final_sale_df,sale_dict[key]],axis=1)"
   ]
  },
  {
   "cell_type": "markdown",
   "metadata": {},
   "source": [
    "quantity values dict"
   ]
  },
  {
   "cell_type": "code",
   "execution_count": 2197,
   "metadata": {},
   "outputs": [],
   "source": [
    "final_quant_df = pd.DataFrame()"
   ]
  },
  {
   "cell_type": "code",
   "execution_count": 2198,
   "metadata": {},
   "outputs": [],
   "source": [
    "for key in list(quant_dict.keys()):\n",
    "    final_quant_df = pd.concat([final_quant_df,quant_dict[key]],axis=1)"
   ]
  },
  {
   "cell_type": "markdown",
   "metadata": {},
   "source": [
    "participation value dict"
   ]
  },
  {
   "cell_type": "code",
   "execution_count": 2200,
   "metadata": {},
   "outputs": [],
   "source": [
    "final_part_df = pd.DataFrame()"
   ]
  },
  {
   "cell_type": "code",
   "execution_count": 2201,
   "metadata": {},
   "outputs": [],
   "source": [
    "for key in list(part_dict.keys()):\n",
    "    final_part_df = pd.concat([final_part_df,part_dict[key]],axis=1)"
   ]
  },
  {
   "cell_type": "markdown",
   "metadata": {},
   "source": [
    " "
   ]
  },
  {
   "cell_type": "markdown",
   "metadata": {},
   "source": [
    " "
   ]
  },
  {
   "cell_type": "markdown",
   "metadata": {},
   "source": [
    "# Getting the Top 20 from each of the above - sales,quant,part"
   ]
  },
  {
   "cell_type": "markdown",
   "metadata": {},
   "source": [
    "initial modifications"
   ]
  }
 ],
 "metadata": {
  "kernelspec": {
   "display_name": "Python 3",
   "language": "python",
   "name": "python3"
  },
  "language_info": {
   "codemirror_mode": {
    "name": "ipython",
    "version": 3
   },
   "file_extension": ".py",
   "mimetype": "text/x-python",
   "name": "python",
   "nbconvert_exporter": "python",
   "pygments_lexer": "ipython3",
   "version": "3.7.7"
  }
 },
 "nbformat": 4,
 "nbformat_minor": 2
}
